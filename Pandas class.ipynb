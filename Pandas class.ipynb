{
 "cells": [
  {
   "cell_type": "markdown",
   "id": "9aeee7ff-bd6b-4e13-9e7b-2cb4c74bb52a",
   "metadata": {},
   "source": [
    "### Pandas"
   ]
  },
  {
   "cell_type": "code",
   "execution_count": null,
   "id": "3315c54d-82a0-4f0d-b294-020519b8ac65",
   "metadata": {},
   "outputs": [],
   "source": [
    "### pip install pandas\n",
    "## pip list\n"
   ]
  },
  {
   "cell_type": "code",
   "execution_count": 2,
   "id": "5b9b2034-7540-487b-904c-2fb9ea2dc693",
   "metadata": {},
   "outputs": [],
   "source": [
    "import pandas as pd"
   ]
  },
  {
   "cell_type": "code",
   "execution_count": 2,
   "id": "5d62dfa5-c3ac-4488-b565-c85c9f0e55ea",
   "metadata": {},
   "outputs": [
    {
     "name": "stdout",
     "output_type": "stream",
     "text": [
      "0    1\n",
      "1    2\n",
      "2    3\n",
      "3    5\n",
      "4    6\n",
      "dtype: int64\n"
     ]
    }
   ],
   "source": [
    "l = [1,2,3,5,6]\n",
    "pd_sr = pd.Series(l)\n",
    "print(pd_sr)"
   ]
  },
  {
   "cell_type": "code",
   "execution_count": 4,
   "id": "c029a97b-2776-4f4c-9e22-6f8dec3512f9",
   "metadata": {},
   "outputs": [
    {
     "name": "stdout",
     "output_type": "stream",
     "text": [
      "a    (1, 1)\n",
      "b    (2, 2)\n",
      "c    (3, 3)\n",
      "d    (4, 4)\n",
      "e    (5, 5)\n",
      "dtype: object\n"
     ]
    }
   ],
   "source": [
    "l = [('1',1),('2',2),('3',3),('4',4),('5',5)]\n",
    "sr = pd.Series(l, index=['a','b','c','d','e'])\n",
    "print(sr)"
   ]
  },
  {
   "cell_type": "code",
   "execution_count": 5,
   "id": "2fd7a096-f185-420d-bed7-fbc41ee142b1",
   "metadata": {},
   "outputs": [
    {
     "name": "stdout",
     "output_type": "stream",
     "text": [
      "ram      15\n",
      "shyam    14\n",
      "gita     10\n",
      "dtype: int64\n"
     ]
    }
   ],
   "source": [
    "d = {\"ram\":15,\"shyam\":14,\"gita\":10}\n",
    "sr = pd.Series(d)\n",
    "print(sr)\n"
   ]
  },
  {
   "cell_type": "code",
   "execution_count": null,
   "id": "79ed29c8-6270-47e4-8630-ce4c83f3cc1f",
   "metadata": {},
   "outputs": [],
   "source": [
    "#"
   ]
  },
  {
   "cell_type": "code",
   "execution_count": null,
   "id": "aa169877-ac6c-4640-9188-7e6bf094c243",
   "metadata": {},
   "outputs": [],
   "source": []
  },
  {
   "cell_type": "code",
   "execution_count": null,
   "id": "f0133155-752e-49a7-bcdc-42cb254cec4b",
   "metadata": {},
   "outputs": [],
   "source": []
  },
  {
   "cell_type": "code",
   "execution_count": 6,
   "id": "fa781fc6-27c0-41df-8c59-edaf0f62f4dc",
   "metadata": {},
   "outputs": [
    {
     "name": "stdout",
     "output_type": "stream",
     "text": [
      "   ram  shyam  gita\n",
      "0   15     14    10\n",
      "1   15     14    10\n"
     ]
    }
   ],
   "source": [
    "## 2-d\n",
    "##Data frame\n",
    "d = [{\"ram\":15,\"shyam\":14,\"gita\":10},{\"ram\":15,\"shyam\":14,\"gita\":10}]\n",
    "df=pd.DataFrame(d)\n",
    "print(df)"
   ]
  },
  {
   "cell_type": "code",
   "execution_count": 11,
   "id": "fb783cbc-f564-4d7d-b223-608e95aa70e5",
   "metadata": {},
   "outputs": [
    {
     "name": "stdout",
     "output_type": "stream",
     "text": [
      "   Name  Age\n",
      "0  sita   12\n",
      "1  gita   10\n",
      "2   ram   15\n"
     ]
    }
   ],
   "source": [
    "l=[[\"sita\",12],[\"gita\",10],[\"ram\",15]]\n",
    "df = pd.DataFrame(l,columns=[\"Name\",\"Age\"])\n",
    "print(df)"
   ]
  },
  {
   "cell_type": "code",
   "execution_count": 16,
   "id": "9a97c532-f8a0-4915-a306-c09c3d948508",
   "metadata": {},
   "outputs": [
    {
     "name": "stdout",
     "output_type": "stream",
     "text": [
      "   Name  Age\n",
      "0  sita   12\n",
      "1  gita   10\n"
     ]
    }
   ],
   "source": [
    "l=[[\"sita\",12],[\"gita\",10],[\"ram\",15]]\n",
    "df = pd.DataFrame(l,columns=[\"Name\",\"Age\"])\n",
    "print(df.head(2))"
   ]
  },
  {
   "cell_type": "code",
   "execution_count": null,
   "id": "213e987c-f6bb-4c2f-99b8-dc535470fd91",
   "metadata": {},
   "outputs": [],
   "source": [
    "l=[[\"sita\",12],[\"gita\",10],[\"ram\",15]]\n",
    "df = pd.DataFrame(l,columns=[\"Name\",\"Age\"])\n",
    "print(df.head(2)[\"Age\"])"
   ]
  },
  {
   "cell_type": "code",
   "execution_count": 9,
   "id": "ef0bd270-57ff-40cd-9721-f8457b5307f9",
   "metadata": {},
   "outputs": [
    {
     "name": "stdout",
     "output_type": "stream",
     "text": [
      "   Name  Age\n",
      "0  gita    1\n",
      "1  sita    2\n"
     ]
    }
   ],
   "source": [
    "l = {\"Name\":[\"gita\",\"sita\"],\"Age\":[1,2]}\n",
    "df = pd.DataFrame(l,columns=[\"Name\",\"Age\"])\n",
    "print(df)"
   ]
  },
  {
   "cell_type": "code",
   "execution_count": 41,
   "id": "51c2184e-950e-4c5e-8465-ba9217549dcd",
   "metadata": {},
   "outputs": [
    {
     "name": "stdout",
     "output_type": "stream",
     "text": [
      "          ITEM  QUANTITY   RATE   AMOUNT\n",
      "0      CABINET        40   2356    94240\n",
      "1          DVD        45   4000   180000\n",
      "2          HDD        20   4523    90460\n",
      "3          HDD        36   8923   321228\n",
      "4          HDD        63   2568   161784\n",
      "5   KEY BOARD         36   1500    54000\n",
      "6   KEYV BOARD        78   1295   101010\n",
      "7          LCD        17   2510    42670\n",
      "8          LCD        45   2563   115335\n",
      "9          LCD        78  12000   936000\n",
      "10         LED        45  98000  4410000\n",
      "11         LED        55   5000   275000\n",
      "12      MOUSE         49    500    24500\n",
      "13      MOUSE         71   7854   557634\n",
      "14        RAM         12   8000    96000\n",
      "15        RAM         24   4710   113040\n",
      "16        RAM         25   5000   125000\n",
      "17        RAM         89   1204   107156\n",
      "18         UPS        19   4895    93005\n"
     ]
    }
   ],
   "source": [
    "### reading csv file\n",
    "file = pd.read_csv(r\"C:\\Users\\lenovo\\Desktop\\data.csv\")\n",
    "print(file)"
   ]
  },
  {
   "cell_type": "code",
   "execution_count": 8,
   "id": "903596a6-207d-4d36-bffc-85c75c32cc23",
   "metadata": {},
   "outputs": [
    {
     "name": "stdout",
     "output_type": "stream",
     "text": [
      "         ITEM  QUANTITY   RATE  AMOUNT\n",
      "0     CABINET        40   2356   94240\n",
      "1         DVD        45   4000  180000\n",
      "2         HDD        20   4523   90460\n",
      "3         HDD        36   8923  321228\n",
      "4         HDD        63   2568  161784\n",
      "5  KEY BOARD         36   1500   54000\n",
      "6  KEYV BOARD        78   1295  101010\n",
      "7         LCD        17   2510   42670\n",
      "8         LCD        45   2563  115335\n",
      "9         LCD        78  12000  936000\n"
     ]
    }
   ],
   "source": [
    "\n",
    "### .loc method\n",
    "file = pd.read_csv(\"../data.csv\")  ##  another method to write path of file\n",
    "print(file.head(10))"
   ]
  },
  {
   "cell_type": "code",
   "execution_count": 9,
   "id": "68ada775-f24e-409f-b9a2-0a00b6accafc",
   "metadata": {},
   "outputs": [
    {
     "name": "stdout",
     "output_type": "stream",
     "text": [
      "         ITEM  QUANTITY  RATE  AMOUNT\n",
      "4         HDD        63  2568  161784\n",
      "5  KEY BOARD         36  1500   54000\n",
      "6  KEYV BOARD        78  1295  101010\n"
     ]
    }
   ],
   "source": [
    "file = pd.read_csv(\"../data.csv\")  \n",
    "print(file.head(10).loc[4:6])"
   ]
  },
  {
   "cell_type": "code",
   "execution_count": 17,
   "id": "ef19e5a7-0a13-4cc4-ae82-79273afcd81b",
   "metadata": {},
   "outputs": [
    {
     "name": "stdout",
     "output_type": "stream",
     "text": [
      "   ITEM  QUANTITY   RATE   AMOUNT\n",
      "4   HDD        63   2568   161784\n",
      "8   LCD        45   2563   115335\n",
      "10  LED        45  98000  4410000\n"
     ]
    }
   ],
   "source": [
    "file = pd.read_csv(\"../data.csv\")  \n",
    "print(file.loc[[4,8,10]])"
   ]
  },
  {
   "cell_type": "code",
   "execution_count": 12,
   "id": "3f1b6c81-b906-4da8-bfa7-33ecd00635de",
   "metadata": {},
   "outputs": [
    {
     "name": "stdout",
     "output_type": "stream",
     "text": [
      "         ITEM  RATE\n",
      "4         HDD  2568\n",
      "5  KEY BOARD   1500\n",
      "6  KEYV BOARD  1295\n"
     ]
    }
   ],
   "source": [
    "file = pd.read_csv(\"../data.csv\")  \n",
    "print(file.loc[4:6,['ITEM',\"RATE\"]])"
   ]
  },
  {
   "cell_type": "code",
   "execution_count": 13,
   "id": "63a81223-324e-45fe-8850-62f4dae0a4b3",
   "metadata": {},
   "outputs": [
    {
     "name": "stdout",
     "output_type": "stream",
     "text": [
      "Index(['ITEM', 'QUANTITY', 'RATE', 'AMOUNT'], dtype='object')\n"
     ]
    }
   ],
   "source": [
    "### COLUMN NAMES FIND\n",
    "print(file.columns)"
   ]
  },
  {
   "cell_type": "code",
   "execution_count": 21,
   "id": "052bf085-ab72-4fe8-8f3c-ec21a191fe6a",
   "metadata": {},
   "outputs": [
    {
     "name": "stdout",
     "output_type": "stream",
     "text": [
      "      ITEM  QUANTITY  RATE  AMOUNT\n",
      "0  CABINET        40  2356   94240\n",
      "1      DVD        45  4000  180000\n",
      "2      HDD        20  4523   90460\n",
      "3      HDD        36  8923  321228\n",
      "4      HDD        63  2568  161784\n",
      "CABINET\n"
     ]
    }
   ],
   "source": [
    "## iloc method indexing\n",
    "print(file.head())\n",
    "\n",
    "## pass indexin row aur column\n",
    "print(file.iloc[0,0])"
   ]
  },
  {
   "cell_type": "code",
   "execution_count": 25,
   "id": "b4c696fa-8c1b-44ae-b307-59890582a0f3",
   "metadata": {},
   "outputs": [
    {
     "name": "stdout",
     "output_type": "stream",
     "text": [
      "      ITEM  QUANTITY  RATE\n",
      "0  CABINET        40  2356\n",
      "1      DVD        45  4000\n",
      "2      HDD        20  4523\n",
      "3      HDD        36  8923\n",
      "4      HDD        63  2568\n"
     ]
    }
   ],
   "source": [
    "### slicing of row and column in ilock method\n",
    "print(file.iloc[0:5,0:3])"
   ]
  },
  {
   "cell_type": "code",
   "execution_count": 26,
   "id": "3ff42158-1fa4-4035-b037-27fbc72bf714",
   "metadata": {},
   "outputs": [
    {
     "name": "stdout",
     "output_type": "stream",
     "text": [
      "         ITEM  QUANTITY  RATE\n",
      "0     CABINET        40  2356\n",
      "3         HDD        36  8923\n",
      "5  KEY BOARD         36  1500\n"
     ]
    }
   ],
   "source": [
    "print(file.iloc[[0,3,5],[0,1,2]])"
   ]
  },
  {
   "cell_type": "code",
   "execution_count": 28,
   "id": "52979b7b-bf1b-47f8-aca3-781efce9f4eb",
   "metadata": {},
   "outputs": [
    {
     "name": "stdout",
     "output_type": "stream",
     "text": [
      "        QUANTITY         RATE         AMOUNT\n",
      "count   5.000000     5.000000       5.000000\n",
      "mean   40.800000  4474.000000  169542.400000\n",
      "std    15.546704  2652.330956   93678.376442\n",
      "min    20.000000  2356.000000   90460.000000\n",
      "25%    36.000000  2568.000000   94240.000000\n",
      "50%    40.000000  4000.000000  161784.000000\n",
      "75%    45.000000  4523.000000  180000.000000\n",
      "max    63.000000  8923.000000  321228.000000\n"
     ]
    }
   ],
   "source": [
    "### describe method\n",
    "print(file.head().describe())"
   ]
  },
  {
   "cell_type": "code",
   "execution_count": 9,
   "id": "5bbe661d-1674-4e1a-8c75-24cc54b261ae",
   "metadata": {},
   "outputs": [
    {
     "ename": "NameError",
     "evalue": "name 'file' is not defined",
     "output_type": "error",
     "traceback": [
      "\u001b[1;31m---------------------------------------------------------------------------\u001b[0m",
      "\u001b[1;31mNameError\u001b[0m                                 Traceback (most recent call last)",
      "Cell \u001b[1;32mIn[9], line 1\u001b[0m\n\u001b[1;32m----> 1\u001b[0m \u001b[38;5;28mprint\u001b[39m(\u001b[43mfile\u001b[49m\u001b[38;5;241m.\u001b[39mhead()\u001b[38;5;241m.\u001b[39mdescribe()\u001b[38;5;241m.\u001b[39mloc[\u001b[38;5;124m'\u001b[39m\u001b[38;5;124mmean\u001b[39m\u001b[38;5;124m'\u001b[39m]) \u001b[38;5;66;03m## access any thing\u001b[39;00m\n",
      "\u001b[1;31mNameError\u001b[0m: name 'file' is not defined"
     ]
    }
   ],
   "source": [
    "print(file.head().describe().loc['mean']) ## access any thing"
   ]
  },
  {
   "cell_type": "code",
   "execution_count": 30,
   "id": "aebf47fe-0f9b-4e1a-8511-948bf4081c34",
   "metadata": {},
   "outputs": [
    {
     "name": "stdout",
     "output_type": "stream",
     "text": [
      "   ram  shyam  gita\n",
      "0   15     14    10\n",
      "1   15     14    10\n",
      "   ram  shyam  gita\n",
      "0   17     16    12\n",
      "1   17     16    12\n"
     ]
    }
   ],
   "source": [
    "### apply method\n",
    "l = [{\"ram\":15,\"shyam\":14,\"gita\":10},{\"ram\":15,\"shyam\":14,\"gita\":10}]\n",
    "df = pd.DataFrame(l)\n",
    "print(df)\n",
    "def fun(val):\n",
    "    return val+2\n",
    "newdf = df.apply(fun)\n",
    "print(newdf)"
   ]
  },
  {
   "cell_type": "code",
   "execution_count": 31,
   "id": "618a0eb6-d343-491a-b235-cd5273942bd4",
   "metadata": {},
   "outputs": [
    {
     "name": "stdout",
     "output_type": "stream",
     "text": [
      "   ram  shyam  gita\n",
      "0   15     14    10\n",
      "1   15     14    10\n",
      "   ram  shyam  gita\n",
      "0   17     16    12\n",
      "1   17     16    12\n"
     ]
    }
   ],
   "source": [
    "l = [{\"ram\":15,\"shyam\":14,\"gita\":10},{\"ram\":15,\"shyam\":14,\"gita\":10}]\n",
    "df = pd.DataFrame(l)\n",
    "print(df)\n",
    "\n",
    "newdf = df.apply(lambda val:val+2)\n",
    "print(newdf)"
   ]
  },
  {
   "cell_type": "code",
   "execution_count": 32,
   "id": "b8930581-f9be-46f4-ac9c-65c560fe7782",
   "metadata": {},
   "outputs": [
    {
     "data": {
      "text/html": [
       "<div>\n",
       "<style scoped>\n",
       "    .dataframe tbody tr th:only-of-type {\n",
       "        vertical-align: middle;\n",
       "    }\n",
       "\n",
       "    .dataframe tbody tr th {\n",
       "        vertical-align: top;\n",
       "    }\n",
       "\n",
       "    .dataframe thead th {\n",
       "        text-align: right;\n",
       "    }\n",
       "</style>\n",
       "<table border=\"1\" class=\"dataframe\">\n",
       "  <thead>\n",
       "    <tr style=\"text-align: right;\">\n",
       "      <th></th>\n",
       "      <th>ITEM</th>\n",
       "      <th>QUANTITY</th>\n",
       "      <th>RATE</th>\n",
       "      <th>AMOUNT</th>\n",
       "    </tr>\n",
       "  </thead>\n",
       "  <tbody>\n",
       "    <tr>\n",
       "      <th>min</th>\n",
       "      <td>CABINET</td>\n",
       "      <td>12</td>\n",
       "      <td>500</td>\n",
       "      <td>24500</td>\n",
       "    </tr>\n",
       "    <tr>\n",
       "      <th>max</th>\n",
       "      <td>UPS</td>\n",
       "      <td>89</td>\n",
       "      <td>98000</td>\n",
       "      <td>4410000</td>\n",
       "    </tr>\n",
       "  </tbody>\n",
       "</table>\n",
       "</div>"
      ],
      "text/plain": [
       "        ITEM  QUANTITY   RATE   AMOUNT\n",
       "min  CABINET        12    500    24500\n",
       "max      UPS        89  98000  4410000"
      ]
     },
     "execution_count": 32,
     "metadata": {},
     "output_type": "execute_result"
    }
   ],
   "source": [
    "### aggregate function (## alternate of describe method)\n",
    "file.aggregate(['min','max'])"
   ]
  },
  {
   "cell_type": "code",
   "execution_count": 37,
   "id": "b3da6e39-1c38-4ab7-8ec3-a7ed85f22401",
   "metadata": {},
   "outputs": [
    {
     "data": {
      "text/html": [
       "<div>\n",
       "<style scoped>\n",
       "    .dataframe tbody tr th:only-of-type {\n",
       "        vertical-align: middle;\n",
       "    }\n",
       "\n",
       "    .dataframe tbody tr th {\n",
       "        vertical-align: top;\n",
       "    }\n",
       "\n",
       "    .dataframe thead th {\n",
       "        text-align: right;\n",
       "    }\n",
       "</style>\n",
       "<table border=\"1\" class=\"dataframe\">\n",
       "  <thead>\n",
       "    <tr style=\"text-align: right;\">\n",
       "      <th></th>\n",
       "      <th>QUANTITY</th>\n",
       "      <th>RATE</th>\n",
       "    </tr>\n",
       "  </thead>\n",
       "  <tbody>\n",
       "    <tr>\n",
       "      <th>min</th>\n",
       "      <td>12.0</td>\n",
       "      <td>NaN</td>\n",
       "    </tr>\n",
       "    <tr>\n",
       "      <th>max</th>\n",
       "      <td>89.0</td>\n",
       "      <td>NaN</td>\n",
       "    </tr>\n",
       "    <tr>\n",
       "      <th>mean</th>\n",
       "      <td>NaN</td>\n",
       "      <td>9336.894737</td>\n",
       "    </tr>\n",
       "  </tbody>\n",
       "</table>\n",
       "</div>"
      ],
      "text/plain": [
       "      QUANTITY         RATE\n",
       "min       12.0          NaN\n",
       "max       89.0          NaN\n",
       "mean       NaN  9336.894737"
      ]
     },
     "execution_count": 37,
     "metadata": {},
     "output_type": "execute_result"
    }
   ],
   "source": [
    "file.aggregate({'QUANTITY':['min','max'],'RATE':['mean']})"
   ]
  },
  {
   "cell_type": "code",
   "execution_count": 38,
   "id": "723db110-a46e-46d2-953a-6d3ef5c65b2c",
   "metadata": {},
   "outputs": [
    {
     "name": "stdout",
     "output_type": "stream",
     "text": [
      "      ITEM  QUANTITY  RATE  AMOUNT\n",
      "0  CABINET        40  2356   94240\n",
      "1      DVD        45  4000  180000\n",
      "2      HDD        20  4523   90460\n",
      "3      HDD        36  8923  321228\n",
      "4      HDD        63  2568  161784\n"
     ]
    }
   ],
   "source": [
    "print(file.head())"
   ]
  },
  {
   "cell_type": "code",
   "execution_count": 42,
   "id": "5a849b6f-486e-457a-babb-e8783483282a",
   "metadata": {},
   "outputs": [
    {
     "name": "stdout",
     "output_type": "stream",
     "text": [
      "      ITEM  QUANTITY  AMOUNT\n",
      "0  CABINET        40   94240\n",
      "1      DVD        45  180000\n",
      "2      HDD        20   90460\n",
      "3      HDD        36  321228\n",
      "4      HDD        63  161784\n"
     ]
    }
   ],
   "source": [
    "### drop method to delete column (if axis = 1 then delete column and if axis =0 then delete row\n",
    "file.drop(['RATE'],axis =1,inplace=True)\n",
    "print(file.head())"
   ]
  },
  {
   "cell_type": "code",
   "execution_count": 43,
   "id": "af0952cd-91fd-4add-b331-333ed03c3b96",
   "metadata": {},
   "outputs": [
    {
     "name": "stdout",
     "output_type": "stream",
     "text": [
      "   ram  shyam  gita\n",
      "0   15     14    10\n",
      "1   15     14    10\n",
      "   sum  ram  shyam  gita\n",
      "0    1   15     14    10\n",
      "1    2   15     14    10\n"
     ]
    }
   ],
   "source": [
    "### insert for column\n",
    "l = [{\"ram\":15,\"shyam\":14,\"gita\":10},{\"ram\":15,\"shyam\":14,\"gita\":10}]\n",
    "df = pd.DataFrame(l)\n",
    "print(df)\n",
    "df.insert(0,\"sum\",[1,2])\n",
    "print(df)"
   ]
  },
  {
   "cell_type": "code",
   "execution_count": 44,
   "id": "5052e531-df20-4fa4-9f88-8b22029bea53",
   "metadata": {},
   "outputs": [
    {
     "name": "stdout",
     "output_type": "stream",
     "text": [
      "      ITEM  QUANTITY  AMOUNT  sum\n",
      "0  CABINET        40   94240    1\n",
      "1      DVD        45  180000    2\n",
      "2      HDD        20   90460    3\n",
      "3      HDD        36  321228    4\n",
      "4      HDD        63  161784    5\n"
     ]
    }
   ],
   "source": [
    "newfile=file.head()\n",
    "newfile.insert(3,\"sum\",[1,2,3,4,5])\n",
    "print(newfile)"
   ]
  },
  {
   "cell_type": "code",
   "execution_count": null,
   "id": "ba76049d-34ab-4ebf-952d-7f807f073a4e",
   "metadata": {},
   "outputs": [],
   "source": [
    "## insert through loc method\n",
    "newData = [1,2,3,4,5]"
   ]
  },
  {
   "cell_type": "code",
   "execution_count": null,
   "id": "ec44aba0-8358-4f83-a284-62bd831921e4",
   "metadata": {},
   "outputs": [],
   "source": []
  },
  {
   "cell_type": "code",
   "execution_count": 46,
   "id": "4959b955-5bb4-4dd7-a84e-c20b11889bd2",
   "metadata": {},
   "outputs": [
    {
     "name": "stdout",
     "output_type": "stream",
     "text": [
      "         ITEM  QUANTITY  AMOUNT\n",
      "7         LCD        17   42670\n",
      "2         HDD        20   90460\n",
      "3         HDD        36  321228\n",
      "5  KEY BOARD         36   54000\n",
      "0     CABINET        40   94240\n",
      "1         DVD        45  180000\n",
      "8         LCD        45  115335\n",
      "4         HDD        63  161784\n",
      "6  KEYV BOARD        78  101010\n",
      "9         LCD        78  936000\n"
     ]
    },
    {
     "name": "stderr",
     "output_type": "stream",
     "text": [
      "C:\\Users\\lenovo\\AppData\\Local\\Temp\\ipykernel_6276\\1965546069.py:3: SettingWithCopyWarning: \n",
      "A value is trying to be set on a copy of a slice from a DataFrame\n",
      "\n",
      "See the caveats in the documentation: https://pandas.pydata.org/pandas-docs/stable/user_guide/indexing.html#returning-a-view-versus-a-copy\n",
      "  newfile.sort_values(['QUANTITY'],axis=0,inplace=True)\n"
     ]
    }
   ],
   "source": [
    "### sort values\n",
    "newfile=file.head(10)\n",
    "newfile.sort_values(['QUANTITY'],axis=0,inplace=True)\n",
    "print(newfile)"
   ]
  },
  {
   "cell_type": "code",
   "execution_count": null,
   "id": "be7614c8-138e-49e3-a6bc-dc14020d6621",
   "metadata": {},
   "outputs": [],
   "source": [
    "command to install pip = pip install openyxl"
   ]
  },
  {
   "cell_type": "code",
   "execution_count": 53,
   "id": "af13aa12-6320-4937-bc3c-6b21b7e7587e",
   "metadata": {},
   "outputs": [
    {
     "name": "stdout",
     "output_type": "stream",
     "text": [
      "['Sheet1', 'Sheet2']\n",
      "      ITEM  QUANTITY  RATE  AMOUNT\n",
      "0  CABINET        40  2356   94240\n",
      "1      DVD        45  4000  180000\n",
      "2      HDD        20  4523   90460\n",
      "3      HDD        36  8923  321228\n",
      "4      HDD        63  2568  161784\n"
     ]
    }
   ],
   "source": [
    "### read excel file\n",
    "ex = pd.ExcelFile(\"../excel.xlsx\")\n",
    "print(ex.sheet_names)\n",
    "df=ex.parse('Sheet2')\n",
    "print(df.head())\n"
   ]
  },
  {
   "cell_type": "code",
   "execution_count": 6,
   "id": "6c809917-e82b-4363-bddd-8b9cd7aa45e8",
   "metadata": {},
   "outputs": [
    {
     "name": "stdout",
     "output_type": "stream",
     "text": [
      "   name   class  r.no  phone \n",
      "0   kaif      6    12    8956\n",
      "1  hamza      9    15    2503\n",
      "2  abhay      3    10      69\n",
      "3    ram      8     3    5692\n",
      "4  shyam      5    45     456\n"
     ]
    }
   ],
   "source": [
    "ex = pd.read_excel(\"../book.xlsx\")\n",
    "print(ex.head())\n"
   ]
  },
  {
   "cell_type": "code",
   "execution_count": 73,
   "id": "07f1540f-6cb6-4dca-ab5b-60a351641e44",
   "metadata": {},
   "outputs": [
    {
     "name": "stdout",
     "output_type": "stream",
     "text": [
      "0     kaif\n",
      "1    hamza\n",
      "2    abhay\n",
      "3      ram\n",
      "4    shyam\n",
      "Name: name , dtype: object\n"
     ]
    }
   ],
   "source": [
    "s = ex.iloc[:,0]\n",
    "print(s)"
   ]
  },
  {
   "cell_type": "code",
   "execution_count": 8,
   "id": "a5a32ab9-9dc5-412b-8db2-f14243c84eb1",
   "metadata": {},
   "outputs": [
    {
     "name": "stdout",
     "output_type": "stream",
     "text": [
      "0     kaif\n",
      "1    hamza\n",
      "2    abhay\n",
      "3      ram\n",
      "4    shyam\n",
      "Name: name , dtype: object\n"
     ]
    },
    {
     "ename": "KeyError",
     "evalue": "'name'",
     "output_type": "error",
     "traceback": [
      "\u001b[1;31m---------------------------------------------------------------------------\u001b[0m",
      "\u001b[1;31mKeyError\u001b[0m                                  Traceback (most recent call last)",
      "File \u001b[1;32m~\\AppData\\Local\\Programs\\Python\\Python312\\Lib\\site-packages\\pandas\\core\\indexes\\base.py:3805\u001b[0m, in \u001b[0;36mIndex.get_loc\u001b[1;34m(self, key)\u001b[0m\n\u001b[0;32m   3804\u001b[0m \u001b[38;5;28;01mtry\u001b[39;00m:\n\u001b[1;32m-> 3805\u001b[0m     \u001b[38;5;28;01mreturn\u001b[39;00m \u001b[38;5;28;43mself\u001b[39;49m\u001b[38;5;241;43m.\u001b[39;49m\u001b[43m_engine\u001b[49m\u001b[38;5;241;43m.\u001b[39;49m\u001b[43mget_loc\u001b[49m\u001b[43m(\u001b[49m\u001b[43mcasted_key\u001b[49m\u001b[43m)\u001b[49m\n\u001b[0;32m   3806\u001b[0m \u001b[38;5;28;01mexcept\u001b[39;00m \u001b[38;5;167;01mKeyError\u001b[39;00m \u001b[38;5;28;01mas\u001b[39;00m err:\n",
      "File \u001b[1;32mindex.pyx:167\u001b[0m, in \u001b[0;36mpandas._libs.index.IndexEngine.get_loc\u001b[1;34m()\u001b[0m\n",
      "File \u001b[1;32mindex.pyx:196\u001b[0m, in \u001b[0;36mpandas._libs.index.IndexEngine.get_loc\u001b[1;34m()\u001b[0m\n",
      "File \u001b[1;32mpandas\\\\_libs\\\\hashtable_class_helper.pxi:7081\u001b[0m, in \u001b[0;36mpandas._libs.hashtable.PyObjectHashTable.get_item\u001b[1;34m()\u001b[0m\n",
      "File \u001b[1;32mpandas\\\\_libs\\\\hashtable_class_helper.pxi:7089\u001b[0m, in \u001b[0;36mpandas._libs.hashtable.PyObjectHashTable.get_item\u001b[1;34m()\u001b[0m\n",
      "\u001b[1;31mKeyError\u001b[0m: 'name'",
      "\nThe above exception was the direct cause of the following exception:\n",
      "\u001b[1;31mKeyError\u001b[0m                                  Traceback (most recent call last)",
      "Cell \u001b[1;32mIn[8], line 3\u001b[0m\n\u001b[0;32m      1\u001b[0m s \u001b[38;5;241m=\u001b[39m ex\u001b[38;5;241m.\u001b[39miloc[:,\u001b[38;5;241m0\u001b[39m]\n\u001b[0;32m      2\u001b[0m \u001b[38;5;28mprint\u001b[39m(s)\n\u001b[1;32m----> 3\u001b[0m s[\u001b[38;5;124m'\u001b[39m\u001b[38;5;124mS\u001b[39m\u001b[38;5;124m'\u001b[39m]\u001b[38;5;241m=\u001b[39m\u001b[43mex\u001b[49m\u001b[43m[\u001b[49m\u001b[38;5;124;43m'\u001b[39;49m\u001b[38;5;124;43mname\u001b[39;49m\u001b[38;5;124;43m'\u001b[39;49m\u001b[43m]\u001b[49m\u001b[38;5;241m.\u001b[39mstr\u001b[38;5;241m.\u001b[39mstartswith(\u001b[38;5;124m\"\u001b[39m\u001b[38;5;124mS\u001b[39m\u001b[38;5;124m\"\u001b[39m)\n\u001b[0;32m      4\u001b[0m \u001b[38;5;28mprint\u001b[39m(s\u001b[38;5;241m.\u001b[39mloc[:,[\u001b[38;5;124m'\u001b[39m\u001b[38;5;124m0\u001b[39m\u001b[38;5;124m'\u001b[39m,\u001b[38;5;124m'\u001b[39m\u001b[38;5;124mS\u001b[39m\u001b[38;5;124m'\u001b[39m]])\n",
      "File \u001b[1;32m~\\AppData\\Local\\Programs\\Python\\Python312\\Lib\\site-packages\\pandas\\core\\frame.py:4090\u001b[0m, in \u001b[0;36mDataFrame.__getitem__\u001b[1;34m(self, key)\u001b[0m\n\u001b[0;32m   4088\u001b[0m \u001b[38;5;28;01mif\u001b[39;00m \u001b[38;5;28mself\u001b[39m\u001b[38;5;241m.\u001b[39mcolumns\u001b[38;5;241m.\u001b[39mnlevels \u001b[38;5;241m>\u001b[39m \u001b[38;5;241m1\u001b[39m:\n\u001b[0;32m   4089\u001b[0m     \u001b[38;5;28;01mreturn\u001b[39;00m \u001b[38;5;28mself\u001b[39m\u001b[38;5;241m.\u001b[39m_getitem_multilevel(key)\n\u001b[1;32m-> 4090\u001b[0m indexer \u001b[38;5;241m=\u001b[39m \u001b[38;5;28;43mself\u001b[39;49m\u001b[38;5;241;43m.\u001b[39;49m\u001b[43mcolumns\u001b[49m\u001b[38;5;241;43m.\u001b[39;49m\u001b[43mget_loc\u001b[49m\u001b[43m(\u001b[49m\u001b[43mkey\u001b[49m\u001b[43m)\u001b[49m\n\u001b[0;32m   4091\u001b[0m \u001b[38;5;28;01mif\u001b[39;00m is_integer(indexer):\n\u001b[0;32m   4092\u001b[0m     indexer \u001b[38;5;241m=\u001b[39m [indexer]\n",
      "File \u001b[1;32m~\\AppData\\Local\\Programs\\Python\\Python312\\Lib\\site-packages\\pandas\\core\\indexes\\base.py:3812\u001b[0m, in \u001b[0;36mIndex.get_loc\u001b[1;34m(self, key)\u001b[0m\n\u001b[0;32m   3807\u001b[0m     \u001b[38;5;28;01mif\u001b[39;00m \u001b[38;5;28misinstance\u001b[39m(casted_key, \u001b[38;5;28mslice\u001b[39m) \u001b[38;5;129;01mor\u001b[39;00m (\n\u001b[0;32m   3808\u001b[0m         \u001b[38;5;28misinstance\u001b[39m(casted_key, abc\u001b[38;5;241m.\u001b[39mIterable)\n\u001b[0;32m   3809\u001b[0m         \u001b[38;5;129;01mand\u001b[39;00m \u001b[38;5;28many\u001b[39m(\u001b[38;5;28misinstance\u001b[39m(x, \u001b[38;5;28mslice\u001b[39m) \u001b[38;5;28;01mfor\u001b[39;00m x \u001b[38;5;129;01min\u001b[39;00m casted_key)\n\u001b[0;32m   3810\u001b[0m     ):\n\u001b[0;32m   3811\u001b[0m         \u001b[38;5;28;01mraise\u001b[39;00m InvalidIndexError(key)\n\u001b[1;32m-> 3812\u001b[0m     \u001b[38;5;28;01mraise\u001b[39;00m \u001b[38;5;167;01mKeyError\u001b[39;00m(key) \u001b[38;5;28;01mfrom\u001b[39;00m \u001b[38;5;21;01merr\u001b[39;00m\n\u001b[0;32m   3813\u001b[0m \u001b[38;5;28;01mexcept\u001b[39;00m \u001b[38;5;167;01mTypeError\u001b[39;00m:\n\u001b[0;32m   3814\u001b[0m     \u001b[38;5;66;03m# If we have a listlike key, _check_indexing_error will raise\u001b[39;00m\n\u001b[0;32m   3815\u001b[0m     \u001b[38;5;66;03m#  InvalidIndexError. Otherwise we fall through and re-raise\u001b[39;00m\n\u001b[0;32m   3816\u001b[0m     \u001b[38;5;66;03m#  the TypeError.\u001b[39;00m\n\u001b[0;32m   3817\u001b[0m     \u001b[38;5;28mself\u001b[39m\u001b[38;5;241m.\u001b[39m_check_indexing_error(key)\n",
      "\u001b[1;31mKeyError\u001b[0m: 'name'"
     ]
    }
   ],
   "source": [
    "s = ex.iloc[:,0]\n",
    "print(s)\n",
    "s['S']=ex['name'].str.startswith(\"S\")\n",
    "print(s.loc[:,['0','S']])"
   ]
  },
  {
   "cell_type": "code",
   "execution_count": 81,
   "id": "ce70ae7a-0eee-4c39-b478-b2a8548289bc",
   "metadata": {},
   "outputs": [],
   "source": [
    "l = [{\"ram\":15,\"shyam\":14,\"gita\":10},{\"ram\":15,\"shyam\":14,\"gita\":10}]\n",
    "s=pd.DataFrame(l)\n",
    "writer = pd.ExcelWriter('pandasEx.xlsx' ,\n",
    "                        engine = 'xlsxwriter')\n",
    "s.to_excel(writer, sheet_name =\"Mysheet\")"
   ]
  },
  {
   "cell_type": "code",
   "execution_count": 11,
   "id": "1c7df77b-8dbb-40f3-81eb-db1cc40dcfaf",
   "metadata": {},
   "outputs": [
    {
     "name": "stdout",
     "output_type": "stream",
     "text": [
      "   ram  shyam  gita\n",
      "0   15     14    12\n",
      "1    6     19    10\n",
      "   rohan  sohan  gita\n",
      "0     10     18    12\n",
      "1     11     17    12\n",
      "   ram  shyam  gita  rohan  sohan\n",
      "0   15     14    12     10     18\n",
      "1   15     14    12     11     17\n"
     ]
    }
   ],
   "source": [
    "#### merge two dataFrame\n",
    "### inner join\n",
    "df1 = pd.DataFrame( [{\"ram\":15,\"shyam\":14,\"gita\":12},{\"ram\":6,\"shyam\":19,\"gita\":10}])\n",
    "df2 = pd.DataFrame( [{\"rohan\":10,\"sohan\":18,\"gita\":12},{\"rohan\":11,\"sohan\":17,\"gita\":12}])\n",
    "print(df1)\n",
    "print(df2)\n",
    "m = pd.merge(df1,df2,on='gita',how='inner')\n",
    "print(m)\n"
   ]
  },
  {
   "cell_type": "code",
   "execution_count": 13,
   "id": "238e2668-9712-40af-8219-1f2a8445ead3",
   "metadata": {},
   "outputs": [
    {
     "name": "stdout",
     "output_type": "stream",
     "text": [
      "   ram  shyam  gita\n",
      "0   15     14    12\n",
      "1    6     19    10\n",
      "   rohan  sohan  gita\n",
      "0     10     18    12\n",
      "1     11     17    12\n",
      "   ram  shyam  gita  rohan  sohan\n",
      "0    6     19    10    NaN    NaN\n",
      "1   15     14    12   10.0   18.0\n",
      "2   15     14    12   11.0   17.0\n"
     ]
    }
   ],
   "source": [
    "### outer join\n",
    "df1 = pd.DataFrame( [{\"ram\":15,\"shyam\":14,\"gita\":12},{\"ram\":6,\"shyam\":19,\"gita\":10}])\n",
    "df2 = pd.DataFrame( [{\"rohan\":10,\"sohan\":18,\"gita\":12},{\"rohan\":11,\"sohan\":17,\"gita\":12}])\n",
    "print(df1)\n",
    "print(df2)\n",
    "m = pd.merge(df1,df2,on='gita',how='outer')\n",
    "print(m)"
   ]
  },
  {
   "cell_type": "code",
   "execution_count": 16,
   "id": "1f919d62-b00c-47e6-9070-5a60c7e9997d",
   "metadata": {},
   "outputs": [
    {
     "name": "stdout",
     "output_type": "stream",
     "text": [
      "   ram  shyam  gita\n",
      "0   15     14    12\n",
      "1    6     19    10\n",
      "   rohan  sohan  gita\n",
      "0     10     18    12\n",
      "1     11     17    20\n",
      "    ram  shyam  gita  rohan  sohan\n",
      "0  15.0   14.0    12     10     18\n",
      "1   NaN    NaN    20     11     17\n"
     ]
    }
   ],
   "source": [
    "## right join\n",
    "df1 = pd.DataFrame( [{\"ram\":15,\"shyam\":14,\"gita\":12},{\"ram\":6,\"shyam\":19,\"gita\":10}])\n",
    "df2 = pd.DataFrame( [{\"rohan\":10,\"sohan\":18,\"gita\":12},{\"rohan\":11,\"sohan\":17,\"gita\":20}])\n",
    "print(df1)\n",
    "print(df2)\n",
    "m = pd.merge(df1,df2,on='gita',how='right')\n",
    "print(m)"
   ]
  },
  {
   "cell_type": "code",
   "execution_count": null,
   "id": "7cd3737d-cbba-4439-9db0-6e0e8a1e5977",
   "metadata": {},
   "outputs": [],
   "source": []
  }
 ],
 "metadata": {
  "kernelspec": {
   "display_name": "Python 3 (ipykernel)",
   "language": "python",
   "name": "python3"
  },
  "language_info": {
   "codemirror_mode": {
    "name": "ipython",
    "version": 3
   },
   "file_extension": ".py",
   "mimetype": "text/x-python",
   "name": "python",
   "nbconvert_exporter": "python",
   "pygments_lexer": "ipython3",
   "version": "3.12.1"
  }
 },
 "nbformat": 4,
 "nbformat_minor": 5
}
