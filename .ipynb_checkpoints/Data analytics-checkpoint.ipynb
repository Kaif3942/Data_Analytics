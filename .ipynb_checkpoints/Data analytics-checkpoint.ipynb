{
 "cells": [
  {
   "cell_type": "code",
   "execution_count": 2,
   "id": "d433f129-3072-459d-8a23-dd2276e8416f",
   "metadata": {},
   "outputs": [
    {
     "name": "stdout",
     "output_type": "stream",
     "text": [
      "hello world\n"
     ]
    }
   ],
   "source": [
    "print(\"hello world\" )"
   ]
  },
  {
   "cell_type": "code",
   "execution_count": null,
   "id": "f8d63cd0-86e2-4d74-9110-8241c8fe8b13",
   "metadata": {},
   "outputs": [],
   "source": []
  },
  {
   "cell_type": "code",
   "execution_count": null,
   "id": "7708a054-c4bd-4f22-9f17-8e48346dbd95",
   "metadata": {},
   "outputs": [],
   "source": []
  },
  {
   "cell_type": "code",
   "execution_count": 3,
   "id": "2a2d9415-a61b-453f-882e-9faaceb73505",
   "metadata": {},
   "outputs": [
    {
     "name": "stdin",
     "output_type": "stream",
     "text": [
      "enter an number  8\n",
      "enter another number 5\n"
     ]
    },
    {
     "name": "stdout",
     "output_type": "stream",
     "text": [
      "40\n"
     ]
    }
   ],
   "source": [
    "# taking input in python \n",
    "a = int(input(\"enter an number \")) \n",
    "b = int(input(\"enter another number\"))\n",
    "print(a*b)\n",
    "        "
   ]
  },
  {
   "cell_type": "code",
   "execution_count": 4,
   "id": "c068cb4b-02aa-42fa-9977-382634a203ce",
   "metadata": {},
   "outputs": [
    {
     "name": "stdout",
     "output_type": "stream",
     "text": [
      "1.333333333333333\n"
     ]
    }
   ],
   "source": [
    "print(a)"
   ]
  },
  {
   "cell_type": "code",
   "execution_count": 5,
   "id": "1f1313d7-caa9-4d82-b608-664beb362f04",
   "metadata": {},
   "outputs": [
    {
     "name": "stdout",
     "output_type": "stream",
     "text": [
      "-6.0\n"
     ]
    }
   ],
   "source": [
    "a = 8/6*(4-8)//(5+9)*6\n",
    "print(a)"
   ]
  },
  {
   "cell_type": "code",
   "execution_count": 2,
   "id": "c3bd8c33-eb14-48e4-9545-64f00505686c",
   "metadata": {},
   "outputs": [
    {
     "name": "stdin",
     "output_type": "stream",
     "text": [
      "enter an number  8\n",
      "enter another number 9\n"
     ]
    },
    {
     "name": "stdout",
     "output_type": "stream",
     "text": [
      "17\n",
      "-1\n",
      "72\n",
      "0.8888888888888888\n",
      "0\n",
      "134217728\n"
     ]
    }
   ],
   "source": [
    "a = int(input(\"enter an number \")) \n",
    "b = int(input(\"enter another number\"))\n",
    "print(a+b)\n",
    "print(a-b)\n",
    "print(a*b)\n",
    "print(a/b)\n",
    "print(a//b)\n",
    "print(a**b)"
   ]
  },
  {
   "cell_type": "code",
   "execution_count": 3,
   "id": "c4895f12-19ef-4c7f-9401-78442eefa038",
   "metadata": {},
   "outputs": [
    {
     "name": "stdin",
     "output_type": "stream",
     "text": [
      "enter the breath = 7\n",
      "enter the hieght = 8\n"
     ]
    },
    {
     "name": "stdout",
     "output_type": "stream",
     "text": [
      "are of triangle 28.0\n"
     ]
    }
   ],
   "source": [
    "# find area of triangle\n",
    "b = int(input(\"enter the breath =\"))\n",
    "h = int(input(\"enter the hieght =\"))\n",
    "print(\"are of triangle\",1/2*b*h)"
   ]
  },
  {
   "cell_type": "code",
   "execution_count": 4,
   "id": "10db2d18-44b9-478e-ae45-210a7217340a",
   "metadata": {},
   "outputs": [
    {
     "name": "stdin",
     "output_type": "stream",
     "text": [
      "enter the breath = 7\n",
      "enter the hieght = 8\n"
     ]
    },
    {
     "name": "stdout",
     "output_type": "stream",
     "text": [
      "are of triangle 0\n"
     ]
    }
   ],
   "source": [
    "b = int(input(\"enter the breath =\"))\n",
    "h = int(input(\"enter the hieght =\"))\n",
    "print(\"are of triangle\",1//2*b*h)"
   ]
  },
  {
   "cell_type": "code",
   "execution_count": 5,
   "id": "ef131cea-fa9e-47f7-8ec3-d302caa0fe70",
   "metadata": {},
   "outputs": [
    {
     "name": "stdin",
     "output_type": "stream",
     "text": [
      "enter the breath = 7\n",
      "enter the hieght = 8\n"
     ]
    },
    {
     "name": "stdout",
     "output_type": "stream",
     "text": [
      "are of triangle 28\n"
     ]
    }
   ],
   "source": [
    "b = int(input(\"enter the breath =\"))\n",
    "h = int(input(\"enter the hieght =\"))\n",
    "print(\"are of triangle\",b*h//2)"
   ]
  },
  {
   "cell_type": "code",
   "execution_count": 6,
   "id": "b6d5d47c-a06e-45bb-8d22-9e1cde692339",
   "metadata": {},
   "outputs": [
    {
     "name": "stdin",
     "output_type": "stream",
     "text": [
      "enter the principal 1800\n",
      "enter the rate 5\n",
      "enter the time 5\n"
     ]
    },
    {
     "name": "stdout",
     "output_type": "stream",
     "text": [
      "simple interest 450.0\n"
     ]
    }
   ],
   "source": [
    "# find simple interest \n",
    "p = int(input(\"enter the principal\"))\n",
    "r = int(input(\"enter the rate\"))\n",
    "t = int(input(\"enter the time\"))\n",
    "print(\"simple interest\", p*r*t/100)"
   ]
  },
  {
   "cell_type": "code",
   "execution_count": 8,
   "id": "2eac3aa7-6d82-4bda-ba10-2eed545207fc",
   "metadata": {},
   "outputs": [
    {
     "name": "stdout",
     "output_type": "stream",
     "text": [
      "welcome to coding blocks\n",
      "         data analytics course\n",
      "         \n",
      "kaif\n",
      "ganesh\n",
      "kaif\tganesh\n"
     ]
    }
   ],
   "source": [
    "a = '''welcome to coding blocks\n",
    "         data analytics course\n",
    "         '''\n",
    "print(a)\n",
    "#escape sequence \n",
    "b = \"kaif\\nganesh\"\n",
    "c = \"kaif\\tganesh\"\n",
    "print(b)\n",
    "print(c)"
   ]
  },
  {
   "cell_type": "code",
   "execution_count": 15,
   "id": "45fd98de-a870-4b0b-a96a-8333c7a22c0e",
   "metadata": {},
   "outputs": [
    {
     "name": "stdin",
     "output_type": "stream",
     "text": [
      "enter the no 69\n"
     ]
    },
    {
     "name": "stdout",
     "output_type": "stream",
     "text": [
      "multiple of three\n"
     ]
    }
   ],
   "source": [
    "#if and else \n",
    "a = int(input(\"enter the no\"))\n",
    "if(a%3==0):\n",
    "    print(\"multiple of three\")\n",
    "else:\n",
    "    print(\"this is not a multiple of three\")"
   ]
  },
  {
   "cell_type": "code",
   "execution_count": 17,
   "id": "4dcfcf92-2319-4da2-a8ef-761620e00118",
   "metadata": {},
   "outputs": [
    {
     "name": "stdin",
     "output_type": "stream",
     "text": [
      "enter the marks  55\n"
     ]
    },
    {
     "name": "stdout",
     "output_type": "stream",
     "text": [
      "Fail\n"
     ]
    }
   ],
   "source": [
    "#mutiple condition of if and else \n",
    "a = int(input(\"enter the marks \"))\n",
    "if(a>=90):\n",
    "    print(\"A+\")\n",
    "elif(a>=85):\n",
    "    print(\"A\")\n",
    "elif(a>=75):\n",
    "    print(\"B\")\n",
    "elif(a>=60):\n",
    "    print(\"C\")\n",
    "else:\n",
    "    print(\"Fail\")"
   ]
  },
  {
   "cell_type": "code",
   "execution_count": 20,
   "id": "648c3cab-560e-4d08-a67e-43cab87dd6fe",
   "metadata": {},
   "outputs": [
    {
     "name": "stdin",
     "output_type": "stream",
     "text": [
      "enter the no  45\n",
      "enter the no  78\n",
      "enter the no  15\n"
     ]
    },
    {
     "name": "stdout",
     "output_type": "stream",
     "text": [
      "78\n"
     ]
    }
   ],
   "source": [
    "a = int(input(\"enter the no \"))\n",
    "b = int(input(\"enter the no \"))\n",
    "c = int(input(\"enter the no \"))\n",
    "if(a>=b and a>=c):\n",
    "    print(a)\n",
    "elif(b>=a and b>=c):\n",
    "    print(b)\n",
    "else:\n",
    "    print(c)"
   ]
  },
  {
   "cell_type": "code",
   "execution_count": 21,
   "id": "eeb195fd-3127-4164-b780-8c859837b5a7",
   "metadata": {},
   "outputs": [
    {
     "name": "stdin",
     "output_type": "stream",
     "text": [
      "enter the no  8\n",
      "enter the no  16\n",
      "enter the no  2\n"
     ]
    },
    {
     "name": "stdout",
     "output_type": "stream",
     "text": [
      "16\n"
     ]
    }
   ],
   "source": [
    "a = int(input(\"enter the no \"))\n",
    "b = int(input(\"enter the no \"))\n",
    "c = int(input(\"enter the no \"))\n",
    "if(a==b*c):\n",
    "    print(a)\n",
    "elif(b==a*c):\n",
    "    print(b)\n",
    "elif(c==b*a):\n",
    "    print(c)\n",
    "else:\n",
    "    print(\"no anyone\")"
   ]
  },
  {
   "cell_type": "code",
   "execution_count": 22,
   "id": "9de1baf1-8a2f-41cd-98ed-df021b87c47d",
   "metadata": {},
   "outputs": [
    {
     "name": "stdin",
     "output_type": "stream",
     "text": [
      "enter the no  1\n"
     ]
    },
    {
     "name": "stdout",
     "output_type": "stream",
     "text": [
      "1\n",
      "2\n",
      "3\n",
      "4\n",
      "5\n",
      "6\n",
      "7\n",
      "8\n",
      "9\n",
      "10\n"
     ]
    }
   ],
   "source": [
    "# while loop statement \n",
    "count= int(input(\"enter the no \"))\n",
    "while(count<=10):\n",
    "    print(count)\n",
    "    count+=1\n"
   ]
  },
  {
   "cell_type": "code",
   "execution_count": 23,
   "id": "e5da5248-bba7-4ba9-a86e-cbb501c9d10d",
   "metadata": {},
   "outputs": [
    {
     "name": "stdin",
     "output_type": "stream",
     "text": [
      "enter the no  2\n"
     ]
    },
    {
     "name": "stdout",
     "output_type": "stream",
     "text": [
      "2\n",
      "4\n",
      "6\n",
      "8\n",
      "10\n",
      "12\n",
      "14\n",
      "16\n",
      "18\n",
      "20\n"
     ]
    }
   ],
   "source": [
    "count= int(input(\"enter the no \"))\n",
    "while(count<=20):\n",
    "    print(count)\n",
    "    count+=2"
   ]
  },
  {
   "cell_type": "code",
   "execution_count": 4,
   "id": "670ceb90-23e3-4204-b815-fafe2d9d2339",
   "metadata": {},
   "outputs": [
    {
     "name": "stdin",
     "output_type": "stream",
     "text": [
      "enter the no  5\n",
      "enter no 45\n",
      "enter no 48\n",
      "enter no 47\n",
      "enter no 45\n",
      "enter no 47\n"
     ]
    },
    {
     "name": "stdout",
     "output_type": "stream",
     "text": [
      "48\n"
     ]
    }
   ],
   "source": [
    "n= int(input(\"enter the no \"))\n",
    "largest=0\n",
    "count=1\n",
    "while(count<=n):\n",
    "    num=int(input(\"enter no\"))\n",
    "    if(largest <=num):\n",
    "        largest = num\n",
    "    count +=1\n",
    "print(largest)"
   ]
  },
  {
   "cell_type": "code",
   "execution_count": 2,
   "id": "ffa6d443-0023-4226-9d0e-aa32ae5a7fee",
   "metadata": {},
   "outputs": [
    {
     "name": "stdin",
     "output_type": "stream",
     "text": [
      "enter no 7845\n"
     ]
    },
    {
     "name": "stdout",
     "output_type": "stream",
     "text": [
      "4\n"
     ]
    }
   ],
   "source": [
    "n = int(input(\"enter no\"))\n",
    "count =0 \n",
    " while(n>0):\n",
    "    count+=1\n",
    "    n=n//10\n",
    "print(count)"
   ]
  },
  {
   "cell_type": "code",
   "execution_count": 14,
   "id": "08717e87-8f6b-4a75-8f25-d9b394b17772",
   "metadata": {},
   "outputs": [
    {
     "name": "stdin",
     "output_type": "stream",
     "text": [
      "Enter a number 8521\n"
     ]
    },
    {
     "name": "stdout",
     "output_type": "stream",
     "text": [
      "1258\n"
     ]
    }
   ],
   "source": [
    "# reverse loop \n",
    "n = int(input(\"Enter a number\"))\n",
    "rev=0\n",
    "while(n>0):\n",
    "    rem = n%10\n",
    "    n = n//10\n",
    "    rev = rev*10 + rem\n",
    "print(rev)"
   ]
  },
  {
   "cell_type": "code",
   "execution_count": null,
   "id": "139baa40-7c22-4a3e-9ce3-bd2c8c1bea4c",
   "metadata": {},
   "outputs": [],
   "source": []
  },
  {
   "cell_type": "code",
   "execution_count": 9,
   "id": "00055584-64a5-4847-88d2-5288fd8cc8da",
   "metadata": {},
   "outputs": [
    {
     "name": "stdout",
     "output_type": "stream",
     "text": [
      "20 10\n"
     ]
    }
   ],
   "source": [
    "a = 10\n",
    "b = 20\n",
    "#swap 1\n",
    "c = a\n",
    "a = b\n",
    "b = c\n",
    "print ( a,b)\n"
   ]
  },
  {
   "cell_type": "code",
   "execution_count": 15,
   "id": "ef1a9a84-ddb7-422b-9963-c4456e672dec",
   "metadata": {},
   "outputs": [
    {
     "name": "stdout",
     "output_type": "stream",
     "text": [
      "20 10\n"
     ]
    }
   ],
   "source": [
    "a = 10\n",
    "b = 20\n",
    "# swap 2\n",
    "a,b=b,a\n",
    "print(a,b)\n"
   ]
  },
  {
   "cell_type": "code",
   "execution_count": 13,
   "id": "88ba62f2-b1f5-4e32-b535-4abe70f3953e",
   "metadata": {},
   "outputs": [
    {
     "name": "stdout",
     "output_type": "stream",
     "text": [
      "* \n",
      "* * \n",
      "* * * \n",
      "* * * * \n"
     ]
    }
   ],
   "source": [
    "r=1\n",
    "c=1\n",
    "while(r<=4):\n",
    "    c=1\n",
    "    while(c<=r):\n",
    "        print(\"*\",end=\" \")\n",
    "        c+=1\n",
    "    r+=1\n",
    "    print()"
   ]
  },
  {
   "cell_type": "code",
   "execution_count": 4,
   "id": "072bd2ec-305b-497f-ad54-a524f682cffa",
   "metadata": {},
   "outputs": [
    {
     "name": "stdout",
     "output_type": "stream",
     "text": [
      "    * \n",
      "   * * \n",
      "  * * * \n",
      " * * * * \n"
     ]
    }
   ],
   "source": [
    "r=1\n",
    "c=1\n",
    "while(r<=4):\n",
    "    space = 1\n",
    "    while(space <= 5-r):\n",
    "        print(\"\",end=\" \")\n",
    "        space+=1\n",
    "    c=1\n",
    "    while(c<=r):\n",
    "        print(\"*\",end=\" \")\n",
    "        c+=1\n",
    "    r+=1\n",
    "    print()"
   ]
  },
  {
   "cell_type": "code",
   "execution_count": 2,
   "id": "bdfdc618-df3f-4624-be6b-dbff29a69f09",
   "metadata": {},
   "outputs": [
    {
     "name": "stdin",
     "output_type": "stream",
     "text": [
      "enter row no  5\n"
     ]
    },
    {
     "name": "stdout",
     "output_type": "stream",
     "text": [
      "* * * * * \n",
      "* * * * \n",
      "* * * \n",
      "* * \n",
      "* \n"
     ]
    }
   ],
   "source": [
    "row = int(input(\"enter row no \"))\n",
    "for r in range(row):\n",
    "    for c in range(row-r):\n",
    "        print(\"*\", end=\" \")\n",
    "    print()\n",
    "    "
   ]
  },
  {
   "cell_type": "code",
   "execution_count": 3,
   "id": "96911289-6f5b-4509-988a-b7daf46151f2",
   "metadata": {},
   "outputs": [
    {
     "name": "stdin",
     "output_type": "stream",
     "text": [
      "enter row no  5\n"
     ]
    },
    {
     "name": "stdout",
     "output_type": "stream",
     "text": [
      "* * * * * \n",
      " * * * * \n",
      "  * * * \n",
      "   * * \n",
      "    * \n"
     ]
    }
   ],
   "source": [
    "row = int(input(\"enter row no \"))\n",
    "for r in range(row):\n",
    "    for s in range (r):\n",
    "        print(\"\" ,end=\" \")\n",
    "    for c in range(row-r):\n",
    "        print(\"*\", end=\" \")\n",
    "    print()"
   ]
  },
  {
   "cell_type": "code",
   "execution_count": 3,
   "id": "583ed0d2-597b-4bea-90ce-ee6d2f8c47ad",
   "metadata": {},
   "outputs": [
    {
     "name": "stdout",
     "output_type": "stream",
     "text": [
      "\n",
      "* \n",
      "* * \n",
      "* * * \n",
      "* * * * \n",
      "* * * * * \n"
     ]
    }
   ],
   "source": [
    "# for loop\n",
    "for r in range(6):\n",
    "    for c in range(r):\n",
    "        print(\"*\",end=\" \")\n",
    "    print()"
   ]
  },
  {
   "cell_type": "code",
   "execution_count": null,
   "id": "d1607716-1bbe-481d-9ef4-5f1884d825f5",
   "metadata": {},
   "outputs": [],
   "source": [
    "# prime no\n"
   ]
  },
  {
   "cell_type": "code",
   "execution_count": 8,
   "id": "a4967e8d-1d83-43c6-858a-dc911e66f73f",
   "metadata": {},
   "outputs": [
    {
     "name": "stdin",
     "output_type": "stream",
     "text": [
      " A\n"
     ]
    },
    {
     "name": "stdout",
     "output_type": "stream",
     "text": [
      "sec a\n"
     ]
    }
   ],
   "source": [
    "n = input()\n",
    "match(n):\n",
    "   case \"A\":\n",
    "       print(\"sec a\")\n",
    "   case \"B\":\n",
    "        print(\"sec b\")\n",
    "   case _:\n",
    "        print(\"sec c\")"
   ]
  },
  {
   "cell_type": "code",
   "execution_count": 17,
   "id": "168458d9-b120-472c-9a07-8a55ea8321a1",
   "metadata": {},
   "outputs": [
    {
     "name": "stdin",
     "output_type": "stream",
     "text": [
      "Enter a num 13\n"
     ]
    },
    {
     "name": "stdout",
     "output_type": "stream",
     "text": [
      "Prime\n"
     ]
    }
   ],
   "source": [
    "# def prime no \n",
    "def IsPrime(n):\n",
    "    for i in range(2,n):\n",
    "        if(n%i ==0):\n",
    "            return False\n",
    "    return True\n",
    "\n",
    "\n",
    "n = int(input(\"Enter a num\"))\n",
    "if(IsPrime(n)):\n",
    "    print(\"Prime\")\n",
    "else:\n",
    "    print(\"Not Prime\")"
   ]
  },
  {
   "cell_type": "code",
   "execution_count": 9,
   "id": "e0c62e36-259b-4322-8ec0-11f0090a82cc",
   "metadata": {},
   "outputs": [
    {
     "name": "stdout",
     "output_type": "stream",
     "text": [
      "5\n",
      "17\n"
     ]
    }
   ],
   "source": [
    "def add(a,b,c=0):\n",
    "    return a+b+c \n",
    "print(add(2,3))\n",
    "print(add(5,8,4))"
   ]
  },
  {
   "cell_type": "code",
   "execution_count": 10,
   "id": "a24c338c-b5d6-4039-800a-3f8332b20a95",
   "metadata": {},
   "outputs": [
    {
     "name": "stdout",
     "output_type": "stream",
     "text": [
      "45\n"
     ]
    }
   ],
   "source": [
    "def largestofThree(a,b,c):\n",
    "    if(a>=b and a>=c):\n",
    "        return a\n",
    "    elif(b>=a and b>=c):\n",
    "        return b\n",
    "    else:\n",
    "        return c \n",
    "print(largestofThree(5,8,45))\n",
    "    "
   ]
  },
  {
   "cell_type": "code",
   "execution_count": 18,
   "id": "94f0c42d-b8c6-4f31-a657-2df1a4f036c2",
   "metadata": {},
   "outputs": [
    {
     "name": "stdout",
     "output_type": "stream",
     "text": [
      "180.0\n"
     ]
    }
   ],
   "source": [
    "# h.w \n",
    "def simpleinterest(p,r,t):\n",
    "    return p*r*t/100\n",
    "print(simpleinterest(1800,5,2))"
   ]
  },
  {
   "cell_type": "code",
   "execution_count": 19,
   "id": "8cf21d8c-ffdc-4dd4-869d-6065a127a9e7",
   "metadata": {},
   "outputs": [
    {
     "name": "stdout",
     "output_type": "stream",
     "text": [
      "20.0\n"
     ]
    }
   ],
   "source": [
    "# area of triangle\n",
    "def triangle(b,h):\n",
    "    return 1/2*b*h\n",
    "print(triangle(5,8))\n"
   ]
  },
  {
   "cell_type": "code",
   "execution_count": 2,
   "id": "15903dab-f045-4e0e-85ea-93656d6d5a11",
   "metadata": {},
   "outputs": [
    {
     "name": "stdin",
     "output_type": "stream",
     "text": [
      "enter no 45\n"
     ]
    },
    {
     "name": "stdout",
     "output_type": "stream",
     "text": [
      "multiple of three\n"
     ]
    }
   ],
   "source": [
    "#multiple of three\n",
    "def number(n):\n",
    "    if(n%3==0):\n",
    "        return True\n",
    "    else:\n",
    "        return False\n",
    "n = int(input(\"enter no\"))\n",
    "if(number(n)):\n",
    "    print(\"multiple of three\")\n",
    "else:\n",
    "    print(\"not multiple of three\")\n",
    "\n"
   ]
  },
  {
   "cell_type": "code",
   "execution_count": 18,
   "id": "ef1765ce-8a35-4370-b288-2a3956885624",
   "metadata": {},
   "outputs": [
    {
     "ename": "NameError",
     "evalue": "name 'B' is not defined",
     "output_type": "error",
     "traceback": [
      "\u001b[1;31m---------------------------------------------------------------------------\u001b[0m",
      "\u001b[1;31mNameError\u001b[0m                                 Traceback (most recent call last)",
      "Cell \u001b[1;32mIn[18], line 13\u001b[0m\n\u001b[0;32m     11\u001b[0m     \u001b[38;5;28;01melse\u001b[39;00m:\n\u001b[0;32m     12\u001b[0m         \u001b[38;5;28;01mreturn\u001b[39;00m \u001b[38;5;28;01mFalse\u001b[39;00m\n\u001b[1;32m---> 13\u001b[0m \u001b[38;5;28mprint\u001b[39m(\u001b[43mmarks\u001b[49m\u001b[43m(\u001b[49m\u001b[38;5;241;43m85\u001b[39;49m\u001b[43m)\u001b[49m)\n",
      "Cell \u001b[1;32mIn[18], line 6\u001b[0m, in \u001b[0;36mmarks\u001b[1;34m(n)\u001b[0m\n\u001b[0;32m      4\u001b[0m     \u001b[38;5;28;01mreturn\u001b[39;00m A\n\u001b[0;32m      5\u001b[0m \u001b[38;5;28;01melif\u001b[39;00m(n\u001b[38;5;241m>\u001b[39m\u001b[38;5;241m=\u001b[39m\u001b[38;5;241m85\u001b[39m):\n\u001b[1;32m----> 6\u001b[0m     \u001b[38;5;28;01mreturn\u001b[39;00m \u001b[43mB\u001b[49m\n\u001b[0;32m      7\u001b[0m \u001b[38;5;28;01melif\u001b[39;00m(n\u001b[38;5;241m>\u001b[39m\u001b[38;5;241m=\u001b[39m\u001b[38;5;241m75\u001b[39m):\n\u001b[0;32m      8\u001b[0m     \u001b[38;5;28;01mreturn\u001b[39;00m C\n",
      "\u001b[1;31mNameError\u001b[0m: name 'B' is not defined"
     ]
    }
   ],
   "source": [
    "# def mutiple condition of if and else \n",
    "def marks(n):\n",
    "    if(n>=90):\n",
    "        return A\n",
    "    elif(n>=85):\n",
    "        return B\n",
    "    elif(n>=75):\n",
    "        return C\n",
    "    elif(n>=60):\n",
    "        return D\n",
    "    else:\n",
    "        return False\n",
    "print(marks(85))\n",
    "    "
   ]
  },
  {
   "cell_type": "code",
   "execution_count": 19,
   "id": "3284a82f-bce9-443e-8c45-e6294b7f6cd4",
   "metadata": {},
   "outputs": [
    {
     "name": "stdout",
     "output_type": "stream",
     "text": [
      "8\n"
     ]
    }
   ],
   "source": [
    "#multipe of two num is = third num\n",
    "def multiples(a,b,c):\n",
    "    if(a==b*c):\n",
    "       return a\n",
    "    elif(b==a*c):\n",
    "       return b\n",
    "    elif(c==b*a):\n",
    "       return c\n",
    "    else:\n",
    "         return False\n",
    "print(multiples(2,8,4))"
   ]
  },
  {
   "cell_type": "code",
   "execution_count": 6,
   "id": "687c307a-7a46-4520-95c4-cd9ff14e4cec",
   "metadata": {},
   "outputs": [
    {
     "name": "stdout",
     "output_type": "stream",
     "text": [
      "\n",
      "1 \n",
      "2 3 \n",
      "4 5 6 \n",
      "7 8 9 10 \n",
      "11 12 13 14 15 \n"
     ]
    }
   ],
   "source": [
    "count = 1\n",
    "for r in range(6):\n",
    "    for c in range(r):\n",
    "        print(count,end=\" \")\n",
    "        count+=1\n",
    "    print()"
   ]
  },
  {
   "cell_type": "code",
   "execution_count": 10,
   "id": "0376eca8-c9ab-4924-bd46-f762d334fedc",
   "metadata": {},
   "outputs": [
    {
     "name": "stdout",
     "output_type": "stream",
     "text": [
      "\n",
      "A \n",
      "B C \n",
      "D E F \n",
      "G H I J \n",
      "K L M N O \n"
     ]
    }
   ],
   "source": [
    "start = \"A\"\n",
    "for r in range(6):\n",
    "    for c in range(r):\n",
    "        print(start,end=\" \")\n",
    "        start = chr(ord(start) + 1)\n",
    "    print()\n",
    "\n",
    "     "
   ]
  },
  {
   "cell_type": "code",
   "execution_count": 13,
   "id": "9eec504f-adea-490a-8bf1-8e77b80ef23d",
   "metadata": {},
   "outputs": [
    {
     "name": "stdout",
     "output_type": "stream",
     "text": [
      "False\n"
     ]
    }
   ],
   "source": [
    "def isnegative(n) -> bool:\n",
    "    return n<0\n",
    "a = isnegative(5)\n",
    "print(a)"
   ]
  },
  {
   "cell_type": "code",
   "execution_count": 14,
   "id": "7f4c5a53-a7dd-4971-8e96-180c15b47097",
   "metadata": {},
   "outputs": [
    {
     "name": "stdout",
     "output_type": "stream",
     "text": [
      "False\n"
     ]
    }
   ],
   "source": [
    "# lambda function\n",
    "a = lambda n: n%2==0\n",
    "print(a(5))"
   ]
  },
  {
   "cell_type": "code",
   "execution_count": 15,
   "id": "3af6b7fc-b972-4f83-9b6c-8541c04f1cce",
   "metadata": {},
   "outputs": [
    {
     "name": "stdout",
     "output_type": "stream",
     "text": [
      "30\n"
     ]
    }
   ],
   "source": [
    "mul = lambda a,b: a*b\n",
    "print(mul(5,6))"
   ]
  },
  {
   "cell_type": "code",
   "execution_count": 4,
   "id": "6a06c582-599f-4f4d-a6b1-d7820255a710",
   "metadata": {},
   "outputs": [
    {
     "name": "stdout",
     "output_type": "stream",
     "text": [
      "3\n"
     ]
    }
   ],
   "source": [
    "#find nth fibonacii series 0,1,1,2,3,5,8,13 \n",
    "def fib(n) ->int:\n",
    "    a,b=0,1\n",
    "    if n==1:\n",
    "        return a\n",
    "    elif n==2:\n",
    "        return b\n",
    "    for i in range(1,n):\n",
    "        a,b = b,a+b\n",
    "    return a\n",
    "n = fib(5)\n",
    "print(n)"
   ]
  },
  {
   "cell_type": "code",
   "execution_count": 18,
   "id": "b9fd5d5e-78f3-4cb4-98fb-838d729c9a72",
   "metadata": {},
   "outputs": [
    {
     "name": "stdout",
     "output_type": "stream",
     "text": [
      "____hello world____\n",
      "hello world\n",
      "10\n"
     ]
    }
   ],
   "source": [
    "##string\n",
    "\n",
    "s =\"____hello world____\"    \n",
    "print(s)\n",
    "# print(s[0],s[-11])\n",
    "# print(s[10],s[10])\n",
    "# #s[0] ='a' does not support assignment\n",
    "# s+=\"coding blocks\"\n",
    "# print(s)\n",
    "\n",
    "# print(s.replace(\"coding blocks\",\" python\"))\n",
    "# print(s.count(\"l\"))\n",
    "# print(s.capitalize())\n",
    "# print(s.upper())\n",
    "print(s.strip(\"_\"))\n",
    "print(s.find(\"w\"))\n"
   ]
  },
  {
   "cell_type": "code",
   "execution_count": 7,
   "id": "b729f12a-651b-47d3-9192-8cd9ac6edad7",
   "metadata": {},
   "outputs": [
    {
     "name": "stdout",
     "output_type": "stream",
     "text": [
      "\n",
      "1 \n",
      "1 1 \n",
      "1 1 1 \n",
      "1 1 1 1 \n",
      "1 1 1 1 1 \n"
     ]
    }
   ],
   "source": [
    "count = 1\n",
    "for r in range(6):\n",
    "    for c in range(r):\n",
    "        print(count,end=\" \")\n",
    "        counnt+=1\n",
    "    print()"
   ]
  },
  {
   "cell_type": "code",
   "execution_count": 8,
   "id": "ba5bfd9d-aead-4a5a-bda5-5eb53aed433f",
   "metadata": {},
   "outputs": [
    {
     "name": "stdin",
     "output_type": "stream",
     "text": [
      "enter no 5\n"
     ]
    },
    {
     "name": "stdout",
     "output_type": "stream",
     "text": [
      "\n",
      "1 \n",
      "2 3 \n",
      "4 5 6 \n",
      "7 8 9 10 \n"
     ]
    }
   ],
   "source": [
    "row = int(input(\"enter no\"))\n",
    "count = 1\n",
    "for r in range(row):\n",
    "    for c in range(r):\n",
    "        print(count,end=\" \")\n",
    "        count+=1\n",
    "    print()"
   ]
  },
  {
   "cell_type": "code",
   "execution_count": 10,
   "id": "c7e9ec10-c3d4-4fda-aca7-2924961f6151",
   "metadata": {},
   "outputs": [
    {
     "name": "stdout",
     "output_type": "stream",
     "text": [
      "\n",
      "A \n",
      "B C \n",
      "D E F \n",
      "G H I J \n"
     ]
    }
   ],
   "source": [
    "start = \"A\"\n",
    "for r in range(5):\n",
    "    for c in range(r):\n",
    "        print(start,end=\" \")\n",
    "        start = chr(ord(start) + 1 )\n",
    "    print()"
   ]
  },
  {
   "cell_type": "code",
   "execution_count": 14,
   "id": "82695b34-8476-4417-855b-8acec2cd1e5c",
   "metadata": {},
   "outputs": [
    {
     "name": "stdout",
     "output_type": "stream",
     "text": [
      "13\n"
     ]
    }
   ],
   "source": [
    "\n",
    "add = lambda a,b: a+b\n",
    "print(add(5,8))"
   ]
  },
  {
   "cell_type": "code",
   "execution_count": 16,
   "id": "bdc94720-8c8d-4655-b193-d08a73d2947d",
   "metadata": {},
   "outputs": [
    {
     "name": "stdout",
     "output_type": "stream",
     "text": [
      "False\n"
     ]
    }
   ],
   "source": [
    "isnegative = lambda n: n<0\n",
    "print(isnegative(5))"
   ]
  },
  {
   "cell_type": "code",
   "execution_count": 27,
   "id": "47459937-26b1-4241-bb2b-2ae4dd6186f9",
   "metadata": {},
   "outputs": [
    {
     "name": "stdout",
     "output_type": "stream",
     "text": [
      "_____mohd kaif____\n",
      "18\n",
      "_  \n",
      "d _\n",
      "_____ganesh kaif____\n",
      "_____mohd kaif____\n",
      "_____mohd kaif____\n",
      "1\n",
      "mohd kaif\n",
      "1\n"
     ]
    },
    {
     "ename": "NameError",
     "evalue": "name 'hamza' is not defined",
     "output_type": "error",
     "traceback": [
      "\u001b[1;31m---------------------------------------------------------------------------\u001b[0m",
      "\u001b[1;31mNameError\u001b[0m                                 Traceback (most recent call last)",
      "Cell \u001b[1;32mIn[27], line 12\u001b[0m\n\u001b[0;32m     10\u001b[0m \u001b[38;5;28mprint\u001b[39m(a\u001b[38;5;241m.\u001b[39mstrip(\u001b[38;5;124m\"\u001b[39m\u001b[38;5;124m_\u001b[39m\u001b[38;5;124m\"\u001b[39m))\n\u001b[0;32m     11\u001b[0m \u001b[38;5;28mprint\u001b[39m(a\u001b[38;5;241m.\u001b[39mcount(a))\n\u001b[1;32m---> 12\u001b[0m a\u001b[38;5;241m+\u001b[39m\u001b[43mhamza\u001b[49m\n\u001b[0;32m     13\u001b[0m \u001b[38;5;28mprint\u001b[39m(a)\n",
      "\u001b[1;31mNameError\u001b[0m: name 'hamza' is not defined"
     ]
    }
   ],
   "source": [
    " a = \"_____mohd kaif____\"\n",
    "print(a)\n",
    "print(len(a))\n",
    "print(a[0],a[-9])\n",
    "print(a[8],a[-1])\n",
    "print(a.replace(\"mohd\",\"ganesh\"))\n",
    "print(a)\n",
    "print(a.capitalize())\n",
    "print(a.count(a))\n",
    "print(a.strip(\"_\"))\n",
    "print(a.count(a))"
   ]
  },
  {
   "cell_type": "code",
   "execution_count": 2,
   "id": "f82b24ff-22f6-456f-98d1-de4f7cd54afb",
   "metadata": {},
   "outputs": [
    {
     "name": "stdout",
     "output_type": "stream",
     "text": [
      "40320\n"
     ]
    }
   ],
   "source": [
    "##factorial\n",
    "def fac(n):\n",
    "    ans=1\n",
    "    for i in range(1,n+1):\n",
    "        ans*=i\n",
    "    return ans\n",
    "print(fac(8))\n"
   ]
  },
  {
   "cell_type": "code",
   "execution_count": null,
   "id": "51e4ccf5-f03e-4e48-ac5a-737341839740",
   "metadata": {},
   "outputs": [],
   "source": [
    "\n"
   ]
  },
  {
   "cell_type": "code",
   "execution_count": null,
   "id": "c09b41f2-7875-4fd9-a9dd-f48f472fe6d0",
   "metadata": {},
   "outputs": [],
   "source": [
    "## string slicing\n",
    "a b c d e f\n",
    "0 1 2 3 4 5\n",
    "-6-5-4-3-2-1\n"
   ]
  },
  {
   "cell_type": "code",
   "execution_count": null,
   "id": "9e6c6a78-fbb0-4557-b65d-4cb09490ed42",
   "metadata": {},
   "outputs": [],
   "source": [
    "s = \"abcdef\"\n",
    "print(s[0:5])"
   ]
  },
  {
   "cell_type": "code",
   "execution_count": null,
   "id": "ffb7de5a-0820-4913-b2d4-310d521a3d2e",
   "metadata": {},
   "outputs": [],
   "source": [
    "\n"
   ]
  },
  {
   "cell_type": "code",
   "execution_count": null,
   "id": "16d3bde1-1aaf-41d4-9c66-433356747d76",
   "metadata": {},
   "outputs": [],
   "source": []
  },
  {
   "cell_type": "code",
   "execution_count": 8,
   "id": "b537df04-81a2-4a89-8ee7-d5ebb24765a8",
   "metadata": {},
   "outputs": [
    {
     "name": "stdin",
     "output_type": "stream",
     "text": [
      "enter strin abcd\n"
     ]
    },
    {
     "name": "stdout",
     "output_type": "stream",
     "text": [
      "a\n",
      "ab\n",
      "abc\n",
      "abcd\n"
     ]
    }
   ],
   "source": [
    "s=input(\"enter strin\")\n",
    "stx=0\n",
    "for edx in range(1,len(s)+1):\n",
    "    print(s[stx:edx])"
   ]
  },
  {
   "cell_type": "code",
   "execution_count": 9,
   "id": "94f778b1-51dc-4c37-969b-c0c7b5486194",
   "metadata": {},
   "outputs": [
    {
     "name": "stdin",
     "output_type": "stream",
     "text": [
      "enter strin abcd\n"
     ]
    },
    {
     "name": "stdout",
     "output_type": "stream",
     "text": [
      "b\n",
      "bc\n",
      "bcd\n"
     ]
    }
   ],
   "source": [
    "s=input(\"enter strin\")\n",
    "stx=1\n",
    "for edx in range(2,len(s)+1):\n",
    "    print(s[stx:edx])"
   ]
  },
  {
   "cell_type": "code",
   "execution_count": 10,
   "id": "bbdea0cd-3ace-49b5-9e53-80a748a27eaf",
   "metadata": {},
   "outputs": [
    {
     "name": "stdin",
     "output_type": "stream",
     "text": [
      "enter strin abcd\n"
     ]
    },
    {
     "name": "stdout",
     "output_type": "stream",
     "text": [
      "c\n",
      "cd\n"
     ]
    }
   ],
   "source": [
    "s=input(\"enter strin\")\n",
    "stx=2\n",
    "for edx in range(3,len(s)+1):\n",
    "    print(s[stx:edx])"
   ]
  },
  {
   "cell_type": "code",
   "execution_count": 11,
   "id": "1f9995d6-d050-44e1-b796-ceb308240519",
   "metadata": {},
   "outputs": [
    {
     "name": "stdin",
     "output_type": "stream",
     "text": [
      "enter strin abcd\n"
     ]
    },
    {
     "name": "stdout",
     "output_type": "stream",
     "text": [
      "d\n"
     ]
    }
   ],
   "source": [
    "s=input(\"enter strin\")\n",
    "stx=3\n",
    "for edx in range(4,len(s)+1):\n",
    "    print(s[stx:edx])"
   ]
  },
  {
   "cell_type": "code",
   "execution_count": 18,
   "id": "aab333ec-28b9-4b85-a316-1fde71c1e82d",
   "metadata": {},
   "outputs": [
    {
     "name": "stdin",
     "output_type": "stream",
     "text": [
      "enter strin abcd\n"
     ]
    },
    {
     "name": "stdout",
     "output_type": "stream",
     "text": [
      "\n",
      "a\n",
      "ab\n",
      "abc\n",
      "abcd\n",
      "\n",
      "b\n",
      "bc\n",
      "bcd\n",
      "\n",
      "c\n",
      "cd\n",
      "\n",
      "d\n"
     ]
    }
   ],
   "source": [
    "s=input(\"enter strin\")\n",
    "for stx in range(0,len(s)):\n",
    "    for edx in range(stx,len(s)+1):\n",
    "        print(s[stx:edx])"
   ]
  },
  {
   "cell_type": "code",
   "execution_count": 26,
   "id": "1c517fb6-cddf-4581-9231-6a847cfca1cf",
   "metadata": {},
   "outputs": [
    {
     "name": "stdin",
     "output_type": "stream",
     "text": [
      "enter string ganesh lavkush sujal kaif\n"
     ]
    },
    {
     "name": "stdout",
     "output_type": "stream",
     "text": [
      "ganesh\n",
      "kaif\n"
     ]
    }
   ],
   "source": [
    "# string even lenth \n",
    "a = input(\"enter string\")\n",
    "s=a.split(\" \")\n",
    "for i in s:\n",
    "    if len(i)%2==0:\n",
    "        print(i)"
   ]
  },
  {
   "cell_type": "code",
   "execution_count": 25,
   "id": "62724902-86b6-4824-8254-d85a5a1508e8",
   "metadata": {},
   "outputs": [
    {
     "name": "stdout",
     "output_type": "stream",
     "text": [
      "total count of chars,digits,symbols\n",
      "\n",
      "chars= 6 digits= 6 symbols= 4\n"
     ]
    }
   ],
   "source": [
    "#count character , digit , symbol \n",
    "def find_digits_chars_symbols(sample_str):\n",
    "    char_count = 0\n",
    "    digit_count = 0\n",
    "    symbol_count = 0\n",
    "    for char in sample_str:\n",
    "        if char.isalpha():\n",
    "            char_count+=1\n",
    "        elif char.isdigit():\n",
    "            digit_count+=1\n",
    "        else:\n",
    "            symbol_count+=1\n",
    "    print(\"chars=\",char_count,\"digits=\",digit_count,\"symbols=\",symbol_count)\n",
    "sample_str = \"ghhf5684&%$#45hj\"\n",
    "print(\"total count of chars,digits,symbols\\n\")\n",
    "find_digits_chars_symbols(sample_str)"
   ]
  },
  {
   "cell_type": "code",
   "execution_count": 2,
   "id": "d0cac116-0f61-48d8-bdbc-6bad08563b01",
   "metadata": {},
   "outputs": [
    {
     "name": "stdin",
     "output_type": "stream",
     "text": [
      "Enter String MOHD KAIF \n"
     ]
    },
    {
     "name": "stdout",
     "output_type": "stream",
     "text": [
      "The total vowels are 3\n"
     ]
    }
   ],
   "source": [
    "# count vowels in string\n",
    "\n",
    "str = input(\"Enter String\")\n",
    "count = 0\n",
    "for i in str:\n",
    "    if( \n",
    "        i == \"A\"\n",
    "        or i == \"a\"\n",
    "        or i == \"E\"\n",
    "        or i == \"e\"\n",
    "        or i == \"I\"\n",
    "        or i == \"i\"\n",
    "        or i == \"O\"\n",
    "        or i == \"o\"\n",
    "        or i == \"U\"\n",
    "        or i == \"u\"\n",
    "    ):\n",
    "        count+=1\n",
    "print( \"The total vowels are\" , count)"
   ]
  },
  {
   "cell_type": "code",
   "execution_count": 3,
   "id": "46b26bc9-85fa-4025-bd8d-c1eadb1577d6",
   "metadata": {},
   "outputs": [
    {
     "name": "stdout",
     "output_type": "stream",
     "text": [
      "6 coding\n"
     ]
    }
   ],
   "source": [
    "s = \"hello world coding\" \n",
    "s = s.split(\" \")\n",
    "max_len = 0\n",
    "ans=\"\"\n",
    "for i in s:\n",
    "    if(len(i) > max_len):\n",
    "        max_len =len(i)\n",
    "        ans=i\n",
    "print(max_len,ans)\n",
    "\n"
   ]
  },
  {
   "cell_type": "code",
   "execution_count": 4,
   "id": "3f86f6c7-1a50-40f3-85cd-2c5fb22da607",
   "metadata": {},
   "outputs": [
    {
     "name": "stdout",
     "output_type": "stream",
     "text": [
      "fiak dhom\n"
     ]
    }
   ],
   "source": [
    "## reverse\n",
    "a = \"mohd kaif\"\n",
    "print(a[::-1])"
   ]
  },
  {
   "cell_type": "code",
   "execution_count": 17,
   "id": "3e55bb17-2ef5-4b94-afae-643df2dba3f1",
   "metadata": {},
   "outputs": [
    {
     "name": "stdout",
     "output_type": "stream",
     "text": [
      "hsgane\n"
     ]
    }
   ],
   "source": [
    "a =\"ganesh\"\n",
    "s=a[:-3:-1] + a[0:4:1]\n",
    "print(s)"
   ]
  },
  {
   "cell_type": "code",
   "execution_count": 19,
   "id": "2c6ad16f-0f7f-4895-b48d-fb0b7ccd160c",
   "metadata": {},
   "outputs": [
    {
     "name": "stdout",
     "output_type": "stream",
     "text": [
      "[1, 2, 3]\n",
      "<class 'list'>\n"
     ]
    }
   ],
   "source": [
    "## list\n",
    "l = [1,2,3]\n",
    "print(l)\n",
    "print(type(l))"
   ]
  },
  {
   "cell_type": "code",
   "execution_count": 20,
   "id": "02bddbad-3958-4c26-b67b-7af0b86a1d04",
   "metadata": {},
   "outputs": [
    {
     "name": "stdout",
     "output_type": "stream",
     "text": [
      "1\n",
      "2\n",
      "3\n"
     ]
    }
   ],
   "source": [
    "l =[1,2,3]\n",
    "for i in l:\n",
    "    print(i)"
   ]
  },
  {
   "cell_type": "code",
   "execution_count": 21,
   "id": "8273df90-2054-42a5-9d9f-b07a3f4ee4e8",
   "metadata": {},
   "outputs": [
    {
     "name": "stdout",
     "output_type": "stream",
     "text": [
      "[4, 5, 6, 7]\n"
     ]
    }
   ],
   "source": [
    "l1=list((4,5,6,7))\n",
    "print(l1)"
   ]
  },
  {
   "cell_type": "code",
   "execution_count": 11,
   "id": "bcbec93c-3b97-467d-96f5-312803693a68",
   "metadata": {},
   "outputs": [
    {
     "name": "stdout",
     "output_type": "stream",
     "text": [
      "[8, 7, 6]\n",
      "fi\n"
     ]
    }
   ],
   "source": [
    "l = [1,2,3,4,5,6,7,8]\n",
    "print(l[-1:-4:-1])\n",
    "m=\"kaif\"\n",
    "print(m[-1:-3:-1])\n",
    "\n"
   ]
  },
  {
   "cell_type": "code",
   "execution_count": 23,
   "id": "ee0617c8-f4fc-4819-992c-d0ffd6d65f93",
   "metadata": {},
   "outputs": [
    {
     "name": "stdout",
     "output_type": "stream",
     "text": [
      "[1, 4, 9, 16, 25, 36, 49, 64]\n"
     ]
    }
   ],
   "source": [
    "l = [1,2,3,4,5,6,7,8]\n",
    "sq=[]\n",
    "for i in l:\n",
    "    sq.append(i**2)\n",
    "print(sq)"
   ]
  },
  {
   "cell_type": "code",
   "execution_count": 25,
   "id": "03f345bc-bd85-435c-8045-79906e7386f1",
   "metadata": {},
   "outputs": [
    {
     "name": "stdout",
     "output_type": "stream",
     "text": [
      "45\n"
     ]
    }
   ],
   "source": [
    "l = [1,2,3,4,5,6,7,8,45,14]\n",
    "largest=0\n",
    "for i in l:\n",
    "    if(largest<i):\n",
    "        largest = i\n",
    "print(largest)\n",
    "    \n",
    "    \n",
    "    \n",
    "    \n",
    "    \n",
    "    \n",
    "    \n"
   ]
  },
  {
   "cell_type": "code",
   "execution_count": 26,
   "id": "2b13439c-f235-448d-95b3-1563fbc3a2d0",
   "metadata": {},
   "outputs": [
    {
     "name": "stdout",
     "output_type": "stream",
     "text": [
      "[0, 1, 1, 2, 3, 5, 8, 13, 21, 34]\n"
     ]
    }
   ],
   "source": [
    "def fib(n):\n",
    "    l=[]\n",
    "    a,b=0,1\n",
    "    while n>0:\n",
    "        l.append(a)\n",
    "        a,b=b,a+b\n",
    "        n-=1\n",
    "    return l\n",
    "l = fib(10)\n",
    "print(l)"
   ]
  },
  {
   "cell_type": "code",
   "execution_count": 1,
   "id": "6baa0ac0-76b0-4fd5-a90f-d44b347003b7",
   "metadata": {},
   "outputs": [
    {
     "name": "stdout",
     "output_type": "stream",
     "text": [
      "[4, 5, 8, 14, 12, 14, 78, 9]\n"
     ]
    }
   ],
   "source": [
    "l = [4,5,8,14,12,14,78]\n",
    "l.append(9)\n",
    "print(l)\n"
   ]
  },
  {
   "cell_type": "code",
   "execution_count": 2,
   "id": "2b9245b8-8e38-4488-a5c2-c68c772ceeab",
   "metadata": {},
   "outputs": [
    {
     "name": "stdout",
     "output_type": "stream",
     "text": [
      "[4, 5, 8, 14, 12, 14, 78, 5, 6, 3]\n"
     ]
    }
   ],
   "source": [
    "l = [4,5,8,14,12,14,78]\n",
    "l1 = [5,6,3]\n",
    "l.extend(l1)\n",
    "print(l)"
   ]
  },
  {
   "cell_type": "code",
   "execution_count": 4,
   "id": "b1dee835-45da-47df-8ad9-32190f0bc91f",
   "metadata": {},
   "outputs": [
    {
     "name": "stdout",
     "output_type": "stream",
     "text": [
      "[4, 5, 8, 10, 14, 12, 14, 78]\n"
     ]
    }
   ],
   "source": [
    "l = [4,5,8,14,12,14,78]\n",
    "l.insert(3,10)\n",
    "print(l)\n"
   ]
  },
  {
   "cell_type": "code",
   "execution_count": 7,
   "id": "ae885eea-a123-4017-a29d-4f783c78bb3c",
   "metadata": {},
   "outputs": [
    {
     "name": "stdout",
     "output_type": "stream",
     "text": [
      "[4, 8, 14, 12, 14, 78]\n"
     ]
    }
   ],
   "source": [
    "l = [4,5,8,14,12,14,78]\n",
    "l.remove(5)\n",
    "print(l)"
   ]
  },
  {
   "cell_type": "code",
   "execution_count": 9,
   "id": "8b4d8341-0dc7-46d8-ac8a-0754dd516675",
   "metadata": {},
   "outputs": [
    {
     "name": "stdout",
     "output_type": "stream",
     "text": [
      "[4, 5, 8, 14, 12, 14]\n"
     ]
    }
   ],
   "source": [
    "l = [4,5,8,14,12,14,78]\n",
    "l.pop()\n",
    "print(l)\n"
   ]
  },
  {
   "cell_type": "code",
   "execution_count": 10,
   "id": "a310bb04-0dd2-48b4-8e56-7cf4ecdb06f3",
   "metadata": {},
   "outputs": [
    {
     "name": "stdout",
     "output_type": "stream",
     "text": [
      "[]\n"
     ]
    }
   ],
   "source": [
    "l = [4,5,8,14,12,14,78]\n",
    "l.clear()\n",
    "print(l)"
   ]
  },
  {
   "cell_type": "code",
   "execution_count": 12,
   "id": "de1950e3-5da3-4411-ac52-b82d91a2ec1e",
   "metadata": {},
   "outputs": [
    {
     "name": "stdout",
     "output_type": "stream",
     "text": [
      "[5, 12, 14, 14, 45, 74, 78]\n"
     ]
    }
   ],
   "source": [
    "l = [74,5,45,14,12,14,78]\n",
    "l.sort()\n",
    "print(l)"
   ]
  },
  {
   "cell_type": "code",
   "execution_count": 15,
   "id": "7bcbc614-b501-4612-874d-e890f18f24be",
   "metadata": {},
   "outputs": [
    {
     "name": "stdout",
     "output_type": "stream",
     "text": [
      "14\n"
     ]
    }
   ],
   "source": [
    "l = [74,5,45,14,12,14,78]\n",
    "l.count(14)\n",
    "print()\n"
   ]
  },
  {
   "cell_type": "code",
   "execution_count": 17,
   "id": "aeb593ef-8346-4696-ae35-7f881f5c5401",
   "metadata": {},
   "outputs": [
    {
     "name": "stdout",
     "output_type": "stream",
     "text": [
      "[78, 14, 12, 14, 45, 5, 74]\n"
     ]
    }
   ],
   "source": [
    "l = [74,5,45,14,12,14,78]\n",
    "l.reverse()\n",
    "print(l)"
   ]
  },
  {
   "cell_type": "code",
   "execution_count": 4,
   "id": "bb319fd5-6ab4-4eb9-b84b-6768c769dc85",
   "metadata": {},
   "outputs": [
    {
     "name": "stdout",
     "output_type": "stream",
     "text": [
      "[5, 8, 6, 2, 1, 3, 10, 12, 13, -11]\n"
     ]
    }
   ],
   "source": [
    "l=[-5,-8,-6,-2,-1,-3,-10,-12,-13,11,]\n",
    "pos=[]\n",
    "for i in l:\n",
    "    pos.append(i*-1)\n",
    "print(pos)\n"
   ]
  },
  {
   "cell_type": "code",
   "execution_count": 5,
   "id": "b60797a4-1dcc-430a-a589-897a4d61d184",
   "metadata": {},
   "outputs": [
    {
     "name": "stdout",
     "output_type": "stream",
     "text": [
      "[-5, -8, -2, -1, -10, -12, -13]\n"
     ]
    }
   ],
   "source": [
    "l=[-5,-8,6,-2,-1,3,-10,-12,-13,11]\n",
    "l1=[]\n",
    "for i in l:\n",
    "    if(i<0):\n",
    "        l1.append(i)\n",
    "print(l1)\n"
   ]
  },
  {
   "cell_type": "code",
   "execution_count": 7,
   "id": "867443be-62d2-4e01-b358-f917bca0fc4b",
   "metadata": {},
   "outputs": [
    {
     "name": "stdout",
     "output_type": "stream",
     "text": [
      "[6, 3, 11]\n"
     ]
    }
   ],
   "source": [
    "l=[-5,-8,6,-2,-1,3,-10,-12,-13,11]\n",
    "l2=[]\n",
    "for i in l:\n",
    "    if(i>0):\n",
    "        l2.append(i)\n",
    "print(l2)"
   ]
  },
  {
   "cell_type": "code",
   "execution_count": 8,
   "id": "931797c9-58c6-41b7-a837-cfab574333fc",
   "metadata": {},
   "outputs": [
    {
     "name": "stdout",
     "output_type": "stream",
     "text": [
      "[5, 8, 6, 2, 1, 3, 10, 12, 13, 11]\n"
     ]
    }
   ],
   "source": [
    "l=[-5,-8,6,-2,-1,3,-10,-12,-13,11]\n",
    "l3=[]\n",
    "for i in l:\n",
    "    l3.append(abs(i))\n",
    "print(l3)"
   ]
  },
  {
   "cell_type": "code",
   "execution_count": 14,
   "id": "740ebb27-310d-47d9-80f9-4c9483394a2a",
   "metadata": {},
   "outputs": [
    {
     "name": "stdout",
     "output_type": "stream",
     "text": [
      "[-5, -8, -2, -1, 3, -12, -13, 11]\n"
     ]
    }
   ],
   "source": [
    "def isprime(n):\n",
    "    if(n<=0):\n",
    "        reeturn False\n",
    "    for i in range(2,n):\n",
    "          if(n%i==0):\n",
    "              return False\n",
    "    return True\n",
    "l=[-5,-8,6,-2,-1,3,10,-12,13,11]\n",
    "l3=[]\n",
    "for i in l:\n",
    "    if(isprime(i)):\n",
    "         l3.append(i)\n",
    "print(l3)\n",
    "    "
   ]
  },
  {
   "cell_type": "code",
   "execution_count": 21,
   "id": "3d74c160-a91f-4e9a-afa7-5400facf2b1b",
   "metadata": {},
   "outputs": [
    {
     "name": "stdout",
     "output_type": "stream",
     "text": [
      "[4, 1, 2, 3]\n"
     ]
    }
   ],
   "source": [
    "l = [1,2,3,4]\n",
    "i=len(l)-1\n",
    "a=l[i]\n",
    "while(i>0):\n",
    "    l[i]=l[i-1]\n",
    "    i-=1\n",
    "l[0]=a\n",
    "print(l)"
   ]
  },
  {
   "cell_type": "code",
   "execution_count": 22,
   "id": "642b5a8d-435a-49d8-ab10-e558e38e0570",
   "metadata": {},
   "outputs": [
    {
     "name": "stdout",
     "output_type": "stream",
     "text": [
      "[8, 7, 6, 5, 4, 3, 2, 1]\n"
     ]
    }
   ],
   "source": [
    "l = [1,2,3,4,5,6,7,8]\n",
    "left=0\n",
    "right = len(l)-1\n",
    "while(left<right):\n",
    "    l[left],l[right]=l[right],l[left]\n",
    "    left+=1\n",
    "    right-=1\n",
    "print(l)"
   ]
  },
  {
   "cell_type": "code",
   "execution_count": 23,
   "id": "0176be13-eb66-4d1e-8074-99f32a04132b",
   "metadata": {},
   "outputs": [
    {
     "name": "stdout",
     "output_type": "stream",
     "text": [
      "[1, 2, 6, 5, 4, 3, 7, 8]\n"
     ]
    }
   ],
   "source": [
    "###function to reverse a list \n",
    "def reverse (start,end,l):\n",
    "    left=start\n",
    "    right=end\n",
    "    while(left<right):\n",
    "        l[left],l[right] = l[right],l[left]\n",
    "        left+=1\n",
    "        right-=1\n",
    "    return l\n",
    "l = [1,2,3,4,5,6,7,8]\n",
    "reverse(2,5,l)\n",
    "print(l)"
   ]
  },
  {
   "cell_type": "code",
   "execution_count": 13,
   "id": "7c6af876-21a5-40f3-b6ea-b2be6036ed53",
   "metadata": {},
   "outputs": [
    {
     "name": "stdout",
     "output_type": "stream",
     "text": [
      "[7, 8, 1, 2, 3, 4, 5, 6]\n"
     ]
    }
   ],
   "source": [
    "def reverse (start,end,l):\n",
    "    left=start\n",
    "    right=end\n",
    "    while(left<right):\n",
    "        l[left],l[right] = l[right],l[left]\n",
    "        left+=1\n",
    "        right-=1\n",
    "    return l\n",
    "l = [1,2,3,4,5,6,7,8]\n",
    "reverse(6,7,l)\n",
    "reverse(0,5,l)\n",
    "reverse(0,7,l)\n",
    "print(l)"
   ]
  },
  {
   "cell_type": "code",
   "execution_count": 25,
   "id": "bed1d29a-3206-4392-b466-7d417a4cb61c",
   "metadata": {},
   "outputs": [
    {
     "name": "stdout",
     "output_type": "stream",
     "text": [
      "[0, 1, 2, 3, 4]\n"
     ]
    }
   ],
   "source": [
    "## list comprehension\n",
    "l=[i for i in range(5)]\n",
    "print(l)"
   ]
  },
  {
   "cell_type": "code",
   "execution_count": 28,
   "id": "6f1089ac-15be-456a-85a5-d555fe486ed4",
   "metadata": {},
   "outputs": [
    {
     "name": "stdout",
     "output_type": "stream",
     "text": [
      "[1, 4, 9, 16, 25]\n"
     ]
    }
   ],
   "source": [
    "l =[1,2,3,4,5]\n",
    "l1 = [i**2 for i in l]\n",
    "print(l1)"
   ]
  },
  {
   "cell_type": "code",
   "execution_count": 29,
   "id": "6ec2200a-c795-4512-b2bf-656d6ef5f25f",
   "metadata": {},
   "outputs": [
    {
     "name": "stdout",
     "output_type": "stream",
     "text": [
      "[4, 16]\n"
     ]
    }
   ],
   "source": [
    "l =[1,2,3,4,5]\n",
    "l1 = [i**2 for i in l if i%2==0]\n",
    "print(l1)"
   ]
  },
  {
   "cell_type": "code",
   "execution_count": 31,
   "id": "01602d4c-7c60-467a-9e1c-8c50255da021",
   "metadata": {},
   "outputs": [
    {
     "name": "stdout",
     "output_type": "stream",
     "text": [
      "(1, 4) (1, 5) (1, 6) (2, 4) (2, 5) (2, 6) (3, 4) (3, 5) (3, 6) "
     ]
    }
   ],
   "source": [
    "x =[1,2,3]\n",
    "y =[4,5,6]\n",
    "for i in x:\n",
    "    for j in y:\n",
    "        print((i,j),end=\" \")"
   ]
  },
  {
   "cell_type": "code",
   "execution_count": 33,
   "id": "6d228b17-cd49-4b18-aaad-e3bc2ea646e6",
   "metadata": {},
   "outputs": [
    {
     "name": "stdout",
     "output_type": "stream",
     "text": [
      "[(1, 4), (1, 5), (1, 6), (2, 4), (2, 5), (2, 6), (3, 4), (3, 5), (3, 6)]\n"
     ]
    }
   ],
   "source": [
    "cord = [(i,j) for i in x for j in y ]\n",
    "print(cord)"
   ]
  },
  {
   "cell_type": "code",
   "execution_count": 4,
   "id": "6cd5860a-22f5-4bae-b9b3-c2bd2b2f2720",
   "metadata": {},
   "outputs": [
    {
     "ename": "TypeError",
     "evalue": "unsupported operand type(s) for -: 'list' and 'int'",
     "output_type": "error",
     "traceback": [
      "\u001b[1;31m---------------------------------------------------------------------------\u001b[0m",
      "\u001b[1;31mTypeError\u001b[0m                                 Traceback (most recent call last)",
      "Cell \u001b[1;32mIn[4], line 5\u001b[0m\n\u001b[0;32m      3\u001b[0m     \u001b[38;5;28;01mreturn\u001b[39;00m l\n\u001b[0;32m      4\u001b[0m l \u001b[38;5;241m=\u001b[39m [\u001b[38;5;241m2\u001b[39m,\u001b[38;5;241m5\u001b[39m,\u001b[38;5;241m8\u001b[39m,\u001b[38;5;241m9\u001b[39m,\u001b[38;5;241m7\u001b[39m,\u001b[38;5;241m10\u001b[39m,\u001b[38;5;241m12\u001b[39m]\n\u001b[1;32m----> 5\u001b[0m \u001b[43minterchange\u001b[49m\u001b[43m(\u001b[49m\u001b[43ml\u001b[49m\u001b[43m)\u001b[49m\n\u001b[0;32m      6\u001b[0m \u001b[38;5;28mprint\u001b[39m(l)\n",
      "Cell \u001b[1;32mIn[4], line 2\u001b[0m, in \u001b[0;36minterchange\u001b[1;34m(n)\u001b[0m\n\u001b[0;32m      1\u001b[0m \u001b[38;5;28;01mdef\u001b[39;00m \u001b[38;5;21minterchange\u001b[39m(n):\n\u001b[1;32m----> 2\u001b[0m     l[\u001b[38;5;241m0\u001b[39m],l[n\u001b[38;5;241m-\u001b[39m\u001b[38;5;241m1\u001b[39m]\u001b[38;5;241m=\u001b[39ml[\u001b[43mn\u001b[49m\u001b[38;5;241;43m-\u001b[39;49m\u001b[38;5;241;43m1\u001b[39;49m],l[\u001b[38;5;241m0\u001b[39m]\n\u001b[0;32m      3\u001b[0m     \u001b[38;5;28;01mreturn\u001b[39;00m l\n",
      "\u001b[1;31mTypeError\u001b[0m: unsupported operand type(s) for -: 'list' and 'int'"
     ]
    }
   ],
   "source": [
    "\n",
    "\n",
    "\n",
    "\n"
   ]
  },
  {
   "cell_type": "code",
   "execution_count": 5,
   "id": "f67a561f-9a5d-4e22-a2e5-995c3a9cea3a",
   "metadata": {},
   "outputs": [
    {
     "name": "stdout",
     "output_type": "stream",
     "text": [
      "10\n"
     ]
    }
   ],
   "source": [
    "## find lenth of list\n",
    "l = [5,6,7,8,1,2,3,9,5,4]\n",
    "print(len(l))"
   ]
  },
  {
   "cell_type": "code",
   "execution_count": 7,
   "id": "fca8ddc4-781e-40e1-814e-4adbcf0a7d83",
   "metadata": {},
   "outputs": [
    {
     "name": "stdout",
     "output_type": "stream",
     "text": [
      "45\n"
     ]
    }
   ],
   "source": [
    "##maximum of two numbers\n",
    "def maximum(a,b):\n",
    "    if(a>b):\n",
    "        return a\n",
    "    else:\n",
    "        return b\n",
    "a = 45\n",
    "b = 14\n",
    "print(maximum(a,b))"
   ]
  },
  {
   "cell_type": "code",
   "execution_count": 8,
   "id": "1d80ab75-73ac-4476-9fa9-ce6506ef44d6",
   "metadata": {},
   "outputs": [
    {
     "name": "stdout",
     "output_type": "stream",
     "text": [
      "11\n"
     ]
    }
   ],
   "source": [
    "##minimum of two numbers\n",
    "def minimum(x,y):\n",
    "    if(x<y):\n",
    "        return x\n",
    "    else:\n",
    "        return y\n",
    "x,y=80,11\n",
    "print(minimum(x,y))"
   ]
  },
  {
   "cell_type": "code",
   "execution_count": 10,
   "id": "44940ee5-2919-4cd1-a8cf-b7e2c5c4cf50",
   "metadata": {},
   "outputs": [
    {
     "name": "stdout",
     "output_type": "stream",
     "text": [
      "exist\n"
     ]
    }
   ],
   "source": [
    "## check if element is exist in list\n",
    "l = [5,8,9,12,10,14,7,2,10,14,15,13,17]\n",
    "i = 2\n",
    "if(i in l):\n",
    "    print(\"exist\")\n",
    "else:\n",
    "    print(\"not exist\")\n"
   ]
  },
  {
   "cell_type": "code",
   "execution_count": 11,
   "id": "54279fcc-3911-48b4-a4f5-508d6705ee12",
   "metadata": {},
   "outputs": [
    {
     "name": "stdout",
     "output_type": "stream",
     "text": [
      "[4, 7, 8, 9, 6, 3, 2, 5]\n"
     ]
    }
   ],
   "source": [
    "## reversing a list\n",
    "def reverse(l):\n",
    "    new_list = l[::-1]\n",
    "    return new_list\n",
    "l = [5,2,3,6,9,8,7,4]\n",
    "print(reverse(l))"
   ]
  },
  {
   "cell_type": "code",
   "execution_count": 14,
   "id": "c9f50265-b319-479d-9d21-cc86f8da3179",
   "metadata": {},
   "outputs": [
    {
     "name": "stdout",
     "output_type": "stream",
     "text": [
      "None\n"
     ]
    }
   ],
   "source": [
    "l =[5,4,3,2,8,9,7]\n",
    "a =l.clear()\n",
    "print(a)"
   ]
  },
  {
   "cell_type": "code",
   "execution_count": 16,
   "id": "5311c745-0e37-44b5-bd2e-78db9699d526",
   "metadata": {},
   "outputs": [
    {
     "ename": "AttributeError",
     "evalue": "'list' object has no attribute 'copying'",
     "output_type": "error",
     "traceback": [
      "\u001b[1;31m---------------------------------------------------------------------------\u001b[0m",
      "\u001b[1;31mAttributeError\u001b[0m                            Traceback (most recent call last)",
      "Cell \u001b[1;32mIn[16], line 2\u001b[0m\n\u001b[0;32m      1\u001b[0m l \u001b[38;5;241m=\u001b[39m[\u001b[38;5;241m5\u001b[39m,\u001b[38;5;241m4\u001b[39m,\u001b[38;5;241m3\u001b[39m,\u001b[38;5;241m2\u001b[39m,\u001b[38;5;241m8\u001b[39m,\u001b[38;5;241m9\u001b[39m,\u001b[38;5;241m7\u001b[39m]\n\u001b[1;32m----> 2\u001b[0m a \u001b[38;5;241m=\u001b[39m\u001b[43ml\u001b[49m\u001b[38;5;241;43m.\u001b[39;49m\u001b[43mcopying\u001b[49m()\n\u001b[0;32m      3\u001b[0m \u001b[38;5;28mprint\u001b[39m(a)\n",
      "\u001b[1;31mAttributeError\u001b[0m: 'list' object has no attribute 'copying'"
     ]
    }
   ],
   "source": [
    "l =[5,4,3,2,8,9,7]\n",
    "a =l.copying()\n",
    "print(a)"
   ]
  },
  {
   "cell_type": "code",
   "execution_count": 18,
   "id": "074a4edd-96f5-4ab9-aeb3-3615b73f17c6",
   "metadata": {},
   "outputs": [
    {
     "name": "stdout",
     "output_type": "stream",
     "text": [
      "the element 5 occurs 3 times\n"
     ]
    }
   ],
   "source": [
    "## count occurance of an element\n",
    "l = [5,2,7,8,9,3,6,4,5,8,7,2,9,3,4,5]\n",
    "e = 5\n",
    "x = [i for i in l if i==e]\n",
    "print(\"the element\",e,\"occurs\",len(x),\"times\")"
   ]
  },
  {
   "cell_type": "code",
   "execution_count": 3,
   "id": "a4d74f0f-9bab-4d39-a917-2411b349da5c",
   "metadata": {},
   "outputs": [
    {
     "name": "stdout",
     "output_type": "stream",
     "text": [
      "sum: 87\n",
      "average: 5.4375\n"
     ]
    }
   ],
   "source": [
    "## sum and average of list\n",
    "l = [5,2,7,8,9,3,6,4,5,8,7,2,9,3,4,5]\n",
    "count = 0\n",
    "for i in l:\n",
    "    count+=i\n",
    "avg=count/len(l)\n",
    "print(\"sum:\",count)\n",
    "print(\"average:\",avg)"
   ]
  },
  {
   "cell_type": "code",
   "execution_count": 2,
   "id": "5f6ca834-10ff-4aab-931e-c893824e1757",
   "metadata": {},
   "outputs": [
    {
     "name": "stdout",
     "output_type": "stream",
     "text": [
      "24\n"
     ]
    }
   ],
   "source": [
    "## multiply all elements in list\n",
    "def multiply(l):\n",
    "    mul =(1)\n",
    "    for i in l:\n",
    "        mul = mul*i\n",
    "    return mul\n",
    "l = [2,4,3]\n",
    "print(multiply(l))\n",
    "    "
   ]
  },
  {
   "cell_type": "code",
   "execution_count": 5,
   "id": "961b58e6-1735-4f77-8be1-383e2afb6120",
   "metadata": {},
   "outputs": [
    {
     "name": "stdout",
     "output_type": "stream",
     "text": [
      "2\n"
     ]
    }
   ],
   "source": [
    "## smaalest\n",
    "l=[5,4,7,8,2,3,9,10,12]\n",
    "print(min(l))"
   ]
  },
  {
   "cell_type": "code",
   "execution_count": 7,
   "id": "999f1093-c16e-4ca7-8552-fa5bb8f7ff27",
   "metadata": {},
   "outputs": [
    {
     "name": "stdout",
     "output_type": "stream",
     "text": [
      "2\n"
     ]
    }
   ],
   "source": [
    "## smallest\n",
    "l=[5,4,7,8,2,3,9,10,12]\n",
    "s = l.sort()\n",
    "print(l[0])"
   ]
  },
  {
   "cell_type": "code",
   "execution_count": 9,
   "id": "e8378990-442a-4a12-aff3-de3bc506264d",
   "metadata": {},
   "outputs": [
    {
     "name": "stdout",
     "output_type": "stream",
     "text": [
      "50\n"
     ]
    }
   ],
   "source": [
    "## largest\n",
    "l=[5,4,7,8,2,3,9,10,12,50,16,18]\n",
    "l.sort()\n",
    "print(l[-1])"
   ]
  },
  {
   "cell_type": "code",
   "execution_count": 10,
   "id": "92b5c90f-deff-4fe8-8f44-058544ce5ddf",
   "metadata": {},
   "outputs": [
    {
     "name": "stdout",
     "output_type": "stream",
     "text": [
      "18\n"
     ]
    }
   ],
   "source": [
    "## second largest \n",
    "l=[5,4,7,8,2,3,9,10,12,50,16,18]\n",
    "l.sort()\n",
    "print(l[-2])"
   ]
  },
  {
   "cell_type": "code",
   "execution_count": 15,
   "id": "4e0c3b35-5fc9-41d1-a838-01b0b22bd7ce",
   "metadata": {},
   "outputs": [
    {
     "name": "stdout",
     "output_type": "stream",
     "text": [
      "4 8 2 10 12 50 16 18 "
     ]
    }
   ],
   "source": [
    "## print even number in list\n",
    "l=[5,4,7,8,2,3,9,10,12,50,16,18]\n",
    "for i in l:\n",
    "    if(i%2==0):\n",
    "        print (i,end=\" \")"
   ]
  },
  {
   "cell_type": "code",
   "execution_count": 18,
   "id": "edd3ba64-4141-468c-bacf-be80b2ee196b",
   "metadata": {},
   "outputs": [
    {
     "name": "stdout",
     "output_type": "stream",
     "text": [
      "5 7 3 9 "
     ]
    }
   ],
   "source": [
    "## print odd no in list\n",
    "l=[5,4,7,8,2,3,9,10,12,50,16,18]\n",
    "for i in l:\n",
    "    if(i%2 != 0):\n",
    "        print (i,end=\" \")"
   ]
  },
  {
   "cell_type": "code",
   "execution_count": 30,
   "id": "6dcc4a28-729f-408b-bd52-7634ee3c61e5",
   "metadata": {},
   "outputs": [
    {
     "name": "stdout",
     "output_type": "stream",
     "text": [
      "even count: 8\n"
     ]
    }
   ],
   "source": [
    "## coun even numbers \n",
    "l=[5,4,7,8,2,3,9,10,12,50,16,18]\n",
    "count = 0\n",
    "for i in l:\n",
    "     if(i%2==0):\n",
    "        count+=1\n",
    "print(\"even count:\",count)"
   ]
  },
  {
   "cell_type": "code",
   "execution_count": 34,
   "id": "07d01110-a7fb-4513-8c3d-f166db47f026",
   "metadata": {},
   "outputs": [
    {
     "name": "stdout",
     "output_type": "stream",
     "text": [
      "even count: 8\n",
      "odd count: 4\n",
      "12\n"
     ]
    }
   ],
   "source": [
    "## count even and odd no in list\n",
    "l=[5,4,7,8,2,3,9,10,12,50,16,18]\n",
    "count1 = 0\n",
    "count2 =0\n",
    "for i in l:\n",
    "     if(i%2==0):\n",
    "        count1+=1\n",
    "     else:\n",
    "          count2+=1\n",
    "print(\"even count:\",count1)\n",
    "print(\"odd count:\",count2)\n",
    "print(len(l))"
   ]
  },
  {
   "cell_type": "code",
   "execution_count": 38,
   "id": "830ae487-9232-4ebf-8b80-cab7fc5a21a9",
   "metadata": {},
   "outputs": [
    {
     "ename": "SyntaxError",
     "evalue": "expected ':' (2394091906.py, line 1)",
     "output_type": "error",
     "traceback": [
      "\u001b[1;36m  Cell \u001b[1;32mIn[38], line 1\u001b[1;36m\u001b[0m\n\u001b[1;33m    for even_numbers in range(5,10,15)\u001b[0m\n\u001b[1;37m                                      ^\u001b[0m\n\u001b[1;31mSyntaxError\u001b[0m\u001b[1;31m:\u001b[0m expected ':'\n"
     ]
    }
   ],
   "source": []
  },
  {
   "cell_type": "code",
   "execution_count": 39,
   "id": "22b69030-2803-4966-9f80-ec3a0ac61b5d",
   "metadata": {},
   "outputs": [
    {
     "name": "stdout",
     "output_type": "stream",
     "text": [
      "5 4 6 2 4 "
     ]
    }
   ],
   "source": [
    "## positive number\n",
    "l =[ -2,-9,5,-8,4,-3,6,2,4,-12,-13]\n",
    "for i in l:\n",
    "    if(i>0):\n",
    "        print(i,end =\" \")"
   ]
  },
  {
   "cell_type": "code",
   "execution_count": 40,
   "id": "b506b553-2d69-41f5-9842-87a123197b30",
   "metadata": {},
   "outputs": [
    {
     "name": "stdout",
     "output_type": "stream",
     "text": [
      "-2 -9 -8 -3 -12 -13 "
     ]
    }
   ],
   "source": [
    "## negetive number\n",
    "l =[ -2,-9,5,-8,4,-3,6,2,4,-12,-13]\n",
    "for i in l:\n",
    "    if(i<0):\n",
    "        print(i,end =\" \")"
   ]
  },
  {
   "cell_type": "code",
   "execution_count": 41,
   "id": "958339a5-2132-48ff-bc32-89ce93fbf4ec",
   "metadata": {},
   "outputs": [
    {
     "name": "stdout",
     "output_type": "stream",
     "text": [
      "positive count: 5\n",
      "negative count: 6\n",
      "11\n"
     ]
    }
   ],
   "source": [
    "### count positive and negative number i list\n",
    "l =[ -2,-9,5,-8,4,-3,6,2,4,-12,-13]\n",
    "pos = 0\n",
    "neg = 0\n",
    "for i in l:\n",
    "    if(i>0):\n",
    "        pos+=1\n",
    "    else:\n",
    "        neg+=1\n",
    "print(\"positive count:\",pos)\n",
    "print(\"negative count:\",neg)\n",
    "print(len(l))"
   ]
  },
  {
   "cell_type": "code",
   "execution_count": 5,
   "id": "d1c1bada-4546-48cf-9bd1-debeb47e605e",
   "metadata": {},
   "outputs": [
    {
     "name": "stdout",
     "output_type": "stream",
     "text": [
      "new list with remove even numbers [5, 7, 8, 9, 18, 14, 13, 45, 71]\n"
     ]
    }
   ],
   "source": [
    "## remove multiple elements from list\n",
    "l =[5,4,7,2,8,9,10,18,16,14,13,45,71]\n",
    "for i in l:\n",
    "    if(i%2==0):\n",
    "        l.remove(i)\n",
    "print(\"new list with remove even numbers\",l)"
   ]
  },
  {
   "cell_type": "code",
   "execution_count": 8,
   "id": "921862b9-0ee6-47b1-8047-a4b78dc451b2",
   "metadata": {},
   "outputs": [
    {
     "name": "stdout",
     "output_type": "stream",
     "text": [
      "new list with remove odd numbers [4, 2, 8, 10, 18, 16, 14, 45]\n"
     ]
    }
   ],
   "source": [
    "l =[5,4,7,2,8,9,10,18,16,14,13,45,71]\n",
    "for i in l:\n",
    "    if(i%2 !=0):\n",
    "        l.remove(i)\n",
    "print(\"new list with remove odd numbers\",l)"
   ]
  },
  {
   "cell_type": "code",
   "execution_count": 9,
   "id": "c88891b3-1e58-4c9a-8604-2bb86afe9861",
   "metadata": {},
   "outputs": [
    {
     "name": "stdout",
     "output_type": "stream",
     "text": [
      "new list with remove positive numbers [-4, -2, -9, -18, 14, 45, -71]\n"
     ]
    }
   ],
   "source": [
    "l =[5,-4,7,-2,8,-9,10,-18,16,14,13,45,-71]\n",
    "for i in l:\n",
    "    if(i>0):\n",
    "        l.remove(i)\n",
    "print(\"new list with remove positive numbers\",l)"
   ]
  },
  {
   "cell_type": "code",
   "execution_count": 1,
   "id": "a52b172f-40cf-4a65-a941-cc1ca00cebb5",
   "metadata": {},
   "outputs": [
    {
     "name": "stdout",
     "output_type": "stream",
     "text": [
      "4 5 6 7 8 9 10 11 12 13 14 15 16 17 18 19 20 21 22 23 24 25 "
     ]
    }
   ],
   "source": [
    "## range positive no\n",
    "s , e = 4,25\n",
    "for i in range(s,e+1):\n",
    "    if i >0:\n",
    "        print(i,end=\" \")"
   ]
  },
  {
   "cell_type": "code",
   "execution_count": 9,
   "id": "25eb0c34-e192-4352-8110-2d3178a0da40",
   "metadata": {},
   "outputs": [],
   "source": [
    "## range negative no\n",
    "s , e = 0,-33\n",
    "for i in range(s,e-1):\n",
    "    if i<0:\n",
    "       print(i,end=\" \")"
   ]
  },
  {
   "cell_type": "code",
   "execution_count": 11,
   "id": "ef1f6130-8bc3-406e-b191-35e068e0659a",
   "metadata": {},
   "outputs": [
    {
     "name": "stdout",
     "output_type": "stream",
     "text": [
      "[15, 41, 12, 18]\n"
     ]
    }
   ],
   "source": [
    "def swap(l,p1,p2):\n",
    "    l[p1],l[p2]=l[p2],l[p1]\n",
    "    return l\n",
    "l = [12,41,15,18]\n",
    "p1,p2 = 1,3\n",
    "print(swap(l,p1-1,p2-1))"
   ]
  },
  {
   "cell_type": "code",
   "execution_count": 5,
   "id": "ecea90d5-5a0b-43f9-8e82-af3fd24efc84",
   "metadata": {},
   "outputs": [
    {
     "name": "stdout",
     "output_type": "stream",
     "text": [
      "pos: 5 neg: -4 pos: 7 neg: -2 pos: 8 neg: -9 pos: 10 neg: -18 pos: 16 pos: 14 pos: 13 pos: 45 neg: -71 "
     ]
    }
   ],
   "source": [
    "l =[5,-4,7,-2,8,-9,10,-18,16,14,13,45,-71]\n",
    "for i in l:\n",
    "    if(i>0):\n",
    "        print(\"pos:\",i,end = \" \")\n",
    "    else:\n",
    "        print(\"neg:\",i,end = \" \")"
   ]
  },
  {
   "cell_type": "code",
   "execution_count": 8,
   "id": "e3dfee28-a024-42ca-9a5a-5837265021d2",
   "metadata": {},
   "outputs": [
    {
     "name": "stdin",
     "output_type": "stream",
     "text": [
      " Kaif@1234\n"
     ]
    },
    {
     "name": "stdout",
     "output_type": "stream",
     "text": [
      "Valid Password\n"
     ]
    }
   ],
   "source": [
    "p = input()\n",
    "l= len(p) >8\n",
    "c,s,d= False,False,False\n",
    "##capital letter ascii 65-90\n",
    "##small letter ascii 97-122\n",
    "## digit asciii 48-57\n",
    "for i in p:\n",
    "    if(ord(i)>=97 and ord(i)<=122):\n",
    "        s=True\n",
    "    elif(ord(i)>=65 and ord(i)<=90):\n",
    "        c = True\n",
    "    elif(ord(i)>=48 and ord(i)<=57):\n",
    "        d=True\n",
    "if( l and c and s and d):\n",
    "    print(\"Valid Password\")\n",
    "else:\n",
    "    print(\"Not Valid\")"
   ]
  },
  {
   "cell_type": "code",
   "execution_count": 7,
   "id": "60b9ac5a-81b0-400e-a040-d1752ba37d6a",
   "metadata": {},
   "outputs": [
    {
     "name": "stdout",
     "output_type": "stream",
     "text": [
      "<class 'tuple'>\n"
     ]
    }
   ],
   "source": [
    "## tuple\n",
    "\n",
    "l = (2,)\n",
    "print(type(l))\n"
   ]
  },
  {
   "cell_type": "code",
   "execution_count": 9,
   "id": "35154b35-60e9-4400-b6d6-5979a0602064",
   "metadata": {},
   "outputs": [
    {
     "name": "stdout",
     "output_type": "stream",
     "text": [
      "5\n",
      "8\n",
      "6\n",
      "2\n",
      "6\n",
      "<class 'tuple'>\n"
     ]
    }
   ],
   "source": [
    "t =(5,8,6,2,6)\n",
    "for i in t:\n",
    "    print(i)\n",
    "print(type(t))"
   ]
  },
  {
   "cell_type": "code",
   "execution_count": 9,
   "id": "cbd161c0-b4cd-4b02-8ec3-333ac5a66c51",
   "metadata": {},
   "outputs": [
    {
     "name": "stdout",
     "output_type": "stream",
     "text": [
      "kaif 19 male\n"
     ]
    }
   ],
   "source": [
    "### unpackk\n",
    "name,age,gen =( \"kaif\",19,\"male\")\n",
    "print(name,age,gen)"
   ]
  },
  {
   "cell_type": "code",
   "execution_count": 12,
   "id": "4f0c50ae-bb43-4fd5-b94d-8f6dde909b8e",
   "metadata": {},
   "outputs": [
    {
     "name": "stdout",
     "output_type": "stream",
     "text": [
      "shivam_55\n"
     ]
    }
   ],
   "source": [
    "### Dictionary\n",
    "\n",
    "d = {\"username\":\"shivam_55\", \"Password\":\"Kaif@123\"}\n",
    "print(d[\"username\"])"
   ]
  },
  {
   "cell_type": "code",
   "execution_count": null,
   "id": "c1c71d72-b154-4edc-98a8-05c2c89704d5",
   "metadata": {},
   "outputs": [],
   "source": [
    "login_info[]\n",
    "for i i range(2):"
   ]
  },
  {
   "cell_type": "code",
   "execution_count": null,
   "id": "ef9b35d5-7962-4a9f-a15a-3079eb5b6690",
   "metadata": {},
   "outputs": [],
   "source": []
  },
  {
   "cell_type": "code",
   "execution_count": null,
   "id": "3879cede-e0a8-4844-b2b3-ac54c6dc1cd6",
   "metadata": {},
   "outputs": [],
   "source": [
    "fruit = {\n",
    "      \"banana\":5,\n",
    "    \n",
    "\n",
    "\n",
    "}"
   ]
  },
  {
   "cell_type": "code",
   "execution_count": 1,
   "id": "4b5c01bd-27a1-48f4-bc5d-480844c94466",
   "metadata": {},
   "outputs": [
    {
     "data": {
      "text/plain": [
       "[8, 91125, 512, 729, 343]"
      ]
     },
     "execution_count": 1,
     "metadata": {},
     "output_type": "execute_result"
    }
   ],
   "source": [
    "# qube\n",
    "l=[2,45,8,9,7]\n",
    "list(map(lambda x: x**3,l))\n",
    "\n"
   ]
  },
  {
   "cell_type": "code",
   "execution_count": 6,
   "id": "013636d4-dae7-42e0-a222-0b78b05d7b30",
   "metadata": {},
   "outputs": [
    {
     "name": "stdout",
     "output_type": "stream",
     "text": [
      "user\n",
      "pass\n",
      "name\n"
     ]
    }
   ],
   "source": [
    "## keys access in dict\n",
    "dict = { \"user\": \"abc\",\n",
    "        \"pass\":12345,\n",
    "       \"name\":\"kaif\"}\n",
    "for i in dict.keys():\n",
    "    print(i)"
   ]
  },
  {
   "cell_type": "code",
   "execution_count": 3,
   "id": "d688bc90-8ded-4207-9d0d-8f7518382e0a",
   "metadata": {},
   "outputs": [
    {
     "name": "stdout",
     "output_type": "stream",
     "text": [
      "user abc\n",
      "pass 12345\n",
      "name kaif\n"
     ]
    }
   ],
   "source": [
    "## key and value acess in dict\n",
    "dict = { \"user\": \"abc\",\n",
    "        \"pass\":12345,\n",
    "       \"name\":\"kaif\"}\n",
    "for i in dict.keys():\n",
    "    print(i,dict[i])\n",
    "\n"
   ]
  },
  {
   "cell_type": "code",
   "execution_count": 7,
   "id": "4075acf7-a258-494f-a705-011f68fd2673",
   "metadata": {},
   "outputs": [
    {
     "name": "stdout",
     "output_type": "stream",
     "text": [
      "12345\n"
     ]
    }
   ],
   "source": [
    "dict = { \"user\": \"abc\",\n",
    "        \"pass\":12345,\n",
    "       \"name\":\"kaif\"}\n",
    "a= dict.get(\"pass\")\n",
    "print(a)\n",
    "          "
   ]
  },
  {
   "cell_type": "code",
   "execution_count": 10,
   "id": "e8897051-cf75-4b11-b871-fda315f70b94",
   "metadata": {},
   "outputs": [
    {
     "name": "stdout",
     "output_type": "stream",
     "text": [
      "2\n",
      "6\n"
     ]
    }
   ],
   "source": [
    "### 2 d list \n",
    "l =[[1,2,3],\n",
    "   [4,5,6],\n",
    "   [7,8,9],\n",
    "   ]\n",
    "print(l[0][1])\n",
    "print(l[1][2])"
   ]
  },
  {
   "cell_type": "code",
   "execution_count": 11,
   "id": "93cd8994-379f-45d7-a7c9-b759dbe0ff14",
   "metadata": {},
   "outputs": [
    {
     "name": "stdout",
     "output_type": "stream",
     "text": [
      "1\n",
      "2\n",
      "3\n"
     ]
    }
   ],
   "source": [
    "l =[[1,2,3],\n",
    "   [4,5,6],\n",
    "   [7,8,9],\n",
    "   ]\n",
    "for i in l[0]:\n",
    "    print(i)\n"
   ]
  },
  {
   "cell_type": "code",
   "execution_count": 12,
   "id": "8ca935e0-7dbd-451c-b71f-83bde13b5f5f",
   "metadata": {},
   "outputs": [
    {
     "name": "stdout",
     "output_type": "stream",
     "text": [
      "1\n",
      "2\n",
      "3\n",
      "4\n",
      "5\n",
      "6\n",
      "7\n",
      "8\n",
      "9\n"
     ]
    }
   ],
   "source": [
    "l =[[1,2,3],\n",
    "   [4,5,6],\n",
    "   [7,8,9],\n",
    "   ]\n",
    "for i in l[0]:\n",
    "    print(i)\n",
    "for i in l[1]:\n",
    "    print(i)\n",
    "for i in l[2]:\n",
    "    print(i)\n",
    " "
   ]
  },
  {
   "cell_type": "code",
   "execution_count": 16,
   "id": "15341ac6-b115-4c66-8d8a-52c6f9b6d537",
   "metadata": {},
   "outputs": [
    {
     "name": "stdout",
     "output_type": "stream",
     "text": [
      "1 2 3 4 5 6 7 8 9 "
     ]
    }
   ],
   "source": [
    "l =[[1,2,3],\n",
    "   [4,5,6],\n",
    "   [7,8,9],\n",
    "   ]\n",
    "for j in range(len(l)):\n",
    "    for i in l[j]:\n",
    "        print(i,end=\" \")"
   ]
  },
  {
   "cell_type": "code",
   "execution_count": 17,
   "id": "477bde86-c1da-43d9-a8de-f7bfd6c73b98",
   "metadata": {},
   "outputs": [
    {
     "name": "stdout",
     "output_type": "stream",
     "text": [
      "1 2 3 \n",
      "4 5 6 \n",
      "7 8 9 \n"
     ]
    }
   ],
   "source": [
    "l =[[1,2,3],\n",
    "   [4,5,6],\n",
    "   [7,8,9],\n",
    "   ]\n",
    "for j in range(len(l)):\n",
    "    for i in l[j]:\n",
    "        print(i,end=\" \")\n",
    "    print()"
   ]
  },
  {
   "cell_type": "code",
   "execution_count": 18,
   "id": "2a92d7ea-4fc9-430f-85bd-e0f9249925a8",
   "metadata": {},
   "outputs": [
    {
     "name": "stdout",
     "output_type": "stream",
     "text": [
      "1 8 27 \n",
      "64 125 216 \n",
      "343 512 729 \n"
     ]
    }
   ],
   "source": [
    "l =[[1,2,3],\n",
    "   [4,5,6],\n",
    "   [7,8,9],\n",
    "   ]\n",
    "for j in range(len(l)):\n",
    "    for i in l[j]:\n",
    "        print(i**3,end=\" \")\n",
    "    print()"
   ]
  },
  {
   "cell_type": "code",
   "execution_count": 19,
   "id": "06ed0ee1-ddcd-44d4-a3a3-d3d31077f6ea",
   "metadata": {},
   "outputs": [
    {
     "name": "stdout",
     "output_type": "stream",
     "text": [
      "0 coding\n",
      "1 blocks\n",
      "2 indira\n",
      "3 nagar\n"
     ]
    }
   ],
   "source": [
    "##find index\n",
    "l1 =[\"coding\",\"blocks\",\"indira\",\"nagar\"]\n",
    "for idx,val in enumerate(l1):\n",
    "    print(idx,val)"
   ]
  },
  {
   "cell_type": "code",
   "execution_count": 2,
   "id": "f71a21a0-b692-4f19-b5f4-a159be761cb7",
   "metadata": {},
   "outputs": [
    {
     "name": "stdout",
     "output_type": "stream",
     "text": [
      "[11, 75, 23]\n"
     ]
    }
   ],
   "source": [
    "l = [2,4,6,8,11,12,75,10,23]\n",
    "l=list(filter(lambda x: x%2!=0,l))\n",
    "print(l)"
   ]
  },
  {
   "cell_type": "code",
   "execution_count": 3,
   "id": "5099925e-f9ab-4e95-894a-7f871265c804",
   "metadata": {},
   "outputs": [
    {
     "name": "stdout",
     "output_type": "stream",
     "text": [
      "[False, False, False, False, True, False, True, False, True]\n"
     ]
    }
   ],
   "source": [
    "l = [2,4,6,8,11,12,75,10,23]\n",
    "l=list(map(lambda x: x%2!=0,l))\n",
    "print(l)"
   ]
  },
  {
   "cell_type": "code",
   "execution_count": 11,
   "id": "8a753bbe-ce50-471b-86de-161ff7df1135",
   "metadata": {},
   "outputs": [
    {
     "name": "stdin",
     "output_type": "stream",
     "text": [
      "enter no 5\n",
      "enter second no 7\n"
     ]
    },
    {
     "name": "stdout",
     "output_type": "stream",
     "text": [
      "The lcm of 5 and 7 is 35\n"
     ]
    }
   ],
   "source": [
    "##LCM\n",
    "\n",
    "def calculate_lcm(x,y):\n",
    "    if x>y:\n",
    "        greater = x\n",
    "    else:\n",
    "        greater = y\n",
    "    while(True):\n",
    "        if((greater%x==0)and(greater%y==0)):\n",
    "            lcm = greater\n",
    "            break\n",
    "        greater+=1\n",
    "    return lcm\n",
    "n1=int(input(\"enter no\"))\n",
    "n2=int(input(\"enter second no\"))\n",
    "\n",
    "print(\"The lcm of\",n1,\"and\",n2,\"is\",calculate_lcm(n1,n2))\n",
    "      \n",
    "        "
   ]
  },
  {
   "cell_type": "code",
   "execution_count": 1,
   "id": "ad611b43-699a-48ab-ab98-08033e03ced9",
   "metadata": {},
   "outputs": [
    {
     "name": "stdout",
     "output_type": "stream",
     "text": [
      "2\n"
     ]
    }
   ],
   "source": [
    "a=5//2\n",
    "print(a)"
   ]
  },
  {
   "cell_type": "code",
   "execution_count": 7,
   "id": "6fd7d0db-d0bd-49ac-9903-79771f8f4f63",
   "metadata": {},
   "outputs": [
    {
     "name": "stdin",
     "output_type": "stream",
     "text": [
      " Kaif@123\n"
     ]
    },
    {
     "name": "stdout",
     "output_type": "stream",
     "text": [
      "valid password\n"
     ]
    }
   ],
   "source": [
    "p = input()\n",
    "l=len(p)>=8\n",
    "c,s,d=False,False,False\n",
    "##capital letter ascii 65-90\n",
    "##small letter ascii 97-122\n",
    "## digit asciii 48-57\n",
    "for i in p:\n",
    "    if(ord(i)>=65 and ord(i)<=90):\n",
    "        c=True\n",
    "    elif(ord(i)>=97 and ord(i)<=122):\n",
    "        s=True\n",
    "    elif(ord(i)>=48 and ord(i)<=57):\n",
    "        d=True\n",
    "if(l and c and s and d):\n",
    "    print(\"valid password\")\n",
    "else:\n",
    "    print(\"not valid password\")"
   ]
  },
  {
   "cell_type": "code",
   "execution_count": 8,
   "id": "67181097-b174-4785-ad73-b28cee94c2e0",
   "metadata": {},
   "outputs": [
    {
     "name": "stdout",
     "output_type": "stream",
     "text": [
      "* * * * * \n",
      "* * * * * \n",
      "* * * * * \n",
      "* * * * * \n",
      "* * * * * \n"
     ]
    }
   ],
   "source": [
    "##square pattern\n",
    "for i in range(0,5):\n",
    "    for j in range(0,5):\n",
    "        print(\"*\",end=\" \")\n",
    "    print()"
   ]
  },
  {
   "cell_type": "code",
   "execution_count": 11,
   "id": "c492decc-163d-4c2e-add1-d0e037e5bf32",
   "metadata": {},
   "outputs": [
    {
     "name": "stdout",
     "output_type": "stream",
     "text": [
      "* \n",
      "* * \n",
      "* * * \n",
      "* * * * \n",
      "* * * * * \n"
     ]
    }
   ],
   "source": [
    "n = 5\n",
    "for i in range(1,n+1):\n",
    "    for j in range(1,i+1):\n",
    "        print(\"*\",end=\" \")\n",
    "    print()"
   ]
  },
  {
   "cell_type": "code",
   "execution_count": 27,
   "id": "4dfa5448-73ed-4d36-a55b-519e41b190a8",
   "metadata": {},
   "outputs": [
    {
     "name": "stdout",
     "output_type": "stream",
     "text": [
      "* * * * * \n",
      "* * * * \n",
      "* * * \n",
      "* * \n",
      "* \n"
     ]
    }
   ],
   "source": [
    "n = 5\n",
    "for i in range(n):\n",
    "    for j in range(n-i):\n",
    "        print(\"*\",end=\" \")\n",
    "    print()"
   ]
  },
  {
   "cell_type": "markdown",
   "id": "7a5d6b02-f698-4585-8cfa-711a1efb64e0",
   "metadata": {},
   "source": [
    "# "
   ]
  },
  {
   "cell_type": "code",
   "execution_count": 6,
   "id": "5c88bfc4-5e69-4935-bc91-dce137c8af8e",
   "metadata": {},
   "outputs": [
    {
     "data": {
      "text/plain": [
       "2"
      ]
     },
     "execution_count": 6,
     "metadata": {},
     "output_type": "execute_result"
    }
   ],
   "source": [
    "l = [9,2,\"coding\",\"blocks\",5,6]\n",
    "list(map(type,l)).count(str)"
   ]
  },
  {
   "cell_type": "code",
   "execution_count": 2,
   "id": "350ee472-7825-40bc-aeaa-39a91280fada",
   "metadata": {},
   "outputs": [
    {
     "name": "stdout",
     "output_type": "stream",
     "text": [
      "20\n",
      "{'banana': 10, 'apple': 15, 'orange': 20}\n"
     ]
    }
   ],
   "source": [
    "###dict 2nd class\n",
    "fr= {\"banana\":10,\n",
    "    \"apple\":15,\n",
    "    \"orange\":20}\n",
    "print(fr.get(\"orange\"))\n",
    "# print(fr[\"orang\"],)\n",
    "print(fr)\n",
    "# total_fr=0\n",
    "# for i in fr:\n",
    "#     # print(i,fr[i])\n",
    "#     total_fr+= fr[i]\n",
    "# print(total_fr)"
   ]
  },
  {
   "cell_type": "code",
   "execution_count": 3,
   "id": "0b906207-bf5d-43ed-bc73-7c1c93708ba4",
   "metadata": {},
   "outputs": [
    {
     "name": "stdout",
     "output_type": "stream",
     "text": [
      "['banana', 'apple', 'orange']\n"
     ]
    }
   ],
   "source": [
    "fr= {\"banana\":10,\n",
    "    \"apple\":15,\n",
    "    \"orange\":20}\n",
    "key = list(fr.keys())\n",
    "print(key)"
   ]
  },
  {
   "cell_type": "code",
   "execution_count": 5,
   "id": "29410baa-2dc7-4e24-abf7-7c5e1a35d4b6",
   "metadata": {},
   "outputs": [
    {
     "name": "stdout",
     "output_type": "stream",
     "text": [
      "[10, 15, 20]\n",
      "45\n"
     ]
    }
   ],
   "source": [
    "fr= {\"banana\":10,\n",
    "    \"apple\":15,\n",
    "    \"orange\":20}\n",
    "value = list(fr.values())\n",
    "print(value)\n",
    "sum=0\n",
    "for i in value:\n",
    "    sum+=i\n",
    "print(sum)"
   ]
  },
  {
   "cell_type": "code",
   "execution_count": null,
   "id": "586d3ab8-9469-4254-8f67-462e9ef18c84",
   "metadata": {},
   "outputs": [],
   "source": []
  },
  {
   "cell_type": "code",
   "execution_count": null,
   "id": "79efebf1-8558-4482-9dd4-624ca6bb5b13",
   "metadata": {},
   "outputs": [],
   "source": []
  },
  {
   "cell_type": "code",
   "execution_count": 7,
   "id": "455d0bb1-46f1-4175-a5d4-9bf5ed9cae14",
   "metadata": {},
   "outputs": [
    {
     "name": "stdout",
     "output_type": "stream",
     "text": [
      "[('banana', 10), ('mango', 15), ('orange', 20)]\n"
     ]
    }
   ],
   "source": [
    "fr ={\"banana\":10,\n",
    "     \"mango\":15,\n",
    "     \"orange\":20}\n",
    "items = list(fr.items())\n",
    "print(items)"
   ]
  },
  {
   "cell_type": "code",
   "execution_count": 6,
   "id": "22ffb117-5768-4690-be1b-02b17795fe96",
   "metadata": {},
   "outputs": [
    {
     "name": "stdout",
     "output_type": "stream",
     "text": [
      "25\n",
      "25\n"
     ]
    }
   ],
   "source": [
    "data={\n",
    "      \"fr\":{\"banana\":10,\n",
    "            \"mango\":15,\n",
    "            \"orange\":20},\n",
    "\n",
    "   \"veg\":{\"potato\":15,\n",
    "          \"tomato\":25,\n",
    "          \"carrot\":30}\n",
    "}\n",
    "print(data.get(\"veg\").get(\"tomato\"))\n",
    "print(data[\"veg\"][\"tomato\"])"
   ]
  },
  {
   "cell_type": "code",
   "execution_count": 7,
   "id": "534ac2fd-f0f7-408f-a23f-8de9adc3482a",
   "metadata": {},
   "outputs": [
    {
     "name": "stdout",
     "output_type": "stream",
     "text": [
      "fr {'banana': 10, 'mango': 15, 'orange': 20}\n",
      "banana 10\n",
      "mango 15\n",
      "orange 20\n",
      "veg {'potato': 15, 'tomato': 25, 'carrot': 30}\n",
      "potato 15\n",
      "tomato 25\n",
      "carrot 30\n"
     ]
    }
   ],
   "source": [
    "for key,value in data.items():\n",
    "    print(key,value)\n",
    "    for child_k,child_v in data[key].items():\n",
    "        print(child_k,child_v)"
   ]
  },
  {
   "cell_type": "code",
   "execution_count": null,
   "id": "feccc5da-520e-4060-8c61-5a720d22bd41",
   "metadata": {},
   "outputs": [],
   "source": [
    "del data[\"veg\"]\n",
    "print(data)"
   ]
  },
  {
   "cell_type": "code",
   "execution_count": 8,
   "id": "eef880e7-dd76-4ca5-a209-7f786d8f5f54",
   "metadata": {},
   "outputs": [
    {
     "name": "stdout",
     "output_type": "stream",
     "text": [
      "dict_items([('banana', 10), ('apple', 15), ('orange', 20), ('grapes', 5)])\n",
      "{'apple': 15, 'banana': 10, 'grapes': 5, 'orange': 20}\n"
     ]
    }
   ],
   "source": [
    "fr= {\"banana\":10,\n",
    "    \"apple\":15,\n",
    "    \"orange\":20}\n",
    "# adding new keys into dict\n",
    "fr[\"grapes\"]=5\n",
    "print(fr.items())\n",
    "\n",
    "key = list(fr.keys())\n",
    "key.sort()\n",
    "# print(key)\n",
    "# creating new dict having sorted key\n",
    "new_fr={}\n",
    "for i in key:\n",
    "    new_fr[i]= fr[i]\n",
    "print(new_fr)"
   ]
  },
  {
   "cell_type": "code",
   "execution_count": null,
   "id": "c72a0e8a-59e8-4aec-bfb0-e427054b6f41",
   "metadata": {},
   "outputs": [],
   "source": []
  },
  {
   "cell_type": "code",
   "execution_count": null,
   "id": "f1e48860-4825-49d7-99f0-5b39db99229b",
   "metadata": {},
   "outputs": [],
   "source": []
  },
  {
   "cell_type": "code",
   "execution_count": 15,
   "id": "4ad56805-5533-4b6e-8da6-236582dfab3a",
   "metadata": {},
   "outputs": [
    {
     "name": "stdout",
     "output_type": "stream",
     "text": [
      "['banana', 'mango', 'orange']\n",
      "10\n",
      "15\n",
      "20\n",
      "{'banana': 10, 'mango': 15, 'orange': 20}\n"
     ]
    }
   ],
   "source": [
    "fr ={\"banana\":10,\n",
    "     \"mango\":15,\n",
    "     \"orange\":20}\n",
    "key = list(fr.keys())\n",
    "key.sort()\n",
    "print(key)\n",
    "new_fr={}\n",
    "for i in key:\n",
    "    print(fr[i])\n",
    "    new_fr[i]=fr[i]\n",
    "print(new_fr)"
   ]
  },
  {
   "cell_type": "code",
   "execution_count": 18,
   "id": "73e78d7c-c437-40e4-85be-92bb1251105d",
   "metadata": {},
   "outputs": [
    {
     "name": "stdout",
     "output_type": "stream",
     "text": [
      "<class 'collections.OrderedDict'>\n",
      "OrderedDict({'banana': 10, 'mango': 15, 'orange': 20})\n"
     ]
    }
   ],
   "source": [
    "from collections import OrderedDict\n",
    "fr ={\"banana\":10,\n",
    "     \"mango\":15,\n",
    "     \"orange\":20}\n",
    "orderdict=OrderedDict(sorted(fr.items()))\n",
    "print(type(orderdict))\n",
    "print(orderdict)"
   ]
  },
  {
   "cell_type": "code",
   "execution_count": 19,
   "id": "90babc42-4347-468f-9e35-441c7d467eff",
   "metadata": {},
   "outputs": [
    {
     "name": "stdout",
     "output_type": "stream",
     "text": [
      "{1, 4, 5, 8, 9}\n"
     ]
    }
   ],
   "source": [
    "#### Sets\n",
    "s = {4,8,1,5,4,9,1}\n",
    "print(s)"
   ]
  },
  {
   "cell_type": "code",
   "execution_count": 43,
   "id": "11058483-e103-426d-889d-113d9aa0f50c",
   "metadata": {},
   "outputs": [
    {
     "name": "stdout",
     "output_type": "stream",
     "text": [
      "{1, 4, 5, 8, 9, 15}\n"
     ]
    }
   ],
   "source": [
    "s = {4,8,1,5,4,9,1}\n",
    "s.add(15)\n",
    "print(s)"
   ]
  },
  {
   "cell_type": "code",
   "execution_count": 10,
   "id": "178160e9-6c02-4e3a-b1db-e8aaf4335cc9",
   "metadata": {},
   "outputs": [
    {
     "name": "stdout",
     "output_type": "stream",
     "text": [
      "{1, 4, 5, 8, 9}\n"
     ]
    }
   ],
   "source": [
    "s = {4,8,1,5,4,9,1}\n",
    "#s.remove(12)\n",
    "### discard benifit to not give error\n",
    "s.discard(12)\n",
    "print(s)"
   ]
  },
  {
   "cell_type": "code",
   "execution_count": 46,
   "id": "2c2be970-0ae9-4347-bb16-1ba88c19e344",
   "metadata": {},
   "outputs": [
    {
     "name": "stdout",
     "output_type": "stream",
     "text": [
      "1\n",
      "4\n",
      "5\n",
      "8\n",
      "9\n"
     ]
    }
   ],
   "source": [
    "s = {4,8,1,5,4,9,1}\n",
    "for i in s:\n",
    "    print(i)"
   ]
  },
  {
   "cell_type": "code",
   "execution_count": 47,
   "id": "d4e350ec-4972-4b50-bcf9-86e2218c68fe",
   "metadata": {},
   "outputs": [
    {
     "name": "stdout",
     "output_type": "stream",
     "text": [
      "present\n"
     ]
    }
   ],
   "source": [
    "s = {4,8,1,5,4,9,1}\n",
    "### check element is present\n",
    "if(9 in s):\n",
    "    print(\"present\")\n",
    "else:\n",
    "    print(\"not present\")"
   ]
  },
  {
   "cell_type": "code",
   "execution_count": 49,
   "id": "4afcb770-7eae-4967-924b-d63b2c7f17cb",
   "metadata": {},
   "outputs": [
    {
     "name": "stdout",
     "output_type": "stream",
     "text": [
      "{1, 4, 5, 8, 9, (1, 2, 3)}\n"
     ]
    }
   ],
   "source": [
    "s = {4,8,1,5,4,9,1}\n",
    "s.add((1,2,3))\n",
    "print(s)"
   ]
  },
  {
   "cell_type": "code",
   "execution_count": 51,
   "id": "16b4e4a0-2c06-4da3-b4f8-283df3c14f06",
   "metadata": {},
   "outputs": [
    {
     "name": "stdout",
     "output_type": "stream",
     "text": [
      "{1, 4, 5, 20, 8, 9, 13, 30}\n"
     ]
    }
   ],
   "source": [
    "### insert multiple element \n",
    "s = {4,8,1,5,4,9,1}\n",
    "s.update([13,20,30])\n",
    "print(s)"
   ]
  },
  {
   "cell_type": "code",
   "execution_count": 40,
   "id": "cdf0c55a-a3b0-44b1-8dd8-aa992c0c452c",
   "metadata": {},
   "outputs": [
    {
     "name": "stdout",
     "output_type": "stream",
     "text": [
      "[7, 1]\n"
     ]
    }
   ],
   "source": [
    "l = [5,7,11,1,5,11]\n",
    "nl=[]\n",
    "for i in l:\n",
    "    if(l.count(i)==1):\n",
    "        nl.append(i)\n",
    "print(nl)\n",
    "    \n",
    "    \n",
    "         \n"
   ]
  },
  {
   "cell_type": "code",
   "execution_count": 59,
   "id": "af85755f-25ab-4015-b511-d7405204325b",
   "metadata": {},
   "outputs": [
    {
     "name": "stdout",
     "output_type": "stream",
     "text": [
      "{1, 7}\n"
     ]
    }
   ],
   "source": [
    "### unique elements\n",
    "l = [5,7,11,1,5,11]\n",
    "s=set()\n",
    "for i in l:\n",
    "    if(i in s):\n",
    "        s.remove(i)\n",
    "    else:\n",
    "        s.add(i)\n",
    "print(s)"
   ]
  },
  {
   "cell_type": "code",
   "execution_count": 63,
   "id": "085c7f6b-0f1b-4653-9e7a-33a82521beb2",
   "metadata": {},
   "outputs": [
    {
     "name": "stdout",
     "output_type": "stream",
     "text": [
      "[5, 11]\n"
     ]
    }
   ],
   "source": [
    "##duplicate\n",
    "l = [5,7,11,1,5,11]\n",
    "s=set()\n",
    "nl =[]\n",
    "for i in l:\n",
    "    if(i in s):\n",
    "        nl.append(i)\n",
    "    else:\n",
    "        s.add(i)\n",
    "print(nl)"
   ]
  },
  {
   "cell_type": "code",
   "execution_count": 66,
   "id": "fdbd2650-7217-4e7e-89f4-290f0d1425be",
   "metadata": {},
   "outputs": [
    {
     "name": "stdout",
     "output_type": "stream",
     "text": [
      "{'carrot', 'tomato'}\n",
      "{'bringle', 'banana', 'apple', 'carrot', 'tomato'}\n",
      "{'banana', 'apple', 'bringle'}\n",
      "{'apple', 'banana'}\n",
      "{'bringle'}\n"
     ]
    }
   ],
   "source": [
    "fr=[\"banana\",\"carrot\",\"tomato\",\"apple\"]\n",
    "veg=[\"carrot\",\"tomato\",\"bringle\"]\n",
    "s1=set(fr)\n",
    "s2=set(veg)\n",
    "print(s1&s2)#intersection of two set\n",
    "print(s1|s2) ## union of two set\n",
    "print(s1^s2)## exclude item that present in both\n",
    "print(s1-s2) ## subtraction of s2 from s1\n",
    "print(s2-s1)"
   ]
  },
  {
   "cell_type": "code",
   "execution_count": 3,
   "id": "66480c86-b05d-45cd-9307-5a7da12eec13",
   "metadata": {},
   "outputs": [
    {
     "name": "stdout",
     "output_type": "stream",
     "text": [
      "[12]\n"
     ]
    }
   ],
   "source": [
    "def my_fun(n):\n",
    "    return n%2==0\n",
    "ls=[11,19,15,12]\n",
    "en = list(filter(my_fun, ls))\n",
    "print(en)"
   ]
  },
  {
   "cell_type": "code",
   "execution_count": 4,
   "id": "4b5e2b82-3f94-4769-be99-379b29b352b5",
   "metadata": {},
   "outputs": [
    {
     "name": "stdout",
     "output_type": "stream",
     "text": [
      "[12]\n"
     ]
    }
   ],
   "source": [
    "ls=[11,19,15,12]\n",
    "en = list(filter(lambda n: n%2==0, ls))\n",
    "print(en)"
   ]
  },
  {
   "cell_type": "code",
   "execution_count": 7,
   "id": "301ef176-6f27-406a-8216-c652eb66bb66",
   "metadata": {},
   "outputs": [
    {
     "name": "stdout",
     "output_type": "stream",
     "text": [
      "[('rohan', 16)]\n"
     ]
    }
   ],
   "source": [
    "###filter function\n",
    "ls=[(\"ram\",19),(\"shyam\",21),(\"rohan\",16),(\"sohan\",25)]\n",
    "ev = list(filter(lambda t: t[1]%2==0,ls))\n",
    "print(ev)"
   ]
  },
  {
   "cell_type": "code",
   "execution_count": 8,
   "id": "70f5db63-7e0c-4002-9c4b-c5d806d909d1",
   "metadata": {},
   "outputs": [
    {
     "name": "stdout",
     "output_type": "stream",
     "text": [
      "0 ('ram', 19)\n",
      "1 ('shyam', 21)\n",
      "2 ('rohan', 16)\n",
      "3 ('sohan', 25)\n"
     ]
    }
   ],
   "source": [
    "### index function\n",
    "ls=[(\"ram\",19),(\"shyam\",21),(\"rohan\",16),(\"sohan\",25)]\n",
    "for idx,val in enumerate(ls):\n",
    "    print(idx,val)"
   ]
  },
  {
   "cell_type": "code",
   "execution_count": 9,
   "id": "508d238b-1678-407a-a0a9-9f580445fc0d",
   "metadata": {},
   "outputs": [
    {
     "name": "stdout",
     "output_type": "stream",
     "text": [
      "shyam 19\n",
      "ram 21\n",
      "rohan 30\n",
      "sohan 24\n",
      "sita 16\n",
      "{'shyam': 19, 'ram': 21, 'rohan': 30, 'sohan': 24, 'sita': 16}\n"
     ]
    }
   ],
   "source": [
    "### zip function\n",
    "name=[\"shyam\",\"ram\",\"rohan\",\"sohan\",\"sita\"]\n",
    "age=[19,21,30,24,16]\n",
    "data={}\n",
    "for nam,ag in zip(name,age):\n",
    "    print(nam,ag)\n",
    "    data[nam]=ag\n",
    "print(data)"
   ]
  },
  {
   "cell_type": "code",
   "execution_count": 16,
   "id": "35fcac30-f32e-48a6-a536-6aad5ecffb4c",
   "metadata": {},
   "outputs": [
    {
     "name": "stdout",
     "output_type": "stream",
     "text": [
      "1 2 3 \n",
      "5 7 9 \n",
      "11 15 17 12 \n"
     ]
    }
   ],
   "source": [
    "### 2 d list revision\n",
    "mat=[[1,2,3],\n",
    "    [5,7,9],\n",
    "    [11,15,17,12]]\n",
    "for i in mat:\n",
    "    for j in i:\n",
    "        print(j,end=\" \")\n",
    "    print()"
   ]
  },
  {
   "cell_type": "code",
   "execution_count": 18,
   "id": "c53c096b-4248-4626-8c65-6e12a5dd4822",
   "metadata": {},
   "outputs": [
    {
     "name": "stdout",
     "output_type": "stream",
     "text": [
      "[5, 6, 8, 9]\n"
     ]
    }
   ],
   "source": [
    "l = [5,6,8,9]\n",
    "s=l\n",
    "m=l[:]\n",
    "print(m)"
   ]
  },
  {
   "cell_type": "code",
   "execution_count": 2,
   "id": "07bcaa7c-67b6-4d5c-978b-06fc29fd12ae",
   "metadata": {},
   "outputs": [
    {
     "name": "stdout",
     "output_type": "stream",
     "text": [
      "size of t1 :112bytes\n",
      "size of t2 :64bytes\n"
     ]
    }
   ],
   "source": [
    "### find size of touple\n",
    "import sys \n",
    "t1 = (5,2,8,9,12,45,12,30,45)\n",
    "t2 = (\"kaif\",\"ganesh\",\"arvind\")\n",
    "print(\"size of t1 :\" + str(sys.getsizeof(t1)) + \"bytes\")\n",
    "print(\"size of t2 :\" + str(sys.getsizeof(t2)) + \"bytes\")"
   ]
  },
  {
   "cell_type": "code",
   "execution_count": 21,
   "id": "31f93e8c-c5fe-4da4-a6f8-67f5a8ffb390",
   "metadata": {},
   "outputs": [
    {
     "name": "stdout",
     "output_type": "stream",
     "text": [
      "[(6, 216), (6, 216), (6, 216)]\n"
     ]
    }
   ],
   "source": [
    "##find qube with element\n",
    "l = [2,5,6]\n",
    "q = list(map(lambda x: (i,i**3),l))\n",
    "print(q)"
   ]
  },
  {
   "cell_type": "code",
   "execution_count": 4,
   "id": "d565ea95-061b-44cf-98a9-2e96bd615e6d",
   "metadata": {},
   "outputs": [
    {
     "name": "stdout",
     "output_type": "stream",
     "text": [
      "8\n"
     ]
    }
   ],
   "source": [
    "a = 2**3\n",
    "print(a)"
   ]
  },
  {
   "cell_type": "code",
   "execution_count": 30,
   "id": "179aa83b-9e35-47b0-b46a-4757c1a1b525",
   "metadata": {},
   "outputs": [
    {
     "name": "stdout",
     "output_type": "stream",
     "text": [
      "27\n"
     ]
    }
   ],
   "source": [
    "t=(5,8,9,5)\n",
    "l = list(t)\n",
    "s = 0\n",
    "for i in l :\n",
    "   s+=i\n",
    "print(count)"
   ]
  },
  {
   "cell_type": "code",
   "execution_count": 37,
   "id": "52ea07df-9561-4ac4-8035-b481f967b1af",
   "metadata": {},
   "outputs": [
    {
     "name": "stdout",
     "output_type": "stream",
     "text": [
      "{'a': 2, 'j': 32, 'r': 10, 's': 15, 'v': 9}\n"
     ]
    }
   ],
   "source": [
    "##sorted dict by keys\n",
    "mydict = {'r': 10, 'v': 9,\n",
    "        's': 15, 'a': 2, 'j': 32}\n",
    "mykeys = list(mydict.keys())\n",
    "mykeys.sort()\n",
    "sortedlist = {i: mydict[i] for i in mykeys}\n",
    "print(sortedlist)\n",
    "    \n"
   ]
  },
  {
   "cell_type": "code",
   "execution_count": 38,
   "id": "db69f176-c4de-4dce-8903-d1778cc13897",
   "metadata": {},
   "outputs": [
    {
     "name": "stdout",
     "output_type": "stream",
     "text": [
      "[(4, 8), (2, 9), (6, 7)]\n"
     ]
    }
   ],
   "source": [
    "## zip function\n",
    "a= (4,2,6)\n",
    "b=(8,9,7)\n",
    "s = list(zip(a,b))\n",
    "print(s)"
   ]
  },
  {
   "cell_type": "code",
   "execution_count": 50,
   "id": "837bd88d-bfe3-411d-9fe1-2eda9752174c",
   "metadata": {},
   "outputs": [
    {
     "name": "stdout",
     "output_type": "stream",
     "text": [
      "[85, 62, 12]\n"
     ]
    }
   ],
   "source": [
    "## lambda function\n",
    "l = [2,85,62,12,4,8,5,9,6,7]\n",
    "largest = list(filter(lambda i: i>10,l))\n",
    "print(largest)"
   ]
  },
  {
   "cell_type": "code",
   "execution_count": 16,
   "id": "a267a0db-cb31-4956-a02e-dc6d263ff023",
   "metadata": {},
   "outputs": [
    {
     "data": {
      "text/plain": [
       "'edoc ecitcarp ziuq skeeg'"
      ]
     },
     "execution_count": 16,
     "metadata": {},
     "output_type": "execute_result"
    }
   ],
   "source": [
    "s = \"code practice quiz geeks\"\n",
    "ns=\"\"\n",
    "# for st in s.split():\n",
    "#     print(st)\n",
    "#     ns+=st[-1::-1]+\" \"\n",
    "# print(ns)\n",
    "\" \".join(list(map(lambda st:st[-1::-1],s.split())))"
   ]
  },
  {
   "cell_type": "markdown",
   "id": "b5c8e53f-e435-424a-8d86-fad59cfe7962",
   "metadata": {},
   "source": [
    "###oops\n"
   ]
  },
  {
   "cell_type": "code",
   "execution_count": 18,
   "id": "8b182f0b-33a5-4c29-ba5c-d7b9cc8c5824",
   "metadata": {},
   "outputs": [
    {
     "name": "stdout",
     "output_type": "stream",
     "text": [
      "avg is 20/kmhr\n"
     ]
    }
   ],
   "source": [
    " class car():\n",
    "     wheel=4\n",
    "     window=5\n",
    "     def milage(self):\n",
    "         print(\"avg is 20/kmhr\")\n",
    "suzuki =car()\n",
    "suzuki.milage()\n"
   ]
  },
  {
   "cell_type": "code",
   "execution_count": 21,
   "id": "d6df54c1-c319-4f11-8990-2da2db495ca4",
   "metadata": {},
   "outputs": [
    {
     "name": "stdout",
     "output_type": "stream",
     "text": [
      "avg is 20\n",
      "avg is 15\n"
     ]
    }
   ],
   "source": [
    " class car():\n",
    "     wheel=4\n",
    "     window=5\n",
    "     def milage(self,n):\n",
    "         print(\"avg is {0}\" .format(n))\n",
    "suzuki =car()\n",
    "suzuki.milage(20)\n",
    "tyota = car()\n",
    "tyota.milage(15)"
   ]
  },
  {
   "cell_type": "code",
   "execution_count": 22,
   "id": "c571191b-f991-4907-ae09-af824fecf5ea",
   "metadata": {},
   "outputs": [
    {
     "name": "stdout",
     "output_type": "stream",
     "text": [
      "avg is 20 km/h\n",
      "avg is 15 miles/h\n"
     ]
    }
   ],
   "source": [
    " class car():\n",
    "     wheel=4\n",
    "     window=5\n",
    "     def milage(self,n,unit):\n",
    "         print(\"avg is {0} {1}\" .format(n,unit))\n",
    "suzuki =car()\n",
    "suzuki.milage(20,\"km/h\")\n",
    "tyota = car()\n",
    "tyota.milage(15,\"miles/h\")"
   ]
  },
  {
   "cell_type": "code",
   "execution_count": 25,
   "id": "e3253cfd-8368-4cdc-b756-a47e80fadb22",
   "metadata": {},
   "outputs": [
    {
     "name": "stdout",
     "output_type": "stream",
     "text": [
      "avg of maruti800 is 20 km/h\n",
      "avg of corolla is 15 miles/h\n"
     ]
    }
   ],
   "source": [
    "class car():\n",
    "     wheel=4\n",
    "     window=5\n",
    "     def __init__(self,model):\n",
    "         self.model = model\n",
    "     def milage(self,n,unit):\n",
    "         print(\"avg of {2} is {0} {1}\" .format(n,unit,self.model))\n",
    "suzuki =car(\"maruti800\")\n",
    "suzuki.milage(20,\"km/h\")\n",
    "tyota = car(\"corolla\")\n",
    "tyota.milage(15,\"miles/h\")"
   ]
  },
  {
   "cell_type": "code",
   "execution_count": 28,
   "id": "85647b09-752e-4031-8441-78537fd77a8d",
   "metadata": {},
   "outputs": [
    {
     "name": "stdout",
     "output_type": "stream",
     "text": [
      "avg of maruti800 is 20 km/h\n",
      "avg of corolla is 15 miles\n"
     ]
    },
    {
     "data": {
      "text/plain": [
       "4"
      ]
     },
     "execution_count": 28,
     "metadata": {},
     "output_type": "execute_result"
    }
   ],
   "source": [
    "## class instance variable\n",
    "class car():\n",
    "     wheel=4\n",
    "     window=5\n",
    "     def __init__(self,model=\"none\"):\n",
    "         self.model = model\n",
    "     def milage(self,n,unit):\n",
    "         print(\"avg of {2} is {0} {1}\" .format(n,unit,self.model))\n",
    "suzuki =car(\"maruti800\")\n",
    "suzuki.milage(20,\"km/h\")\n",
    "tyota = car(\"corolla\")\n",
    "tyota.milage(15,\"miles\")\n",
    "\n",
    "car.wheel ### throug class name is called class instance variable\n",
    "\n"
   ]
  },
  {
   "cell_type": "code",
   "execution_count": 30,
   "id": "a0008a71-24fb-4eb2-b8eb-f1c2140370e1",
   "metadata": {},
   "outputs": [
    {
     "name": "stdout",
     "output_type": "stream",
     "text": [
      "avg of maruti800 is 20 km/h\n"
     ]
    },
    {
     "data": {
      "text/plain": [
       "4"
      ]
     },
     "execution_count": 30,
     "metadata": {},
     "output_type": "execute_result"
    }
   ],
   "source": [
    "## object instance variable\n",
    "class car():\n",
    "     wheel=4\n",
    "     window=5\n",
    "     def __init__(self,model):\n",
    "         self.model = model\n",
    "     def milage(self,n,unit):\n",
    "         print(\"avg of {2} is {0} {1}\" .format(n,unit,self.model))\n",
    "suzuki =car(\"maruti800\")\n",
    "suzuki.milage(20,\"km/h\")\n",
    "tyota = car(\"corolla\")\n",
    "\n",
    "suzuki.wheel ### through object is called object instance variable"
   ]
  },
  {
   "cell_type": "code",
   "execution_count": 35,
   "id": "15e78594-cc2d-42b7-967f-ca4c335a1877",
   "metadata": {},
   "outputs": [
    {
     "name": "stdout",
     "output_type": "stream",
     "text": [
      "avg of maruti800 is 20 km/h\n",
      "220km/h\n",
      "220km/h\n"
     ]
    }
   ],
   "source": [
    "### class and static method\n",
    "class car():\n",
    "     wheel=4\n",
    "     window=5\n",
    "     def __init__(self,model):\n",
    "         self.model = model\n",
    "     def milage(self,n,unit):\n",
    "         print(\"avg of {2} is {0} {1}\" .format(n,unit,self.model))\n",
    "     @staticmethod\n",
    "     def topspeed():\n",
    "        print(\"220km/h\")\n",
    "suzuki =car(\"maruti800\")\n",
    "suzuki.milage(20,\"km/h\")\n",
    "tyota = car(\"corolla\")\n",
    "\n",
    "suzuki.wheel\n",
    "car.topspeed() ## static method\n",
    "suzuki.topspeed() ### static method"
   ]
  },
  {
   "cell_type": "code",
   "execution_count": null,
   "id": "67aca421-cf6b-432f-9ce6-1004eef7efb9",
   "metadata": {},
   "outputs": [],
   "source": [
    "#### piller of oops\n",
    "1. inheritance\n",
    "2. polymorphism\n",
    "3. encapsulation\n",
    "4. abstraction\n"
   ]
  },
  {
   "cell_type": "code",
   "execution_count": null,
   "id": "53bc38cf-f1c5-4035-9b43-4ad7109611fc",
   "metadata": {},
   "outputs": [],
   "source": [
    "#### inheritance"
   ]
  },
  {
   "cell_type": "code",
   "execution_count": 36,
   "id": "a361be51-4c1b-4048-90f0-781d674e6182",
   "metadata": {},
   "outputs": [
    {
     "name": "stdout",
     "output_type": "stream",
     "text": [
      "avg of fortuner is 22 km\n"
     ]
    }
   ],
   "source": [
    "## singe inheritance\n",
    "\n",
    "class car():\n",
    "     wheel=4\n",
    "     window=5\n",
    "     def __init__(self,model):\n",
    "         self.model = model\n",
    "     def milage(self,n,unit):\n",
    "         print(\"avg of {2} is {0} {1}\" .format(n,unit,self.model))\n",
    "     @staticmethod\n",
    "     def topspeed():\n",
    "        print(\"220km/h\")\n",
    "\n",
    "### inheritance use old class\n",
    "class toyota(car):\n",
    "    def __init__(self,model,issunroof):\n",
    "        self.sunroof=issunroof\n",
    "        car.__init__(self,model)\n",
    "fortuner = toyota(\"fortuner\",True)\n",
    "fortuner.milage(22,\"km\")"
   ]
  },
  {
   "cell_type": "code",
   "execution_count": 41,
   "id": "a5595eb3-6b92-402c-a080-1c564642c6ad",
   "metadata": {},
   "outputs": [
    {
     "data": {
      "text/plain": [
       "'i5'"
      ]
     },
     "execution_count": 41,
     "metadata": {},
     "output_type": "execute_result"
    }
   ],
   "source": [
    "## multi level inhertance\n",
    "\n",
    "class laptop():\n",
    "    ram=8\n",
    "    rom=512\n",
    "    screen=16\n",
    "    def __init__(self):\n",
    "        pass\n",
    "\n",
    "class Dell(laptop):\n",
    "    color = \"grey\"\n",
    "    def __init__(self):\n",
    "        laptop.__init__(self)\n",
    "class Latitude(Dell):\n",
    "    processor = \"i5\"\n",
    "    def __init__(self):\n",
    "        Dell.__init__(self)\n",
    "# dell = DELL()\n",
    "# dell.color\n",
    "l=Latitude()\n",
    "l.processor"
   ]
  },
  {
   "cell_type": "code",
   "execution_count": 1,
   "id": "850961a6-a5f8-4d1f-936d-09a08cc15c5a",
   "metadata": {},
   "outputs": [
    {
     "data": {
      "text/plain": [
       "16"
      ]
     },
     "execution_count": 1,
     "metadata": {},
     "output_type": "execute_result"
    }
   ],
   "source": [
    "### MULTIPLE INHERITANCE\n",
    "\n",
    "class laptop():\n",
    "    ram=8\n",
    "    rom=512\n",
    "    screen=16\n",
    "    def __init__(self):\n",
    "        pass\n",
    "\n",
    "class Desktop():\n",
    "    ram = 8\n",
    "    rom = 512\n",
    "    printer = True\n",
    "    \n",
    "\n",
    "class Dell(laptop,Desktop):\n",
    "    color = \"grey\"\n",
    "    def __init__(self):\n",
    "        laptop.__init__(self)\n",
    "        Desktop.__init__(self)\n",
    "d=Dell\n",
    "d.screen\n"
   ]
  },
  {
   "cell_type": "code",
   "execution_count": 10,
   "id": "5cb090ab-e317-415f-982c-da1b61682225",
   "metadata": {},
   "outputs": [
    {
     "ename": "NameError",
     "evalue": "name 'a' is not defined",
     "output_type": "error",
     "traceback": [
      "\u001b[1;31m---------------------------------------------------------------------------\u001b[0m",
      "\u001b[1;31mNameError\u001b[0m                                 Traceback (most recent call last)",
      "Cell \u001b[1;32mIn[10], line 27\u001b[0m\n\u001b[0;32m     25\u001b[0m         subtraction\u001b[38;5;241m.\u001b[39m\u001b[38;5;21m__init__\u001b[39m(\u001b[38;5;28mself\u001b[39m,a,b)\n\u001b[0;32m     26\u001b[0m         multiplication\u001b[38;5;241m.\u001b[39m\u001b[38;5;21m__init__\u001b[39m(selfa,b,c)\n\u001b[1;32m---> 27\u001b[0m M\u001b[38;5;241m=\u001b[39m\u001b[43mmath\u001b[49m\u001b[43m(\u001b[49m\u001b[43m)\u001b[49m\n\u001b[0;32m     28\u001b[0m m\u001b[38;5;241m.\u001b[39maddition(\u001b[38;5;241m5\u001b[39m,\u001b[38;5;241m6\u001b[39m)\n",
      "Cell \u001b[1;32mIn[10], line 24\u001b[0m, in \u001b[0;36mmath.__init__\u001b[1;34m(self)\u001b[0m\n\u001b[0;32m     23\u001b[0m \u001b[38;5;28;01mdef\u001b[39;00m \u001b[38;5;21m__init__\u001b[39m(\u001b[38;5;28mself\u001b[39m):\n\u001b[1;32m---> 24\u001b[0m     addition\u001b[38;5;241m.\u001b[39m\u001b[38;5;21m__init__\u001b[39m(\u001b[38;5;28mself\u001b[39m,\u001b[43ma\u001b[49m,b)\n\u001b[0;32m     25\u001b[0m     subtraction\u001b[38;5;241m.\u001b[39m\u001b[38;5;21m__init__\u001b[39m(\u001b[38;5;28mself\u001b[39m,a,b)\n\u001b[0;32m     26\u001b[0m     multiplication\u001b[38;5;241m.\u001b[39m\u001b[38;5;21m__init__\u001b[39m(selfa,b,c)\n",
      "\u001b[1;31mNameError\u001b[0m: name 'a' is not defined"
     ]
    }
   ],
   "source": [
    "###  multiple level\n",
    "\n",
    "class addition():\n",
    "    def __init__(self,a,b):\n",
    "        self.a=a\n",
    "        self.b=b\n",
    "    def add(self):\n",
    "        return self.a+self.b\n",
    "class subtraction():\n",
    "    def __init__(self,a,b):\n",
    "        self.a=a\n",
    "        self.b=b\n",
    "    def sub(self):\n",
    "        return self.a-self.b\n",
    "class multilipication():\n",
    "    def __init__(self,a,b,c):\n",
    "        self.a=a\n",
    "        self.b=b\n",
    "        self.c=c\n",
    "    def mul(self):\n",
    "        return self.a*self.b*self*c\n",
    "class math(addition,subtraction,multilipication):\n",
    "    def __init__(self):\n",
    "        addition.__init__(self,a,b)\n",
    "        subtraction.__init__(self,a,b)\n",
    "        multiplication.__init__(selfa,b,c)\n",
    "M=math()\n",
    "m.addition(5,6)\n",
    "\n",
    "    "
   ]
  },
  {
   "cell_type": "code",
   "execution_count": null,
   "id": "85852146-529a-40be-9680-f98a73025480",
   "metadata": {},
   "outputs": [],
   "source": []
  },
  {
   "cell_type": "code",
   "execution_count": 10,
   "id": "6048aa84-82d5-4f55-b354-118856bd3a04",
   "metadata": {},
   "outputs": [
    {
     "data": {
      "text/plain": [
       "8"
      ]
     },
     "execution_count": 10,
     "metadata": {},
     "output_type": "execute_result"
    }
   ],
   "source": [
    "###polymorphism\n",
    "### overloading\n",
    "class multiply():\n",
    "    def __init__(self,a,b,c=1):\n",
    "        self.a=a\n",
    "        self.b=b\n",
    "        self.c=c\n",
    "    def mul(self):\n",
    "        return self.a*self.b*self.c\n",
    "m=multiply(4,2)\n",
    "m.mul()"
   ]
  },
  {
   "cell_type": "code",
   "execution_count": 12,
   "id": "43e0ddee-8b96-4f70-ab24-1182fed50049",
   "metadata": {},
   "outputs": [
    {
     "name": "stdout",
     "output_type": "stream",
     "text": [
      "multiplyin 3 no 64\n"
     ]
    }
   ],
   "source": [
    "###overriding \n",
    "class multiply():\n",
    "    def __init__(self,a,b,c=1):\n",
    "        self.a=a\n",
    "        self.b=b\n",
    "        self.c=c\n",
    "    def mul(self):\n",
    "        return self.a*self.b*self.c\n",
    "\n",
    "class math(multiply):\n",
    "    def __init__(self,a,b,c=1):\n",
    "     multiply.__init__(self,a,b,c)\n",
    "    def mul(self):\n",
    "        print(\"multiplyin 3 no\",self.a*self.b*self.c)\n",
    "m=math(4,2,8)\n",
    "m.mul()\n"
   ]
  },
  {
   "cell_type": "code",
   "execution_count": null,
   "id": "0c58181d-ec7c-4a4a-aaa3-35076dcaa8af",
   "metadata": {},
   "outputs": [],
   "source": [
    "### encapsulation"
   ]
  },
  {
   "cell_type": "code",
   "execution_count": null,
   "id": "af4cd254-c45c-4ab8-9e9f-fadb02acb2f0",
   "metadata": {},
   "outputs": [],
   "source": [
    "class Person():\n",
    "    def __init__(self,account_no,ifsc):\n",
    "        self.__account_no = account_no\n",
    "        self._ifsc= ifsc\n",
    "    def getAccount(self):\n",
    "        return self.__account_no\n",
    "    def setAccount(self,account_no):\n",
    "        self.__account_no = account_no\n",
    "class Bank(Person):\n",
    "    def __init__(self,account_no,ifsc):\n",
    "        Person.__init__(self,account_no,ifsc)\n",
    "    def getPersonAccount(self):\n",
    "        return self.__account_no\n",
    "p1 = Person(1234,\"SBI\")\n",
    "p1.setAccount(12345)\n",
    "# # p1.getAccount()\n",
    "# b1= Bank(1234,\"SBI\")\n",
    "# b1.getPersonAccount()"
   ]
  },
  {
   "cell_type": "code",
   "execution_count": null,
   "id": "1a2a98ba-d1dd-41ce-b04b-55e635b516f6",
   "metadata": {},
   "outputs": [],
   "source": [
    "###Abstraction\n"
   ]
  },
  {
   "cell_type": "code",
   "execution_count": 19,
   "id": "a53bd224-ef67-4070-a184-d7ee43a22f07",
   "metadata": {},
   "outputs": [
    {
     "name": "stdout",
     "output_type": "stream",
     "text": [
      "multipication of 2 no  30\n"
     ]
    }
   ],
   "source": [
    "###abstract class\n",
    "\n",
    "from abc import ABC, abstractmethod\n",
    "class Multiply(ABC):\n",
    "    @abstractmethod\n",
    "    def mul(self):\n",
    "        pass\n",
    "class Math(Multiply):\n",
    "    def __init__(self,a,b):\n",
    "      self.a=a\n",
    "      self.b=b\n",
    "    def mul(self):\n",
    "        print(\"multipication of 2 no \", self.a*self.b)\n",
    "\n",
    "m=Math(5,6)\n",
    "m.mul()\n",
    "    "
   ]
  },
  {
   "cell_type": "code",
   "execution_count": null,
   "id": "04c2860c-199a-41cd-a553-41bc0ca9accb",
   "metadata": {},
   "outputs": [],
   "source": [
    "###Exercise\n",
    "\n",
    "##vehicle claaa\n",
    "from abc import ABC, abstractmethod\n",
    "class vehicle(ABC):\n",
    "    "
   ]
  },
  {
   "cell_type": "markdown",
   "id": "72e438c6-ef12-44cc-aa19-fa4e401f1801",
   "metadata": {},
   "source": [
    " ###Try and except\n",
    " "
   ]
  },
  {
   "cell_type": "code",
   "execution_count": 5,
   "id": "a73197a1-b21d-432f-89be-39ca3a516071",
   "metadata": {},
   "outputs": [
    {
     "name": "stdin",
     "output_type": "stream",
     "text": [
      "enter no 5\n",
      "enter no gh\n"
     ]
    },
    {
     "name": "stdout",
     "output_type": "stream",
     "text": [
      "you are cnverting text into int\n",
      "succesfully code completed\n"
     ]
    }
   ],
   "source": [
    "try:\n",
    "    a=int(input(\"enter no\"))\n",
    "    b=int(input(\"enter no\"))\n",
    "    c=a/b\n",
    "    print(c)\n",
    "except ZeroDivisionError:\n",
    "    print(\"you have entered denominator as zero\")\n",
    "except ValueError:\n",
    "    print(\"you are cnverting text into int\")\n",
    "except Exception:\n",
    "    print(\"there is something wrong that i'm unable to find\")\n",
    "finally:\n",
    "    print(\"succesfully code completed\")"
   ]
  },
  {
   "cell_type": "code",
   "execution_count": 8,
   "id": "cdd800c4-9b6c-48df-b9ea-63cbe28b18bb",
   "metadata": {},
   "outputs": [
    {
     "name": "stdout",
     "output_type": "stream",
     "text": [
      "there is wwrong key\n"
     ]
    }
   ],
   "source": [
    "try:\n",
    "    d={\"user\":1234,\"pass\":\"@123\"}\n",
    "    d[\"users\"]\n",
    "except KeyError:\n",
    "    print(\"there is wwrong key\")"
   ]
  },
  {
   "cell_type": "code",
   "execution_count": 7,
   "id": "1475c559-082b-4057-a05c-3016de281a02",
   "metadata": {},
   "outputs": [
    {
     "name": "stdin",
     "output_type": "stream",
     "text": [
      "enter no 5\n",
      "enter no 6\n"
     ]
    },
    {
     "name": "stdout",
     "output_type": "stream",
     "text": [
      "0.8333333333333334\n",
      "succesfully code completed\n"
     ]
    }
   ],
   "source": [
    "try:\n",
    "    a=int(input(\"enter no\"))\n",
    "    b=int(input(\"enter no\"))\n",
    "    c=a/b\n",
    "\n",
    "except ZeroDivisionError:\n",
    "    print(\"you have entered denominator as zero\")\n",
    "except ValueError:\n",
    "    print(\"you are cnverting text into int\")\n",
    "except Exception:\n",
    "    print(\"there is something wrong that i'm unable to find\")\n",
    "else:\n",
    "    print(c)\n",
    "finally:\n",
    "    print(\"succesfully code completed\")"
   ]
  },
  {
   "cell_type": "markdown",
   "id": "b605b9a9-c772-4ac7-abc2-ca0a7812165b",
   "metadata": {},
   "source": [
    "#### File Handling"
   ]
  },
  {
   "cell_type": "code",
   "execution_count": 9,
   "id": "92fab397-148b-4f1d-8469-b21499d5c6b7",
   "metadata": {},
   "outputs": [],
   "source": [
    "with open(\"hello.txt\",\"w\") as file:\n",
    "    file.write(\"try to file handling\")"
   ]
  },
  {
   "cell_type": "code",
   "execution_count": 11,
   "id": "7ddfaeb7-bfae-4dad-ba87-2d23f01f03ec",
   "metadata": {},
   "outputs": [],
   "source": [
    "with open(r\"C:\\Users\\lenovo\\Desktop\\file handling in python\\kaif.txt\",\"w\") as file:\n",
    "    file.write(\"i am mohd kaif\")"
   ]
  },
  {
   "cell_type": "code",
   "execution_count": null,
   "id": "ffeda432-c69d-46b3-9d0b-c4fe5fb4e25a",
   "metadata": {},
   "outputs": [],
   "source": []
  },
  {
   "cell_type": "code",
   "execution_count": null,
   "id": "6a7f1261-5f3a-4f04-877f-0ab6fb8fa60b",
   "metadata": {},
   "outputs": [],
   "source": []
  },
  {
   "cell_type": "code",
   "execution_count": null,
   "id": "1c7e1c78-535e-4ee3-9ea2-87e733bc249a",
   "metadata": {},
   "outputs": [],
   "source": []
  },
  {
   "cell_type": "code",
   "execution_count": 13,
   "id": "88d05d8a-a713-4ddf-8e9e-9a5840c6706f",
   "metadata": {},
   "outputs": [
    {
     "ename": "SyntaxError",
     "evalue": "invalid syntax. Perhaps you forgot a comma? (3611377765.py, line 1)",
     "output_type": "error",
     "traceback": [
      "\u001b[1;36m  Cell \u001b[1;32mIn[13], line 1\u001b[1;36m\u001b[0m\n\u001b[1;33m    with open(r\"C:\\Users\\lenovo\\Desktop\\file handling in python\\BIG DATA PPT.pptx\",\"r\",encoding utf=8) as file:\u001b[0m\n\u001b[1;37m                                                                                       ^\u001b[0m\n\u001b[1;31mSyntaxError\u001b[0m\u001b[1;31m:\u001b[0m invalid syntax. Perhaps you forgot a comma?\n"
     ]
    }
   ],
   "source": [
    "with open(r\"C:\\Users\\lenovo\\Desktop\\file handling in python\\BIG DATA PPT.pptx\",\"r\",encoding utf=8) as file:\n",
    "    print(file.read())"
   ]
  },
  {
   "cell_type": "code",
   "execution_count": null,
   "id": "9ef114ea-7b25-468c-95bd-bebd3570534d",
   "metadata": {},
   "outputs": [],
   "source": []
  },
  {
   "cell_type": "code",
   "execution_count": null,
   "id": "57fc9604-c7ce-4768-b645-577cd2c6d8a3",
   "metadata": {},
   "outputs": [],
   "source": []
  },
  {
   "cell_type": "code",
   "execution_count": null,
   "id": "96047279-304b-4ecf-bd04-bf78c96f8bae",
   "metadata": {},
   "outputs": [],
   "source": []
  },
  {
   "cell_type": "markdown",
   "id": "a5484ddb-37cc-4faf-9138-e7cb3805c9c6",
   "metadata": {},
   "source": [
    "### MODULE"
   ]
  },
  {
   "cell_type": "code",
   "execution_count": 14,
   "id": "d9703219-d919-4fef-9044-4b7240de5c0d",
   "metadata": {},
   "outputs": [
    {
     "name": "stdout",
     "output_type": "stream",
     "text": [
      "171122452428141311372468338881272839092270544893520369393648040923257279754140647424000000000000000\n",
      "7.0\n"
     ]
    }
   ],
   "source": [
    "import math\n",
    "print(math.factorial(69))\n",
    "print(math.sqrt(49))"
   ]
  },
  {
   "cell_type": "code",
   "execution_count": 16,
   "id": "f0591017-f889-46c6-9471-a25ce67f6fd1",
   "metadata": {},
   "outputs": [
    {
     "name": "stdout",
     "output_type": "stream",
     "text": [
      "120\n"
     ]
    }
   ],
   "source": [
    "from math import factorial\n",
    "print(factorial(5))"
   ]
  },
  {
   "cell_type": "code",
   "execution_count": 17,
   "id": "da2ef67b-b18b-473d-8ef7-f02451d43434",
   "metadata": {},
   "outputs": [
    {
     "name": "stdout",
     "output_type": "stream",
     "text": [
      "120\n",
      "7.0\n"
     ]
    }
   ],
   "source": [
    "from math import *\n",
    "print(factorial(5))\n",
    "print(sqrt(49))"
   ]
  },
  {
   "cell_type": "code",
   "execution_count": 18,
   "id": "782f5fce-e33a-4032-bbbe-d4c14b440ce3",
   "metadata": {},
   "outputs": [
    {
     "name": "stdout",
     "output_type": "stream",
     "text": [
      "Help on built-in module math:\n",
      "\n",
      "NAME\n",
      "    math\n",
      "\n",
      "DESCRIPTION\n",
      "    This module provides access to the mathematical functions\n",
      "    defined by the C standard.\n",
      "\n",
      "FUNCTIONS\n",
      "    acos(x, /)\n",
      "        Return the arc cosine (measured in radians) of x.\n",
      "\n",
      "        The result is between 0 and pi.\n",
      "\n",
      "    acosh(x, /)\n",
      "        Return the inverse hyperbolic cosine of x.\n",
      "\n",
      "    asin(x, /)\n",
      "        Return the arc sine (measured in radians) of x.\n",
      "\n",
      "        The result is between -pi/2 and pi/2.\n",
      "\n",
      "    asinh(x, /)\n",
      "        Return the inverse hyperbolic sine of x.\n",
      "\n",
      "    atan(x, /)\n",
      "        Return the arc tangent (measured in radians) of x.\n",
      "\n",
      "        The result is between -pi/2 and pi/2.\n",
      "\n",
      "    atan2(y, x, /)\n",
      "        Return the arc tangent (measured in radians) of y/x.\n",
      "\n",
      "        Unlike atan(y/x), the signs of both x and y are considered.\n",
      "\n",
      "    atanh(x, /)\n",
      "        Return the inverse hyperbolic tangent of x.\n",
      "\n",
      "    cbrt(x, /)\n",
      "        Return the cube root of x.\n",
      "\n",
      "    ceil(x, /)\n",
      "        Return the ceiling of x as an Integral.\n",
      "\n",
      "        This is the smallest integer >= x.\n",
      "\n",
      "    comb(n, k, /)\n",
      "        Number of ways to choose k items from n items without repetition and without order.\n",
      "\n",
      "        Evaluates to n! / (k! * (n - k)!) when k <= n and evaluates\n",
      "        to zero when k > n.\n",
      "\n",
      "        Also called the binomial coefficient because it is equivalent\n",
      "        to the coefficient of k-th term in polynomial expansion of the\n",
      "        expression (1 + x)**n.\n",
      "\n",
      "        Raises TypeError if either of the arguments are not integers.\n",
      "        Raises ValueError if either of the arguments are negative.\n",
      "\n",
      "    copysign(x, y, /)\n",
      "        Return a float with the magnitude (absolute value) of x but the sign of y.\n",
      "\n",
      "        On platforms that support signed zeros, copysign(1.0, -0.0)\n",
      "        returns -1.0.\n",
      "\n",
      "    cos(x, /)\n",
      "        Return the cosine of x (measured in radians).\n",
      "\n",
      "    cosh(x, /)\n",
      "        Return the hyperbolic cosine of x.\n",
      "\n",
      "    degrees(x, /)\n",
      "        Convert angle x from radians to degrees.\n",
      "\n",
      "    dist(p, q, /)\n",
      "        Return the Euclidean distance between two points p and q.\n",
      "\n",
      "        The points should be specified as sequences (or iterables) of\n",
      "        coordinates.  Both inputs must have the same dimension.\n",
      "\n",
      "        Roughly equivalent to:\n",
      "            sqrt(sum((px - qx) ** 2.0 for px, qx in zip(p, q)))\n",
      "\n",
      "    erf(x, /)\n",
      "        Error function at x.\n",
      "\n",
      "    erfc(x, /)\n",
      "        Complementary error function at x.\n",
      "\n",
      "    exp(x, /)\n",
      "        Return e raised to the power of x.\n",
      "\n",
      "    exp2(x, /)\n",
      "        Return 2 raised to the power of x.\n",
      "\n",
      "    expm1(x, /)\n",
      "        Return exp(x)-1.\n",
      "\n",
      "        This function avoids the loss of precision involved in the direct evaluation of exp(x)-1 for small x.\n",
      "\n",
      "    fabs(x, /)\n",
      "        Return the absolute value of the float x.\n",
      "\n",
      "    factorial(n, /)\n",
      "        Find n!.\n",
      "\n",
      "        Raise a ValueError if x is negative or non-integral.\n",
      "\n",
      "    floor(x, /)\n",
      "        Return the floor of x as an Integral.\n",
      "\n",
      "        This is the largest integer <= x.\n",
      "\n",
      "    fmod(x, y, /)\n",
      "        Return fmod(x, y), according to platform C.\n",
      "\n",
      "        x % y may differ.\n",
      "\n",
      "    frexp(x, /)\n",
      "        Return the mantissa and exponent of x, as pair (m, e).\n",
      "\n",
      "        m is a float and e is an int, such that x = m * 2.**e.\n",
      "        If x is 0, m and e are both 0.  Else 0.5 <= abs(m) < 1.0.\n",
      "\n",
      "    fsum(seq, /)\n",
      "        Return an accurate floating point sum of values in the iterable seq.\n",
      "\n",
      "        Assumes IEEE-754 floating point arithmetic.\n",
      "\n",
      "    gamma(x, /)\n",
      "        Gamma function at x.\n",
      "\n",
      "    gcd(*integers)\n",
      "        Greatest Common Divisor.\n",
      "\n",
      "    hypot(...)\n",
      "        hypot(*coordinates) -> value\n",
      "\n",
      "        Multidimensional Euclidean distance from the origin to a point.\n",
      "\n",
      "        Roughly equivalent to:\n",
      "            sqrt(sum(x**2 for x in coordinates))\n",
      "\n",
      "        For a two dimensional point (x, y), gives the hypotenuse\n",
      "        using the Pythagorean theorem:  sqrt(x*x + y*y).\n",
      "\n",
      "        For example, the hypotenuse of a 3/4/5 right triangle is:\n",
      "\n",
      "            >>> hypot(3.0, 4.0)\n",
      "            5.0\n",
      "\n",
      "    isclose(a, b, *, rel_tol=1e-09, abs_tol=0.0)\n",
      "        Determine whether two floating point numbers are close in value.\n",
      "\n",
      "          rel_tol\n",
      "            maximum difference for being considered \"close\", relative to the\n",
      "            magnitude of the input values\n",
      "          abs_tol\n",
      "            maximum difference for being considered \"close\", regardless of the\n",
      "            magnitude of the input values\n",
      "\n",
      "        Return True if a is close in value to b, and False otherwise.\n",
      "\n",
      "        For the values to be considered close, the difference between them\n",
      "        must be smaller than at least one of the tolerances.\n",
      "\n",
      "        -inf, inf and NaN behave similarly to the IEEE 754 Standard.  That\n",
      "        is, NaN is not close to anything, even itself.  inf and -inf are\n",
      "        only close to themselves.\n",
      "\n",
      "    isfinite(x, /)\n",
      "        Return True if x is neither an infinity nor a NaN, and False otherwise.\n",
      "\n",
      "    isinf(x, /)\n",
      "        Return True if x is a positive or negative infinity, and False otherwise.\n",
      "\n",
      "    isnan(x, /)\n",
      "        Return True if x is a NaN (not a number), and False otherwise.\n",
      "\n",
      "    isqrt(n, /)\n",
      "        Return the integer part of the square root of the input.\n",
      "\n",
      "    lcm(*integers)\n",
      "        Least Common Multiple.\n",
      "\n",
      "    ldexp(x, i, /)\n",
      "        Return x * (2**i).\n",
      "\n",
      "        This is essentially the inverse of frexp().\n",
      "\n",
      "    lgamma(x, /)\n",
      "        Natural logarithm of absolute value of Gamma function at x.\n",
      "\n",
      "    log(...)\n",
      "        log(x, [base=math.e])\n",
      "        Return the logarithm of x to the given base.\n",
      "\n",
      "        If the base is not specified, returns the natural logarithm (base e) of x.\n",
      "\n",
      "    log10(x, /)\n",
      "        Return the base 10 logarithm of x.\n",
      "\n",
      "    log1p(x, /)\n",
      "        Return the natural logarithm of 1+x (base e).\n",
      "\n",
      "        The result is computed in a way which is accurate for x near zero.\n",
      "\n",
      "    log2(x, /)\n",
      "        Return the base 2 logarithm of x.\n",
      "\n",
      "    modf(x, /)\n",
      "        Return the fractional and integer parts of x.\n",
      "\n",
      "        Both results carry the sign of x and are floats.\n",
      "\n",
      "    nextafter(x, y, /, *, steps=None)\n",
      "        Return the floating-point value the given number of steps after x towards y.\n",
      "\n",
      "        If steps is not specified or is None, it defaults to 1.\n",
      "\n",
      "        Raises a TypeError, if x or y is not a double, or if steps is not an integer.\n",
      "        Raises ValueError if steps is negative.\n",
      "\n",
      "    perm(n, k=None, /)\n",
      "        Number of ways to choose k items from n items without repetition and with order.\n",
      "\n",
      "        Evaluates to n! / (n - k)! when k <= n and evaluates\n",
      "        to zero when k > n.\n",
      "\n",
      "        If k is not specified or is None, then k defaults to n\n",
      "        and the function returns n!.\n",
      "\n",
      "        Raises TypeError if either of the arguments are not integers.\n",
      "        Raises ValueError if either of the arguments are negative.\n",
      "\n",
      "    pow(x, y, /)\n",
      "        Return x**y (x to the power of y).\n",
      "\n",
      "    prod(iterable, /, *, start=1)\n",
      "        Calculate the product of all the elements in the input iterable.\n",
      "\n",
      "        The default start value for the product is 1.\n",
      "\n",
      "        When the iterable is empty, return the start value.  This function is\n",
      "        intended specifically for use with numeric values and may reject\n",
      "        non-numeric types.\n",
      "\n",
      "    radians(x, /)\n",
      "        Convert angle x from degrees to radians.\n",
      "\n",
      "    remainder(x, y, /)\n",
      "        Difference between x and the closest integer multiple of y.\n",
      "\n",
      "        Return x - n*y where n*y is the closest integer multiple of y.\n",
      "        In the case where x is exactly halfway between two multiples of\n",
      "        y, the nearest even value of n is used. The result is always exact.\n",
      "\n",
      "    sin(x, /)\n",
      "        Return the sine of x (measured in radians).\n",
      "\n",
      "    sinh(x, /)\n",
      "        Return the hyperbolic sine of x.\n",
      "\n",
      "    sqrt(x, /)\n",
      "        Return the square root of x.\n",
      "\n",
      "    sumprod(p, q, /)\n",
      "        Return the sum of products of values from two iterables p and q.\n",
      "\n",
      "        Roughly equivalent to:\n",
      "\n",
      "            sum(itertools.starmap(operator.mul, zip(p, q, strict=True)))\n",
      "\n",
      "        For float and mixed int/float inputs, the intermediate products\n",
      "        and sums are computed with extended precision.\n",
      "\n",
      "    tan(x, /)\n",
      "        Return the tangent of x (measured in radians).\n",
      "\n",
      "    tanh(x, /)\n",
      "        Return the hyperbolic tangent of x.\n",
      "\n",
      "    trunc(x, /)\n",
      "        Truncates the Real x to the nearest Integral toward 0.\n",
      "\n",
      "        Uses the __trunc__ magic method.\n",
      "\n",
      "    ulp(x, /)\n",
      "        Return the value of the least significant bit of the float x.\n",
      "\n",
      "DATA\n",
      "    e = 2.718281828459045\n",
      "    inf = inf\n",
      "    nan = nan\n",
      "    pi = 3.141592653589793\n",
      "    tau = 6.283185307179586\n",
      "\n",
      "FILE\n",
      "    (built-in)\n",
      "\n",
      "\n"
     ]
    }
   ],
   "source": [
    "import math\n",
    "help(math)"
   ]
  },
  {
   "cell_type": "code",
   "execution_count": null,
   "id": "d0238479-d00a-43c2-8ba8-3cfa45c1dde2",
   "metadata": {},
   "outputs": [],
   "source": [
    "### import date time\n"
   ]
  },
  {
   "cell_type": "markdown",
   "id": "c6993cc5-ec28-4317-b131-09a8835642f4",
   "metadata": {},
   "source": [
    "import datetime\n",
    "help(datetime)"
   ]
  },
  {
   "cell_type": "code",
   "execution_count": 20,
   "id": "b97e48f5-f786-479c-a116-9c18647132d1",
   "metadata": {},
   "outputs": [
    {
     "name": "stdout",
     "output_type": "stream",
     "text": [
      "2024-03-18\n"
     ]
    }
   ],
   "source": [
    "import datetime\n",
    "print(datetime.date.today())"
   ]
  },
  {
   "cell_type": "code",
   "execution_count": 21,
   "id": "28d8ab80-bbe5-4730-bacc-652e410a7f5d",
   "metadata": {},
   "outputs": [
    {
     "name": "stdout",
     "output_type": "stream",
     "text": [
      "2024-03-18 16:29:14.261378\n"
     ]
    }
   ],
   "source": [
    "import datetime\n",
    "print(datetime.datetime.now())"
   ]
  },
  {
   "cell_type": "code",
   "execution_count": 24,
   "id": "0bd384ec-1622-4da3-9bcd-23fc55e64162",
   "metadata": {},
   "outputs": [
    {
     "name": "stdout",
     "output_type": "stream",
     "text": [
      "time.struct_time(tm_year=2024, tm_mon=3, tm_mday=18, tm_hour=16, tm_min=32, tm_sec=3, tm_wday=0, tm_yday=78, tm_isdst=1)\n"
     ]
    }
   ],
   "source": [
    "import time \n",
    "print(time.localtime())"
   ]
  },
  {
   "cell_type": "code",
   "execution_count": 12,
   "id": "efdb4c39-1ed6-4416-a567-1a98999ee37e",
   "metadata": {},
   "outputs": [
    {
     "ename": "ModuleNotFoundError",
     "evalue": "No module named 'datetme'",
     "output_type": "error",
     "traceback": [
      "\u001b[1;31m---------------------------------------------------------------------------\u001b[0m",
      "\u001b[1;31mModuleNotFoundError\u001b[0m                       Traceback (most recent call last)",
      "Cell \u001b[1;32mIn[12], line 2\u001b[0m\n\u001b[0;32m      1\u001b[0m \u001b[38;5;66;03m### age day\u001b[39;00m\n\u001b[1;32m----> 2\u001b[0m \u001b[38;5;28;01mimport\u001b[39;00m \u001b[38;5;21;01mdatetme\u001b[39;00m\n\u001b[0;32m      3\u001b[0m t_day \u001b[38;5;241m=\u001b[39m datetime\u001b[38;5;241m.\u001b[39mdate\u001b[38;5;241m.\u001b[39mtoday()\n\u001b[0;32m      4\u001b[0m b_day \u001b[38;5;241m=\u001b[39m datetime\u001b[38;5;241m.\u001b[39mdate(\u001b[38;5;241m2003\u001b[39m,\u001b[38;5;241m11\u001b[39m,\u001b[38;5;241m6\u001b[39m)\n",
      "\u001b[1;31mModuleNotFoundError\u001b[0m: No module named 'datetme'"
     ]
    }
   ],
   "source": [
    "### age day\n",
    "import datetme\n",
    "t_day = datetime.date.today()\n",
    "b_day = datetime.date(2003,11,6)\n",
    "print(b_day-t_day)\n"
   ]
  },
  {
   "cell_type": "code",
   "execution_count": 2,
   "id": "d472f8b7-4a6c-4ce7-a79f-9e11b0f5b123",
   "metadata": {},
   "outputs": [
    {
     "name": "stdout",
     "output_type": "stream",
     "text": [
      "40\n"
     ]
    }
   ],
   "source": [
    "a = 5\n",
    "b = 8\n",
    "print(a*b)"
   ]
  },
  {
   "cell_type": "code",
   "execution_count": null,
   "id": "79ac3903-8403-4a5d-9307-f8bf25944e79",
   "metadata": {},
   "outputs": [],
   "source": []
  }
 ],
 "metadata": {
  "kernelspec": {
   "display_name": "Python 3 (ipykernel)",
   "language": "python",
   "name": "python3"
  },
  "language_info": {
   "codemirror_mode": {
    "name": "ipython",
    "version": 3
   },
   "file_extension": ".py",
   "mimetype": "text/x-python",
   "name": "python",
   "nbconvert_exporter": "python",
   "pygments_lexer": "ipython3",
   "version": "3.12.1"
  }
 },
 "nbformat": 4,
 "nbformat_minor": 5
}
