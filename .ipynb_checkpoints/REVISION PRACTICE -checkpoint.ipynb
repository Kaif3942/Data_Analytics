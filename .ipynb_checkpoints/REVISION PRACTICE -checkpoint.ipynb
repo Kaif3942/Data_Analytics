{
 "cells": [
  {
   "cell_type": "markdown",
   "id": "0f80048a-d874-415f-b54d-c4a9f95bea64",
   "metadata": {},
   "source": [
    "## OOPS"
   ]
  },
  {
   "cell_type": "code",
   "execution_count": 23,
   "id": "2291acbb-ff7c-4ed5-a70c-bcc250842f5f",
   "metadata": {},
   "outputs": [
    {
     "data": {
      "text/plain": [
       "3"
      ]
     },
     "execution_count": 23,
     "metadata": {},
     "output_type": "execute_result"
    }
   ],
   "source": [
    "## inheritance\n",
    "## single\n",
    "\n",
    "class mobile():\n",
    "    camera=3\n",
    "    simport=1\n",
    "    def __init__(self,company):\n",
    "        self.company=company\n",
    "    def baterrybackup():\n",
    "        print(\"5 hours\")\n",
    "\n",
    "class iphone(mobile):\n",
    "    def __init__(self,company,foldscreen):\n",
    "          self.foldscreen=foldscreen\n",
    "          mobile.__init__(self,company)\n",
    "samsung=iphone(\"samsung\",True)\n",
    "samsung.camera"
   ]
  },
  {
   "cell_type": "code",
   "execution_count": 25,
   "id": "570d7641-a175-4094-bc49-bbb86a688440",
   "metadata": {},
   "outputs": [
    {
     "data": {
      "text/plain": [
       "'i5'"
      ]
     },
     "execution_count": 25,
     "metadata": {},
     "output_type": "execute_result"
    }
   ],
   "source": [
    "## multi level\n",
    "class laptop():\n",
    "    ram=8\n",
    "    rom=512\n",
    "    screen=16\n",
    "    def __init__(self):\n",
    "        pass\n",
    "\n",
    "class Dell(laptop):\n",
    "    color = \"grey\"\n",
    "    def __init__(self):\n",
    "        laptop.__init__(self)\n",
    "class Latitude(Dell):\n",
    "    processor = \"i5\"\n",
    "    def __init__(self):\n",
    "        Dell.__init__(self)\n",
    "# dell = DELL()\n",
    "# dell.color\n",
    "l=Latitude()\n",
    "l.processor"
   ]
  },
  {
   "cell_type": "code",
   "execution_count": 4,
   "id": "ad356e8f-14bb-4d0f-8e83-18b32c84d3a9",
   "metadata": {},
   "outputs": [
    {
     "ename": "NameError",
     "evalue": "name 'a' is not defined",
     "output_type": "error",
     "traceback": [
      "\u001b[1;31m---------------------------------------------------------------------------\u001b[0m",
      "\u001b[1;31mNameError\u001b[0m                                 Traceback (most recent call last)",
      "Cell \u001b[1;32mIn[4], line 28\u001b[0m\n\u001b[0;32m     26\u001b[0m         subtraction\u001b[38;5;241m.\u001b[39m\u001b[38;5;21m__init__\u001b[39m(\u001b[38;5;28mself\u001b[39m,a,b)\n\u001b[0;32m     27\u001b[0m         multiplication\u001b[38;5;241m.\u001b[39m\u001b[38;5;21m__init__\u001b[39m(\u001b[38;5;28mself\u001b[39m,a,b,c)\n\u001b[1;32m---> 28\u001b[0m cal \u001b[38;5;241m=\u001b[39m Math(\u001b[43ma\u001b[49m,b,c)\n\u001b[0;32m     29\u001b[0m cal\u001b[38;5;241m.\u001b[39mmul(\u001b[38;5;241m6\u001b[39m,\u001b[38;5;241m2\u001b[39m,\u001b[38;5;241m3\u001b[39m)\n",
      "\u001b[1;31mNameError\u001b[0m: name 'a' is not defined"
     ]
    }
   ],
   "source": [
    "### multiple\n",
    "\n",
    "\n",
    "class addition():\n",
    "    def __init__(self,a,b):\n",
    "        self.a=a\n",
    "        self.b=b\n",
    "    def add(self):\n",
    "        return self.a+self.b\n",
    "class subtraction():\n",
    "    def __init__(self,a,b):\n",
    "        self.a=a\n",
    "        self.b=b\n",
    "    def sub(self):\n",
    "        return self.a-self.b\n",
    "class multilipication():\n",
    "    def __init__(self,a,b,c):\n",
    "        self.a=a\n",
    "        self.b=b\n",
    "        self.c=c\n",
    "    def mul(self):\n",
    "        return self.a*self.b*self*c\n",
    "class Math(addition,subtraction,multilipication):\n",
    "    def __init__(self,a,b,c):\n",
    "        addition.__init__(self,a,b)\n",
    "        subtraction.__init__(self,a,b)\n",
    "        multiplication.__init__(self,a,b,c)\n",
    "cal = Math(a,b,c)\n",
    "cal.mul(6,2,3)"
   ]
  },
  {
   "cell_type": "code",
   "execution_count": 32,
   "id": "eb5999b0-42b2-4123-a9bd-02c24be6039b",
   "metadata": {},
   "outputs": [
    {
     "name": "stdout",
     "output_type": "stream",
     "text": [
      "3.142857142857143\n"
     ]
    }
   ],
   "source": [
    "a =22/7\n",
    "print(a)"
   ]
  },
  {
   "cell_type": "markdown",
   "id": "ef68d872-d2a2-4393-ad15-34e4c4cb72c2",
   "metadata": {},
   "source": [
    "### Write a Python program to create a class representing a bank. Include methods for managing customer accounts and transactions."
   ]
  },
  {
   "cell_type": "code",
   "execution_count": 28,
   "id": "3cf6b13f-7d14-4b19-b29c-97a2e58759f1",
   "metadata": {},
   "outputs": [
    {
     "name": "stdout",
     "output_type": "stream",
     "text": [
      "Acc no: abc-123 deposite amt: 1000\n",
      "acc created\n",
      "acc no: abc-123 add deposite amt: 1000\n",
      "acc no does not exist\n",
      "acc no: abc-123 withdrawl amt: 400\n",
      "acc no does not exist\n"
     ]
    }
   ],
   "source": [
    "class Bank():\n",
    "    def __init__(self):\n",
    "        self.customer={}\n",
    "    def create_acc(self,account_no,initial_balance=0):\n",
    "        if account_no in self.customer:\n",
    "            print(\"acc no already exist\")\n",
    "        else:\n",
    "            print(\"acc created\")\n",
    "    def make_deposit(self,account_no,ammount):\n",
    "        if account_no in self.customer:\n",
    "            self.customer[account_no] +=ammount\n",
    "            print(\"deposite succesfully\")\n",
    "        else:\n",
    "            print(\"acc no does not exist\")\n",
    "    def make_withdrawl(self,account_no,ammount):\n",
    "        if account_no in self.customer:\n",
    "            if self.customer[account_no] >=ammount:\n",
    "                self.customer[account_no] -=ammount\n",
    "                print(\"withdrawl succesfull\")\n",
    "        else:\n",
    "            print(\"acc no does not exist\")\n",
    "    def check_balance(self,account_no):\n",
    "         if account_no in self.customer:\n",
    "             balance = self.customer[account_no]\n",
    "             print(\"Account balance:{balance}\")\n",
    "         else:\n",
    "            print(\"acc no does not exist\")\n",
    "bank = Bank()\n",
    "a = \"abc-123\"\n",
    "b = 1000\n",
    "print(\"Acc no:\",a,\"deposite amt:\",b)\n",
    "bank.create_acc(a,b)\n",
    "\n",
    "\n",
    "d = 1000\n",
    "print(\"acc no:\",a, \"add deposite amt:\",d)\n",
    "bank.make_deposit(a,d)\n",
    "\n",
    "e = 400\n",
    "print(\"acc no:\",a, \"withdrawl amt:\",e)\n",
    "bank.make_withdrawl(a,e)\n",
    "\n",
    "            \n",
    "         \n",
    "            \n",
    "            \n",
    "            \n",
    "        \n",
    "        "
   ]
  },
  {
   "cell_type": "markdown",
   "id": "63372482-7c90-4a31-95fa-c9d029e91949",
   "metadata": {},
   "source": [
    "## calculator class"
   ]
  },
  {
   "cell_type": "code",
   "execution_count": 35,
   "id": "79fae397-d0eb-48de-80c0-ba271bfe978f",
   "metadata": {},
   "outputs": [
    {
     "name": "stdout",
     "output_type": "stream",
     "text": [
      "add two no : 11\n",
      "subtract two no : 9\n",
      "multiply three no : 60\n",
      "Divide two no : zero in dinomonator\n"
     ]
    }
   ],
   "source": [
    "class calculator():\n",
    "    def add(self,a,b):\n",
    "        return a+b\n",
    "    def sub(self,a,b):\n",
    "        return a-b\n",
    "    def mul(self,a,b,c):\n",
    "        return a*b*c\n",
    "    def div(self,a,b):\n",
    "        if b!=0:\n",
    "            return a/b\n",
    "        else:\n",
    "             return(\"zero in dinomonator\")\n",
    "cal=calculator()\n",
    "a=cal.add(5,6)\n",
    "print(\"add two no :\",a)\n",
    "a=cal.sub(14,5)\n",
    "print(\"subtract two no :\",a)\n",
    "a=cal.mul(5,6,2)\n",
    "print(\"multiply three no :\",a)\n",
    "a=cal.div(5,0)\n",
    "print(\"Divide two no :\",a)\n",
    "\n",
    "    \n",
    "    "
   ]
  },
  {
   "cell_type": "markdown",
   "id": "40cc0c34-54a1-4940-b653-52358316af0c",
   "metadata": {},
   "source": [
    "calculate arae and parameter of rectangle,triangle,square\n",
    "\n"
   ]
  },
  {
   "cell_type": "code",
   "execution_count": 21,
   "id": "2c23c853-d597-426d-b26c-4b37cc358370",
   "metadata": {},
   "outputs": [
    {
     "name": "stdout",
     "output_type": "stream",
     "text": [
      "area of raectangle: 30\n",
      "parameter of rectangle : 22\n",
      "area of square: 32\n",
      "parameter of square: 64\n"
     ]
    }
   ],
   "source": [
    "class Shape():\n",
    "    def calculate_area(self):\n",
    "        pass\n",
    "    def caculate_parameter(self):\n",
    "        pass\n",
    "\n",
    "class rectangle(Shape):\n",
    "\n",
    "    def __init__(self,length,breath):\n",
    "        self.length = length\n",
    "        self.breath = breath\n",
    "\n",
    "    def calculate_area(self):\n",
    "        return self.length*self.breath\n",
    "        \n",
    "    def calculate_parameter(self):\n",
    "        return 2*(self.length+self.breath)\n",
    "\n",
    "class square(Shape):\n",
    "\n",
    "    def __init__(self,side):\n",
    "        self.side  = side\n",
    "\n",
    "    def calculate_area(self):\n",
    "        return 4*self.side\n",
    "\n",
    "    def calculate_parameter(self):\n",
    "        return self.side*self.side\n",
    "    \n",
    "\n",
    "### object of rectangle\n",
    "\n",
    "a = 5\n",
    "b = 6\n",
    "cal = rectangle(a,b)\n",
    "A = cal.calculate_area()\n",
    "print(\"area of raectangle:\",A)\n",
    "B = cal.calculate_parameter()\n",
    "print(\"parameter of rectangle :\",B)\n",
    "\n",
    "## object of square\n",
    "\n",
    "a = 8\n",
    "cal = square(a)\n",
    "A = cal.calculate_area()\n",
    "B = cal.calculate_parameter()\n",
    "print(\"area of square:\",A)\n",
    "print(\"parameter of square:\",B)\n",
    "\n",
    "\n",
    "\n",
    "\n",
    "        \n",
    "    "
   ]
  },
  {
   "cell_type": "markdown",
   "id": "5032e6db-829b-46bc-9ceb-3e3d1a360ea4",
   "metadata": {},
   "source": [
    "## TRY AND EXCEPT "
   ]
  },
  {
   "cell_type": "code",
   "execution_count": 37,
   "id": "f9946833-bc4c-4945-82a5-da62cd3f3ebc",
   "metadata": {},
   "outputs": [
    {
     "name": "stdout",
     "output_type": "stream",
     "text": [
      "indexing is not valid\n",
      "succesfuly run\n"
     ]
    }
   ],
   "source": [
    "try:\n",
    "    a = \"mohdKaif\"\n",
    "    b = len(a)\n",
    "    c = a[9]\n",
    "    print(c)\n",
    "except IndexError:\n",
    "    print(\"indexing is not valid\")\n",
    "finally:\n",
    "    print(\"succesfuly run\")\n",
    "    \n",
    "         \n"
   ]
  },
  {
   "cell_type": "code",
   "execution_count": 41,
   "id": "149c34c5-d8c7-44d9-94bd-b679809df14b",
   "metadata": {},
   "outputs": [
    {
     "name": "stdout",
     "output_type": "stream",
     "text": [
      "can't add in to string\n",
      "succesfully run\n"
     ]
    }
   ],
   "source": [
    "try:\n",
    "    a = \"agvavag\"\n",
    "    b = a + 45\n",
    "    print(b)\n",
    "except Exception:\n",
    "    print(\"can't add in to string\")\n",
    "finally:\n",
    "    print(\"succesfully run\")"
   ]
  },
  {
   "cell_type": "code",
   "execution_count": 43,
   "id": "0b3b244c-a7d6-4a63-9377-67c810a89bd8",
   "metadata": {},
   "outputs": [
    {
     "name": "stdout",
     "output_type": "stream",
     "text": [
      "this variable is not defined\n",
      "succesfully run\n"
     ]
    }
   ],
   "source": [
    "try:\n",
    "    k = 12\n",
    "    c = 13\n",
    "    print(f)\n",
    "except NameError:\n",
    "    print(\"this variable is not defined\")\n",
    "finally:\n",
    "    print(\"succesfully run\")"
   ]
  },
  {
   "cell_type": "code",
   "execution_count": 45,
   "id": "b5d8a69e-9c14-4f01-a7fc-d6d730c5e422",
   "metadata": {},
   "outputs": [
    {
     "name": "stdout",
     "output_type": "stream",
     "text": [
      "2.0\n"
     ]
    }
   ],
   "source": [
    "def divide(a, b):\n",
    "    try:\n",
    "        return a / b\n",
    "    except ZeroDivisionError:\n",
    "        print(\"Division by zero!\")\n",
    "        return None\n",
    "\n",
    "print(divide(10, 5))"
   ]
  },
  {
   "cell_type": "code",
   "execution_count": 55,
   "id": "d81f17a9-8014-4119-ba73-f0f9ea9e5f21",
   "metadata": {},
   "outputs": [
    {
     "name": "stdin",
     "output_type": "stream",
     "text": [
      "enter no 5\n",
      "enter no g\n"
     ]
    },
    {
     "ename": "ValueError",
     "evalue": "invalid literal for int() with base 10: 'g'",
     "output_type": "error",
     "traceback": [
      "\u001b[1;31m---------------------------------------------------------------------------\u001b[0m",
      "\u001b[1;31mValueError\u001b[0m                                Traceback (most recent call last)",
      "Cell \u001b[1;32mIn[55], line 9\u001b[0m\n\u001b[0;32m      6\u001b[0m         \u001b[38;5;28;01mreturn\u001b[39;00m \u001b[38;5;28;01mNone\u001b[39;00m\n\u001b[0;32m      8\u001b[0m a \u001b[38;5;241m=\u001b[39m \u001b[38;5;28mint\u001b[39m(\u001b[38;5;28minput\u001b[39m(\u001b[38;5;124m\"\u001b[39m\u001b[38;5;124menter no\u001b[39m\u001b[38;5;124m\"\u001b[39m))\n\u001b[1;32m----> 9\u001b[0m b \u001b[38;5;241m=\u001b[39m \u001b[38;5;28;43mint\u001b[39;49m\u001b[43m(\u001b[49m\u001b[38;5;28;43minput\u001b[39;49m\u001b[43m(\u001b[49m\u001b[38;5;124;43m\"\u001b[39;49m\u001b[38;5;124;43menter no\u001b[39;49m\u001b[38;5;124;43m\"\u001b[39;49m\u001b[43m)\u001b[49m\u001b[43m)\u001b[49m\n\u001b[0;32m     10\u001b[0m \u001b[38;5;28mprint\u001b[39m(divide(a,b))\n",
      "\u001b[1;31mValueError\u001b[0m: invalid literal for int() with base 10: 'g'"
     ]
    }
   ],
   "source": [
    "def divide(a, b):\n",
    "    try:\n",
    "        return a / b\n",
    "    except ValueError:\n",
    "        print(\"division is not possible by str\")\n",
    "        return None\n",
    "\n",
    "a = int(input(\"enter no\"))\n",
    "b = int(input(\"enter no\"))\n",
    "print(divide(a,b))"
   ]
  },
  {
   "cell_type": "code",
   "execution_count": null,
   "id": "5413e2d9-4ea3-4604-8ae7-961e16c0e16b",
   "metadata": {},
   "outputs": [],
   "source": []
  },
  {
   "cell_type": "code",
   "execution_count": null,
   "id": "4561c5b6-b87e-489e-9cf7-23b0562438d0",
   "metadata": {},
   "outputs": [],
   "source": []
  }
 ],
 "metadata": {
  "kernelspec": {
   "display_name": "Python 3 (ipykernel)",
   "language": "python",
   "name": "python3"
  },
  "language_info": {
   "codemirror_mode": {
    "name": "ipython",
    "version": 3
   },
   "file_extension": ".py",
   "mimetype": "text/x-python",
   "name": "python",
   "nbconvert_exporter": "python",
   "pygments_lexer": "ipython3",
   "version": "3.12.1"
  }
 },
 "nbformat": 4,
 "nbformat_minor": 5
}
